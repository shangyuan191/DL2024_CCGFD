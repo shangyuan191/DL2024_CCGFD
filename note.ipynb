{
 "cells": [
  {
   "cell_type": "code",
   "execution_count": 8,
   "metadata": {},
   "outputs": [],
   "source": [
    "import argparse\n",
    "\n",
    "\n",
    "parser = argparse.ArgumentParser(description='GGD Anomaly')\n",
    "parser.add_argument('--dataset', type=str, default='Flickr')\n",
    "parser.add_argument('--lr', type=float, default=5e-4)\n",
    "parser.add_argument('--alpha', type=float, default=0.3)\n",
    "parser.add_argument('--gamma', type=float, default=0.4)\n",
    "\n",
    "args = vars(parser.parse_args([]))"
   ]
  },
  {
   "cell_type": "code",
   "execution_count": 9,
   "metadata": {},
   "outputs": [
    {
     "name": "stdout",
     "output_type": "stream",
     "text": [
      "{'dataset': 'Flickr', 'lr': 0.0005, 'alpha': 0.3, 'gamma': 0.4}\n"
     ]
    }
   ],
   "source": [
    "print(args)"
   ]
  },
  {
   "cell_type": "code",
   "execution_count": 10,
   "metadata": {},
   "outputs": [],
   "source": [
    "import yaml\n",
    "\n",
    "with open('./config.yaml', 'r') as f:\n",
    "    config = yaml.safe_load(f)\n",
    "\n",
    "args.update(config)"
   ]
  },
  {
   "cell_type": "code",
   "execution_count": 11,
   "metadata": {},
   "outputs": [
    {
     "name": "stdout",
     "output_type": "stream",
     "text": [
      "{'dataset': 'Flickr', 'lr': 0.0005, 'alpha': 0.3, 'gamma': 0.4, 'ckpt_path': './ckpt'}\n"
     ]
    }
   ],
   "source": [
    "print(args)"
   ]
  }
 ],
 "metadata": {
  "kernelspec": {
   "display_name": "let2",
   "language": "python",
   "name": "python3"
  },
  "language_info": {
   "codemirror_mode": {
    "name": "ipython",
    "version": 3
   },
   "file_extension": ".py",
   "mimetype": "text/x-python",
   "name": "python",
   "nbconvert_exporter": "python",
   "pygments_lexer": "ipython3",
   "version": "3.9.19"
  }
 },
 "nbformat": 4,
 "nbformat_minor": 2
}
