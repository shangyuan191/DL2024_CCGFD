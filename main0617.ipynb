{
 "cells": [
  {
   "cell_type": "code",
   "execution_count": 8,
   "metadata": {},
   "outputs": [
    {
     "name": "stdout",
     "output_type": "stream",
     "text": [
      "mkdir: cannot create directory ‘graph’: File exists\n",
      "mkdir: cannot create directory ‘plot_G’: File exists\n",
      "mkdir: cannot create directory ‘experiments_plt’: File exists\n",
      "mkdir: cannot create directory ‘graph/test’: File exists\n",
      "mkdir: cannot create directory ‘graph/train’: File exists\n"
     ]
    }
   ],
   "source": [
    "!mkdir graph\n",
    "!mkdir plot_G\n",
    "!mkdir experiments_plt\n",
    "!mkdir graph/test\n",
    "!mkdir graph/train"
   ]
  },
  {
   "cell_type": "code",
   "execution_count": 9,
   "metadata": {},
   "outputs": [],
   "source": [
    "import csv\n",
    "import pandas as pd\n",
    "import numpy as np\n",
    "from tqdm import tqdm"
   ]
  },
  {
   "cell_type": "code",
   "execution_count": 10,
   "metadata": {},
   "outputs": [],
   "source": [
    "# 讀csv，回傳data frame\n",
    "def DataLoader(file_name):\n",
    "    df=pd.read_csv(file_name)\n",
    "    print(df.shape)\n",
    "    print(df.columns)\n",
    "    return df"
   ]
  },
  {
   "cell_type": "code",
   "execution_count": 11,
   "metadata": {},
   "outputs": [
    {
     "name": "stdout",
     "output_type": "stream",
     "text": [
      "(284807, 31)\n",
      "Index(['Time', 'V1', 'V2', 'V3', 'V4', 'V5', 'V6', 'V7', 'V8', 'V9', 'V10',\n",
      "       'V11', 'V12', 'V13', 'V14', 'V15', 'V16', 'V17', 'V18', 'V19', 'V20',\n",
      "       'V21', 'V22', 'V23', 'V24', 'V25', 'V26', 'V27', 'V28', 'Amount',\n",
      "       'Class'],\n",
      "      dtype='object')\n"
     ]
    }
   ],
   "source": [
    "\n",
    "df=DataLoader('creditcard.csv')\n"
   ]
  },
  {
   "cell_type": "code",
   "execution_count": 12,
   "metadata": {},
   "outputs": [],
   "source": [
    "from sklearn.metrics.pairwise import cosine_similarity\n",
    "from sklearn.preprocessing import StandardScaler"
   ]
  },
  {
   "cell_type": "code",
   "execution_count": 13,
   "metadata": {},
   "outputs": [],
   "source": [
    "# 10:1的資料\n",
    "def data_sampling(df):\n",
    "    # print(df)\n",
    "    fraud_data=df[df['Class']==1]\n",
    "    normal_data=df[df['Class']==0].sample(n=len(fraud_data)*10,random_state=42)\n",
    "    \n",
    "    selected_df_eval=pd.concat([normal_data[:int(len(normal_data)*0.5)],fraud_data[:int(len(fraud_data)*0.5)]])\n",
    "    selected_df_train=pd.concat([normal_data[int(len(normal_data)*0.5):],fraud_data[int(len(fraud_data)*0.5):]])\n",
    "    \n",
    "    selected_df_train.reset_index(drop=True,inplace=True)\n",
    "    selected_df_eval.reset_index(drop=True,inplace=True)\n",
    "    \n",
    "    return selected_df_train, selected_df_eval"
   ]
  },
  {
   "cell_type": "code",
   "execution_count": 14,
   "metadata": {},
   "outputs": [],
   "source": [
    "df_train, df_eval=data_sampling(df)"
   ]
  },
  {
   "cell_type": "code",
   "execution_count": 15,
   "metadata": {},
   "outputs": [],
   "source": [
    "# 標準化\n",
    "def data_standardization(df):\n",
    "    # 假設 df 是你的 DataFrame，columns 是要標準化的欄位名稱列表\n",
    "    columns_to_normalize = ['Time', 'Amount']  # 填入要標準化的欄位名稱\n",
    "    # 初始化 StandardScaler 物件\n",
    "    scaler = StandardScaler()\n",
    "    # 對指定列進行標準化\n",
    "    df[columns_to_normalize] = scaler.fit_transform(df[columns_to_normalize])\n",
    "    return df\n",
    "\n"
   ]
  },
  {
   "cell_type": "code",
   "execution_count": 16,
   "metadata": {},
   "outputs": [],
   "source": [
    "df_train=data_standardization(df_train)\n",
    "df_eval=data_standardization(df_eval)"
   ]
  },
  {
   "cell_type": "code",
   "execution_count": 17,
   "metadata": {},
   "outputs": [],
   "source": [
    "df_train=df_train.drop('Time', axis=1)\n",
    "df_eval=df_eval.drop('Time', axis=1)"
   ]
  },
  {
   "cell_type": "code",
   "execution_count": 18,
   "metadata": {},
   "outputs": [
    {
     "data": {
      "text/html": [
       "<div>\n",
       "<style scoped>\n",
       "    .dataframe tbody tr th:only-of-type {\n",
       "        vertical-align: middle;\n",
       "    }\n",
       "\n",
       "    .dataframe tbody tr th {\n",
       "        vertical-align: top;\n",
       "    }\n",
       "\n",
       "    .dataframe thead th {\n",
       "        text-align: right;\n",
       "    }\n",
       "</style>\n",
       "<table border=\"1\" class=\"dataframe\">\n",
       "  <thead>\n",
       "    <tr style=\"text-align: right;\">\n",
       "      <th></th>\n",
       "      <th>V1</th>\n",
       "      <th>V2</th>\n",
       "      <th>V3</th>\n",
       "      <th>V4</th>\n",
       "      <th>V5</th>\n",
       "      <th>V6</th>\n",
       "      <th>V7</th>\n",
       "      <th>V8</th>\n",
       "      <th>V9</th>\n",
       "      <th>V10</th>\n",
       "      <th>...</th>\n",
       "      <th>V21</th>\n",
       "      <th>V22</th>\n",
       "      <th>V23</th>\n",
       "      <th>V24</th>\n",
       "      <th>V25</th>\n",
       "      <th>V26</th>\n",
       "      <th>V27</th>\n",
       "      <th>V28</th>\n",
       "      <th>Amount</th>\n",
       "      <th>Class</th>\n",
       "    </tr>\n",
       "  </thead>\n",
       "  <tbody>\n",
       "    <tr>\n",
       "      <th>0</th>\n",
       "      <td>1.856278</td>\n",
       "      <td>-0.656940</td>\n",
       "      <td>-3.544856</td>\n",
       "      <td>-0.708945</td>\n",
       "      <td>2.754094</td>\n",
       "      <td>2.958646</td>\n",
       "      <td>0.220757</td>\n",
       "      <td>0.523602</td>\n",
       "      <td>0.018137</td>\n",
       "      <td>0.113232</td>\n",
       "      <td>...</td>\n",
       "      <td>0.171341</td>\n",
       "      <td>0.283230</td>\n",
       "      <td>-0.101464</td>\n",
       "      <td>0.797428</td>\n",
       "      <td>0.339421</td>\n",
       "      <td>0.834470</td>\n",
       "      <td>-0.127833</td>\n",
       "      <td>-0.070559</td>\n",
       "      <td>0.191774</td>\n",
       "      <td>0</td>\n",
       "    </tr>\n",
       "    <tr>\n",
       "      <th>1</th>\n",
       "      <td>-0.291996</td>\n",
       "      <td>1.203453</td>\n",
       "      <td>0.606774</td>\n",
       "      <td>0.804202</td>\n",
       "      <td>-0.015853</td>\n",
       "      <td>-0.332267</td>\n",
       "      <td>0.269674</td>\n",
       "      <td>0.406551</td>\n",
       "      <td>-0.993726</td>\n",
       "      <td>-0.207271</td>\n",
       "      <td>...</td>\n",
       "      <td>0.207567</td>\n",
       "      <td>0.505082</td>\n",
       "      <td>-0.116868</td>\n",
       "      <td>0.024480</td>\n",
       "      <td>-0.107718</td>\n",
       "      <td>-0.326300</td>\n",
       "      <td>-0.044924</td>\n",
       "      <td>-0.030973</td>\n",
       "      <td>-0.340258</td>\n",
       "      <td>0</td>\n",
       "    </tr>\n",
       "    <tr>\n",
       "      <th>2</th>\n",
       "      <td>-0.822794</td>\n",
       "      <td>-0.882761</td>\n",
       "      <td>-0.059921</td>\n",
       "      <td>-3.563277</td>\n",
       "      <td>1.119729</td>\n",
       "      <td>3.644788</td>\n",
       "      <td>0.692235</td>\n",
       "      <td>0.379567</td>\n",
       "      <td>-2.715679</td>\n",
       "      <td>0.868145</td>\n",
       "      <td>...</td>\n",
       "      <td>-0.694102</td>\n",
       "      <td>-1.798370</td>\n",
       "      <td>0.167662</td>\n",
       "      <td>0.903196</td>\n",
       "      <td>0.276168</td>\n",
       "      <td>-0.741111</td>\n",
       "      <td>-0.182870</td>\n",
       "      <td>-0.173347</td>\n",
       "      <td>0.721310</td>\n",
       "      <td>0</td>\n",
       "    </tr>\n",
       "    <tr>\n",
       "      <th>3</th>\n",
       "      <td>-0.397195</td>\n",
       "      <td>1.094436</td>\n",
       "      <td>-0.564145</td>\n",
       "      <td>0.727289</td>\n",
       "      <td>0.508478</td>\n",
       "      <td>-1.013828</td>\n",
       "      <td>1.045787</td>\n",
       "      <td>0.204839</td>\n",
       "      <td>-0.455623</td>\n",
       "      <td>-0.490504</td>\n",
       "      <td>...</td>\n",
       "      <td>0.218438</td>\n",
       "      <td>0.524905</td>\n",
       "      <td>-0.097513</td>\n",
       "      <td>-0.137886</td>\n",
       "      <td>-0.311263</td>\n",
       "      <td>-0.535915</td>\n",
       "      <td>0.072928</td>\n",
       "      <td>0.136157</td>\n",
       "      <td>-0.233699</td>\n",
       "      <td>0</td>\n",
       "    </tr>\n",
       "    <tr>\n",
       "      <th>4</th>\n",
       "      <td>1.004211</td>\n",
       "      <td>0.005801</td>\n",
       "      <td>1.410018</td>\n",
       "      <td>1.375881</td>\n",
       "      <td>-0.741639</td>\n",
       "      <td>0.297069</td>\n",
       "      <td>-0.734505</td>\n",
       "      <td>0.215221</td>\n",
       "      <td>1.477864</td>\n",
       "      <td>-0.259607</td>\n",
       "      <td>...</td>\n",
       "      <td>0.068933</td>\n",
       "      <td>0.393614</td>\n",
       "      <td>0.014016</td>\n",
       "      <td>0.152068</td>\n",
       "      <td>0.170970</td>\n",
       "      <td>-0.403956</td>\n",
       "      <td>0.041086</td>\n",
       "      <td>0.029306</td>\n",
       "      <td>-0.183591</td>\n",
       "      <td>0</td>\n",
       "    </tr>\n",
       "  </tbody>\n",
       "</table>\n",
       "<p>5 rows × 30 columns</p>\n",
       "</div>"
      ],
      "text/plain": [
       "         V1        V2        V3        V4        V5        V6        V7  \\\n",
       "0  1.856278 -0.656940 -3.544856 -0.708945  2.754094  2.958646  0.220757   \n",
       "1 -0.291996  1.203453  0.606774  0.804202 -0.015853 -0.332267  0.269674   \n",
       "2 -0.822794 -0.882761 -0.059921 -3.563277  1.119729  3.644788  0.692235   \n",
       "3 -0.397195  1.094436 -0.564145  0.727289  0.508478 -1.013828  1.045787   \n",
       "4  1.004211  0.005801  1.410018  1.375881 -0.741639  0.297069 -0.734505   \n",
       "\n",
       "         V8        V9       V10  ...       V21       V22       V23       V24  \\\n",
       "0  0.523602  0.018137  0.113232  ...  0.171341  0.283230 -0.101464  0.797428   \n",
       "1  0.406551 -0.993726 -0.207271  ...  0.207567  0.505082 -0.116868  0.024480   \n",
       "2  0.379567 -2.715679  0.868145  ... -0.694102 -1.798370  0.167662  0.903196   \n",
       "3  0.204839 -0.455623 -0.490504  ...  0.218438  0.524905 -0.097513 -0.137886   \n",
       "4  0.215221  1.477864 -0.259607  ...  0.068933  0.393614  0.014016  0.152068   \n",
       "\n",
       "        V25       V26       V27       V28    Amount  Class  \n",
       "0  0.339421  0.834470 -0.127833 -0.070559  0.191774      0  \n",
       "1 -0.107718 -0.326300 -0.044924 -0.030973 -0.340258      0  \n",
       "2  0.276168 -0.741111 -0.182870 -0.173347  0.721310      0  \n",
       "3 -0.311263 -0.535915  0.072928  0.136157 -0.233699      0  \n",
       "4  0.170970 -0.403956  0.041086  0.029306 -0.183591      0  \n",
       "\n",
       "[5 rows x 30 columns]"
      ]
     },
     "execution_count": 18,
     "metadata": {},
     "output_type": "execute_result"
    }
   ],
   "source": [
    "df_train.head()"
   ]
  },
  {
   "cell_type": "code",
   "execution_count": 19,
   "metadata": {},
   "outputs": [],
   "source": [
    "def calculate_cosine_similarity(df, type):\n",
    "    features=df.drop(\"Class\",axis=1)\n",
    "    cos_sim=cosine_similarity(features)\n",
    "    np.save(\"cos_sim_\"+type+\".npy\",cos_sim)\n",
    "    print(\"Cosine similarity calculation completed and saved.\") \n",
    "\n"
   ]
  },
  {
   "cell_type": "code",
   "execution_count": 20,
   "metadata": {},
   "outputs": [
    {
     "name": "stdout",
     "output_type": "stream",
     "text": [
      "Cosine similarity calculation completed and saved.\n",
      "Cosine similarity calculation completed and saved.\n"
     ]
    }
   ],
   "source": [
    "calculate_cosine_similarity(df_train, \"train\")\n",
    "calculate_cosine_similarity(df_eval, \"eval\")"
   ]
  },
  {
   "cell_type": "code",
   "execution_count": 21,
   "metadata": {},
   "outputs": [],
   "source": [
    "cos_sim_train=np.load(\"cos_sim_train.npy\")\n",
    "cos_sim_eval=np.load(\"cos_sim_eval.npy\")"
   ]
  },
  {
   "cell_type": "code",
   "execution_count": 22,
   "metadata": {},
   "outputs": [],
   "source": [
    "def cos_sim_describe(cos_sim):\n",
    "    # 計算每一列的統計量\n",
    "    max_values = np.max(cos_sim, axis=1)\n",
    "    min_values = np.min(cos_sim, axis=1)\n",
    "    median_values = np.median(cos_sim, axis=1)\n",
    "    mean_values = np.mean(cos_sim, axis=1)\n",
    "    std_values = np.std(cos_sim, axis=1)\n",
    "\n",
    "    # 對這些統計量再次計算統計量\n",
    "    stats_max = np.max(max_values)\n",
    "    stats_min = np.min(min_values)\n",
    "    stats_median = np.median(median_values)\n",
    "    stats_mean = np.mean(mean_values)\n",
    "    stats_std = np.std(std_values)\n",
    "\n",
    "    # 印出結果\n",
    "    print(\"Statistics of row statistics:\")\n",
    "    print(\"  Max:\", stats_max)\n",
    "    print(\"  Min:\", stats_min)\n",
    "    print(\"  Median:\", stats_median)\n",
    "    print(\"  Mean:\", stats_mean)\n",
    "    print(\"  Std:\", stats_std)\n",
    "    cos_sim_dict={'max':stats_max,'min':stats_min,'median':stats_median\n",
    "                  ,'mean':stats_mean,'std':stats_std}\n",
    "    return cos_sim_dict"
   ]
  },
  {
   "cell_type": "code",
   "execution_count": 23,
   "metadata": {},
   "outputs": [
    {
     "name": "stdout",
     "output_type": "stream",
     "text": [
      "Statistics of row statistics:\n",
      "  Max: 1.0000000000000009\n",
      "  Min: -0.8646520723968542\n",
      "  Median: -0.02001593235914521\n",
      "  Mean: 0.009097611393020816\n",
      "  Std: 0.0309385517236969\n",
      "{'max': 1.0000000000000009, 'min': -0.8646520723968542, 'median': -0.02001593235914521, 'mean': 0.009097611393020816, 'std': 0.0309385517236969}\n"
     ]
    }
   ],
   "source": [
    "cos_sim_dict_train=cos_sim_describe(cos_sim_train)\n",
    "print(cos_sim_dict_train)"
   ]
  },
  {
   "cell_type": "code",
   "execution_count": 24,
   "metadata": {},
   "outputs": [
    {
     "name": "stdout",
     "output_type": "stream",
     "text": [
      "Statistics of row statistics:\n",
      "  Max: 1.0000000000000009\n",
      "  Min: -0.8468720478869846\n",
      "  Median: -0.02354050909169116\n",
      "  Mean: 0.007809611367936981\n",
      "  Std: 0.03058889019504797\n",
      "{'max': 1.0000000000000009, 'min': -0.8468720478869846, 'median': -0.02354050909169116, 'mean': 0.007809611367936981, 'std': 0.03058889019504797}\n"
     ]
    }
   ],
   "source": [
    "cos_sim_dict_eval =cos_sim_describe(cos_sim_eval)\n",
    "print(cos_sim_dict_eval)"
   ]
  },
  {
   "cell_type": "code",
   "execution_count": 25,
   "metadata": {},
   "outputs": [],
   "source": [
    "## graph construction\n",
    "import networkx as nx"
   ]
  },
  {
   "cell_type": "code",
   "execution_count": 26,
   "metadata": {},
   "outputs": [],
   "source": [
    "def graph_construction(cos_sim,df,threshold):\n",
    "    G=nx.Graph()\n",
    "    for i in tqdm(range(cos_sim.shape[0]),desc=\"Add nodes into G...\"):\n",
    "        node_name=i\n",
    "        feature=(df.iloc[i]).to_dict()\n",
    "        G.add_node(node_name,**feature)\n",
    "\n",
    "    for i in tqdm(range(cos_sim.shape[0]),desc=\"Graph Construction...\"):\n",
    "        for j in range(i+1,cos_sim.shape[1]):\n",
    "            if cos_sim[i,j]>threshold:\n",
    "                G.add_edge(i,j)\n",
    "    return G\n"
   ]
  },
  {
   "cell_type": "code",
   "execution_count": 27,
   "metadata": {},
   "outputs": [],
   "source": [
    "from collections import Counter\n",
    "def graph_describe(G,round_digit):\n",
    "    density=2*G.number_of_edges()/(G.number_of_nodes()*(G.number_of_nodes()-1))\n",
    "    # 获取节点的度数\n",
    "    degrees = [degree for node, degree in G.degree()]\n",
    "    # 计算统计指标\n",
    "    mean_degree = np.mean(degrees)\n",
    "    median_degree = np.median(degrees)\n",
    "    std_degree = np.std(degrees)\n",
    "    max_degree = np.max(degrees)\n",
    "    min_degree = np.min(degrees)\n",
    "    \n",
    "    edge_consistency={}\n",
    "    fraud_node_set=set()\n",
    "    for edge in tqdm(G.edges(),desc=\"Check edge consistent...\"):\n",
    "        node1_class=G.nodes[edge[0]]['Class']\n",
    "        node2_class=G.nodes[edge[1]]['Class']\n",
    "\n",
    "        if node1_class==node2_class:\n",
    "            edge_consistency[edge]=1\n",
    "        else:\n",
    "            edge_consistency[edge]=0\n",
    "\n",
    "    value_counts=Counter(edge_consistency.values())\n",
    "    ratio=value_counts[0]/G.number_of_edges()\n",
    "    return G.number_of_nodes(),G.number_of_edges(),density,mean_degree,median_degree,std_degree,max_degree,min_degree,ratio"
   ]
  },
  {
   "cell_type": "code",
   "execution_count": 28,
   "metadata": {},
   "outputs": [],
   "source": [
    "import pickle\n",
    "\n",
    "def save_graph(name, G):\n",
    "    # save graph object to file\n",
    "    pickle.dump(G, open(\"graph/\"+name+'.pickle', 'wb'))\n",
    "\n",
    "def load_graph(name, G):\n",
    "    # load graph object from file\n",
    "    G = pickle.load(open(\"graph/\"+name+'.pickle', 'rb'))\n",
    "    return G"
   ]
  },
  {
   "cell_type": "code",
   "execution_count": 29,
   "metadata": {},
   "outputs": [],
   "source": [
    "def data_construction(type, cos_sim, cos_sim_dict_train):\n",
    "    data_dic={'threshold':[],'number_of_nodes':[],'number_of_edges':[],'density':[]\n",
    "              ,'mean_degree':[],'median_degree':[],'std_of_degree':[],'max_degree':[]\n",
    "              ,'min_degree':[],'ratio_of_heterogeneous':[]}\n",
    "    graph=[]\n",
    "    for factor in range(31):\n",
    "        # threshold\n",
    "        threshold=cos_sim_dict_train['median']+factor*cos_sim_dict_train['std']\n",
    "        data_dic['threshold'].append(threshold)\n",
    "        G=graph_construction(cos_sim,df,threshold)\n",
    "        graph.append(G)\n",
    "        # 存graph\n",
    "        save_graph(type+\"/\"+str(threshold), G)\n",
    "        \n",
    "        non,noe,d,meand,medd,stdd,maxd,mind,ratio=graph_describe(G,3)\n",
    "        data_dic['number_of_nodes'].append(non)\n",
    "        data_dic['number_of_edges'].append(noe)\n",
    "        data_dic['density'].append(d)\n",
    "        data_dic['mean_degree'].append(meand)\n",
    "        data_dic['median_degree'].append(medd)\n",
    "        data_dic['std_of_degree'].append(stdd)\n",
    "        data_dic['max_degree'].append(maxd)\n",
    "        data_dic['min_degree'].append(mind)\n",
    "        data_dic['ratio_of_heterogeneous'].append(ratio)\n",
    "    \n",
    "    return graph, data_dic\n",
    "\n"
   ]
  },
  {
   "cell_type": "code",
   "execution_count": 30,
   "metadata": {},
   "outputs": [
    {
     "name": "stderr",
     "output_type": "stream",
     "text": [
      "Add nodes into G...: 100%|██████████| 2706/2706 [00:00<00:00, 14138.10it/s]\n",
      "Graph Construction...: 100%|██████████| 2706/2706 [00:02<00:00, 984.08it/s] \n",
      "Check edge consistent...: 100%|██████████| 1801655/1801655 [00:02<00:00, 728310.20it/s]\n",
      "Add nodes into G...: 100%|██████████| 2706/2706 [00:00<00:00, 14471.82it/s]\n",
      "Graph Construction...: 100%|██████████| 2706/2706 [00:02<00:00, 1088.87it/s]\n",
      "Check edge consistent...: 100%|██████████| 1596987/1596987 [00:02<00:00, 719784.95it/s]\n",
      "Add nodes into G...: 100%|██████████| 2706/2706 [00:00<00:00, 11856.30it/s]\n",
      "Graph Construction...: 100%|██████████| 2706/2706 [00:15<00:00, 179.30it/s] \n",
      "Check edge consistent...: 100%|██████████| 1414085/1414085 [00:01<00:00, 723175.35it/s]\n",
      "Add nodes into G...: 100%|██████████| 2706/2706 [00:00<00:00, 14520.87it/s]\n",
      "Graph Construction...: 100%|██████████| 2706/2706 [00:01<00:00, 1457.24it/s]\n",
      "Check edge consistent...: 100%|██████████| 1251252/1251252 [00:01<00:00, 855147.57it/s]\n",
      "Add nodes into G...: 100%|██████████| 2706/2706 [00:00<00:00, 16674.65it/s]\n",
      "Graph Construction...: 100%|██████████| 2706/2706 [00:01<00:00, 1512.57it/s]\n",
      "Check edge consistent...: 100%|██████████| 1106437/1106437 [00:01<00:00, 780703.57it/s]\n",
      "Add nodes into G...: 100%|██████████| 2706/2706 [00:00<00:00, 14983.75it/s]\n",
      "Graph Construction...: 100%|██████████| 2706/2706 [00:01<00:00, 1538.31it/s]\n",
      "Check edge consistent...: 100%|██████████| 976987/976987 [00:01<00:00, 732054.76it/s]\n",
      "Add nodes into G...: 100%|██████████| 2706/2706 [00:00<00:00, 14517.69it/s]\n",
      "Graph Construction...: 100%|██████████| 2706/2706 [00:01<00:00, 1614.04it/s]\n",
      "Check edge consistent...: 100%|██████████| 859466/859466 [00:01<00:00, 756197.37it/s]\n",
      "Add nodes into G...: 100%|██████████| 2706/2706 [00:00<00:00, 14903.59it/s]\n",
      "Graph Construction...: 100%|██████████| 2706/2706 [00:01<00:00, 1802.68it/s]\n",
      "Check edge consistent...: 100%|██████████| 753604/753604 [00:01<00:00, 745969.83it/s]\n",
      "Add nodes into G...: 100%|██████████| 2706/2706 [00:00<00:00, 14202.13it/s]\n",
      "Graph Construction...: 100%|██████████| 2706/2706 [00:01<00:00, 1788.60it/s]\n",
      "Check edge consistent...: 100%|██████████| 658264/658264 [00:00<00:00, 778557.22it/s]\n",
      "Add nodes into G...: 100%|██████████| 2706/2706 [00:00<00:00, 11369.87it/s]\n",
      "Graph Construction...: 100%|██████████| 2706/2706 [00:01<00:00, 2141.22it/s]\n",
      "Check edge consistent...: 100%|██████████| 572932/572932 [00:00<00:00, 789093.01it/s]\n",
      "Add nodes into G...: 100%|██████████| 2706/2706 [00:00<00:00, 14862.67it/s]\n",
      "Graph Construction...: 100%|██████████| 2706/2706 [00:01<00:00, 2218.28it/s]\n",
      "Check edge consistent...: 100%|██████████| 496599/496599 [00:00<00:00, 775651.19it/s]\n",
      "Add nodes into G...: 100%|██████████| 2706/2706 [00:00<00:00, 14797.73it/s]\n",
      "Graph Construction...: 100%|██████████| 2706/2706 [00:01<00:00, 2059.50it/s]\n",
      "Check edge consistent...: 100%|██████████| 428550/428550 [00:00<00:00, 624847.78it/s]\n",
      "Add nodes into G...: 100%|██████████| 2706/2706 [00:00<00:00, 10277.90it/s]\n",
      "Graph Construction...: 100%|██████████| 2706/2706 [00:01<00:00, 2423.36it/s]\n",
      "Check edge consistent...: 100%|██████████| 368070/368070 [00:00<00:00, 866275.56it/s]\n",
      "Add nodes into G...: 100%|██████████| 2706/2706 [00:00<00:00, 16866.17it/s]\n",
      "Graph Construction...: 100%|██████████| 2706/2706 [00:00<00:00, 3281.45it/s]\n",
      "Check edge consistent...: 100%|██████████| 314645/314645 [00:00<00:00, 894126.75it/s]\n",
      "Add nodes into G...: 100%|██████████| 2706/2706 [00:00<00:00, 15103.57it/s]\n",
      "Graph Construction...: 100%|██████████| 2706/2706 [00:00<00:00, 3261.90it/s]\n",
      "Check edge consistent...: 100%|██████████| 267653/267653 [00:00<00:00, 763448.92it/s]\n",
      "Add nodes into G...: 100%|██████████| 2706/2706 [00:00<00:00, 15144.80it/s]\n",
      "Graph Construction...: 100%|██████████| 2706/2706 [00:00<00:00, 3118.48it/s]\n",
      "Check edge consistent...: 100%|██████████| 226773/226773 [00:00<00:00, 795106.50it/s]\n",
      "Add nodes into G...: 100%|██████████| 2706/2706 [00:00<00:00, 14807.39it/s]\n",
      "Graph Construction...: 100%|██████████| 2706/2706 [00:00<00:00, 3339.51it/s]\n",
      "Check edge consistent...: 100%|██████████| 191001/191001 [00:00<00:00, 760985.68it/s]\n",
      "Add nodes into G...: 100%|██████████| 2706/2706 [00:00<00:00, 13139.81it/s]\n",
      "Graph Construction...: 100%|██████████| 2706/2706 [00:00<00:00, 3332.06it/s]\n",
      "Check edge consistent...: 100%|██████████| 160298/160298 [00:00<00:00, 762323.17it/s]\n",
      "Add nodes into G...: 100%|██████████| 2706/2706 [00:00<00:00, 14788.15it/s]\n",
      "Graph Construction...: 100%|██████████| 2706/2706 [00:00<00:00, 3454.45it/s]\n",
      "Check edge consistent...: 100%|██████████| 133757/133757 [00:00<00:00, 753407.71it/s]\n",
      "Add nodes into G...: 100%|██████████| 2706/2706 [00:00<00:00, 14418.87it/s]\n",
      "Graph Construction...: 100%|██████████| 2706/2706 [00:00<00:00, 3699.84it/s]\n",
      "Check edge consistent...: 100%|██████████| 110543/110543 [00:00<00:00, 752183.13it/s]\n",
      "Add nodes into G...: 100%|██████████| 2706/2706 [00:00<00:00, 14836.85it/s]\n",
      "Graph Construction...: 100%|██████████| 2706/2706 [00:00<00:00, 3823.17it/s]\n",
      "Check edge consistent...: 100%|██████████| 90617/90617 [00:00<00:00, 762292.53it/s]\n",
      "Add nodes into G...: 100%|██████████| 2706/2706 [00:00<00:00, 14834.01it/s]\n",
      "Graph Construction...: 100%|██████████| 2706/2706 [00:00<00:00, 3953.98it/s]\n",
      "Check edge consistent...: 100%|██████████| 73692/73692 [00:00<00:00, 529535.43it/s]\n",
      "Add nodes into G...: 100%|██████████| 2706/2706 [00:00<00:00, 10165.07it/s]\n",
      "Graph Construction...: 100%|██████████| 2706/2706 [00:00<00:00, 3522.33it/s]\n",
      "Check edge consistent...: 100%|██████████| 59707/59707 [00:00<00:00, 766765.08it/s]\n",
      "Add nodes into G...: 100%|██████████| 2706/2706 [00:00<00:00, 11685.66it/s]\n",
      "Graph Construction...: 100%|██████████| 2706/2706 [00:00<00:00, 4101.53it/s]\n",
      "Check edge consistent...: 100%|██████████| 47819/47819 [00:00<00:00, 754514.93it/s]\n",
      "Add nodes into G...: 100%|██████████| 2706/2706 [00:00<00:00, 14649.01it/s]\n",
      "Graph Construction...: 100%|██████████| 2706/2706 [00:00<00:00, 4248.10it/s]\n",
      "Check edge consistent...: 100%|██████████| 37982/37982 [00:00<00:00, 768557.11it/s]\n",
      "Add nodes into G...: 100%|██████████| 2706/2706 [00:00<00:00, 10747.94it/s]\n",
      "Graph Construction...: 100%|██████████| 2706/2706 [00:00<00:00, 3523.98it/s]\n",
      "Check edge consistent...: 100%|██████████| 30018/30018 [00:00<00:00, 692396.12it/s]\n",
      "Add nodes into G...: 100%|██████████| 2706/2706 [00:00<00:00, 14800.95it/s]\n",
      "Graph Construction...: 100%|██████████| 2706/2706 [00:00<00:00, 4030.17it/s]\n",
      "Check edge consistent...: 100%|██████████| 23403/23403 [00:00<00:00, 711520.96it/s]\n",
      "Add nodes into G...: 100%|██████████| 2706/2706 [00:00<00:00, 14570.45it/s]\n",
      "Graph Construction...: 100%|██████████| 2706/2706 [00:00<00:00, 4443.71it/s]\n",
      "Check edge consistent...: 100%|██████████| 17748/17748 [00:00<00:00, 768759.37it/s]\n",
      "Add nodes into G...: 100%|██████████| 2706/2706 [00:00<00:00, 14773.46it/s]\n",
      "Graph Construction...: 100%|██████████| 2706/2706 [00:00<00:00, 4481.24it/s]\n",
      "Check edge consistent...: 100%|██████████| 12979/12979 [00:00<00:00, 738581.28it/s]\n",
      "Add nodes into G...: 100%|██████████| 2706/2706 [00:00<00:00, 14464.11it/s]\n",
      "Graph Construction...: 100%|██████████| 2706/2706 [00:00<00:00, 4567.03it/s]\n",
      "Check edge consistent...: 100%|██████████| 8736/8736 [00:00<00:00, 746519.97it/s]\n",
      "Add nodes into G...: 100%|██████████| 2706/2706 [00:00<00:00, 14240.30it/s]\n",
      "Graph Construction...: 100%|██████████| 2706/2706 [00:00<00:00, 4571.99it/s]\n",
      "Check edge consistent...: 100%|██████████| 5237/5237 [00:00<00:00, 641892.75it/s]\n",
      "Add nodes into G...: 100%|██████████| 2706/2706 [00:00<00:00, 14671.43it/s]\n",
      "Graph Construction...: 100%|██████████| 2706/2706 [00:02<00:00, 992.82it/s] \n",
      "Check edge consistent...: 100%|██████████| 1783917/1783917 [00:02<00:00, 698906.69it/s]\n",
      "Add nodes into G...: 100%|██████████| 2706/2706 [00:00<00:00, 12022.67it/s]\n",
      "Graph Construction...: 100%|██████████| 2706/2706 [00:02<00:00, 1098.20it/s]\n",
      "Check edge consistent...: 100%|██████████| 1572876/1572876 [00:01<00:00, 838682.39it/s]\n",
      "Add nodes into G...: 100%|██████████| 2706/2706 [00:00<00:00, 17469.76it/s]\n",
      "Graph Construction...: 100%|██████████| 2706/2706 [00:01<00:00, 1353.93it/s]\n",
      "Check edge consistent...: 100%|██████████| 1388465/1388465 [00:01<00:00, 760650.78it/s]\n",
      "Add nodes into G...: 100%|██████████| 2706/2706 [00:00<00:00, 14237.94it/s]\n",
      "Graph Construction...: 100%|██████████| 2706/2706 [00:02<00:00, 1312.85it/s]\n",
      "Check edge consistent...: 100%|██████████| 1223591/1223591 [00:01<00:00, 746748.49it/s]\n",
      "Add nodes into G...: 100%|██████████| 2706/2706 [00:00<00:00, 14942.07it/s]\n",
      "Graph Construction...: 100%|██████████| 2706/2706 [00:01<00:00, 1454.44it/s]\n",
      "Check edge consistent...: 100%|██████████| 1077574/1077574 [00:01<00:00, 748192.73it/s]\n",
      "Add nodes into G...: 100%|██████████| 2706/2706 [00:00<00:00, 11817.33it/s]\n",
      "Graph Construction...: 100%|██████████| 2706/2706 [00:01<00:00, 1550.72it/s]\n",
      "Check edge consistent...: 100%|██████████| 947643/947643 [00:01<00:00, 752848.93it/s]\n",
      "Add nodes into G...: 100%|██████████| 2706/2706 [00:00<00:00, 14483.35it/s]\n",
      "Graph Construction...: 100%|██████████| 2706/2706 [00:01<00:00, 1689.43it/s]\n",
      "Check edge consistent...: 100%|██████████| 832366/832366 [00:01<00:00, 763706.58it/s]\n",
      "Add nodes into G...: 100%|██████████| 2706/2706 [00:00<00:00, 14305.47it/s]\n",
      "Graph Construction...: 100%|██████████| 2706/2706 [00:01<00:00, 1855.91it/s]\n",
      "Check edge consistent...: 100%|██████████| 729095/729095 [00:00<00:00, 741276.58it/s]\n",
      "Add nodes into G...: 100%|██████████| 2706/2706 [00:00<00:00, 14900.07it/s]\n",
      "Graph Construction...: 100%|██████████| 2706/2706 [00:01<00:00, 1879.74it/s]\n",
      "Check edge consistent...: 100%|██████████| 636968/636968 [00:00<00:00, 768357.28it/s]\n",
      "Add nodes into G...: 100%|██████████| 2706/2706 [00:00<00:00, 14881.06it/s]\n",
      "Graph Construction...: 100%|██████████| 2706/2706 [00:01<00:00, 2171.12it/s]\n",
      "Check edge consistent...: 100%|██████████| 554535/554535 [00:00<00:00, 760828.46it/s]\n",
      "Add nodes into G...: 100%|██████████| 2706/2706 [00:00<00:00, 14354.23it/s]\n",
      "Graph Construction...: 100%|██████████| 2706/2706 [00:01<00:00, 2215.11it/s]\n",
      "Check edge consistent...: 100%|██████████| 481194/481194 [00:00<00:00, 783455.24it/s]\n",
      "Add nodes into G...: 100%|██████████| 2706/2706 [00:00<00:00, 14853.80it/s]\n",
      "Graph Construction...: 100%|██████████| 2706/2706 [00:01<00:00, 2501.78it/s]\n",
      "Check edge consistent...: 100%|██████████| 415250/415250 [00:00<00:00, 784812.76it/s]\n",
      "Add nodes into G...: 100%|██████████| 2706/2706 [00:00<00:00, 14581.80it/s]\n",
      "Graph Construction...: 100%|██████████| 2706/2706 [00:01<00:00, 2677.85it/s]\n",
      "Check edge consistent...: 100%|██████████| 357451/357451 [00:00<00:00, 758836.42it/s]\n",
      "Add nodes into G...: 100%|██████████| 2706/2706 [00:00<00:00, 14639.26it/s]\n",
      "Graph Construction...: 100%|██████████| 2706/2706 [00:00<00:00, 2773.86it/s]\n",
      "Check edge consistent...: 100%|██████████| 306204/306204 [00:00<00:00, 769377.06it/s]\n",
      "Add nodes into G...: 100%|██████████| 2706/2706 [00:00<00:00, 11648.41it/s]\n",
      "Graph Construction...: 100%|██████████| 2706/2706 [00:15<00:00, 179.01it/s]\n",
      "Check edge consistent...: 100%|██████████| 261552/261552 [00:00<00:00, 776789.40it/s]\n",
      "Add nodes into G...: 100%|██████████| 2706/2706 [00:00<00:00, 14884.79it/s]\n",
      "Graph Construction...: 100%|██████████| 2706/2706 [00:00<00:00, 3202.58it/s]\n",
      "Check edge consistent...: 100%|██████████| 222275/222275 [00:00<00:00, 781657.96it/s]\n",
      "Add nodes into G...: 100%|██████████| 2706/2706 [00:00<00:00, 14515.58it/s]\n",
      "Graph Construction...: 100%|██████████| 2706/2706 [00:00<00:00, 3370.74it/s]\n",
      "Check edge consistent...: 100%|██████████| 187710/187710 [00:00<00:00, 775233.88it/s]\n",
      "Add nodes into G...: 100%|██████████| 2706/2706 [00:00<00:00, 14816.10it/s]\n",
      "Graph Construction...: 100%|██████████| 2706/2706 [00:00<00:00, 3485.40it/s]\n",
      "Check edge consistent...: 100%|██████████| 158079/158079 [00:00<00:00, 774532.27it/s]\n",
      "Add nodes into G...: 100%|██████████| 2706/2706 [00:00<00:00, 14441.84it/s]\n",
      "Graph Construction...: 100%|██████████| 2706/2706 [00:00<00:00, 3265.93it/s]\n",
      "Check edge consistent...: 100%|██████████| 132237/132237 [00:00<00:00, 783773.72it/s]\n",
      "Add nodes into G...: 100%|██████████| 2706/2706 [00:00<00:00, 14512.22it/s]\n",
      "Graph Construction...: 100%|██████████| 2706/2706 [00:00<00:00, 3777.27it/s]\n",
      "Check edge consistent...: 100%|██████████| 109756/109756 [00:00<00:00, 760518.20it/s]\n",
      "Add nodes into G...: 100%|██████████| 2706/2706 [00:00<00:00, 14352.30it/s]\n",
      "Graph Construction...: 100%|██████████| 2706/2706 [00:00<00:00, 3907.56it/s]\n",
      "Check edge consistent...: 100%|██████████| 90551/90551 [00:00<00:00, 748386.02it/s]\n",
      "Add nodes into G...: 100%|██████████| 2706/2706 [00:00<00:00, 14782.81it/s]\n",
      "Graph Construction...: 100%|██████████| 2706/2706 [00:00<00:00, 3989.55it/s]\n",
      "Check edge consistent...: 100%|██████████| 74247/74247 [00:00<00:00, 759569.77it/s]\n",
      "Add nodes into G...: 100%|██████████| 2706/2706 [00:00<00:00, 14836.38it/s]\n",
      "Graph Construction...: 100%|██████████| 2706/2706 [00:00<00:00, 4086.87it/s]\n",
      "Check edge consistent...: 100%|██████████| 60261/60261 [00:00<00:00, 755458.38it/s]\n",
      "Add nodes into G...: 100%|██████████| 2706/2706 [00:00<00:00, 14846.61it/s]\n",
      "Graph Construction...: 100%|██████████| 2706/2706 [00:00<00:00, 4201.75it/s]\n",
      "Check edge consistent...: 100%|██████████| 48862/48862 [00:00<00:00, 758968.85it/s]\n",
      "Add nodes into G...: 100%|██████████| 2706/2706 [00:00<00:00, 14516.58it/s]\n",
      "Graph Construction...: 100%|██████████| 2706/2706 [00:00<00:00, 4285.40it/s]\n",
      "Check edge consistent...: 100%|██████████| 39447/39447 [00:00<00:00, 751791.23it/s]\n",
      "Add nodes into G...: 100%|██████████| 2706/2706 [00:00<00:00, 14843.70it/s]\n",
      "Graph Construction...: 100%|██████████| 2706/2706 [00:00<00:00, 4286.90it/s]\n",
      "Check edge consistent...: 100%|██████████| 31824/31824 [00:00<00:00, 779183.17it/s]\n",
      "Add nodes into G...: 100%|██████████| 2706/2706 [00:00<00:00, 14779.12it/s]\n",
      "Graph Construction...: 100%|██████████| 2706/2706 [00:00<00:00, 4402.37it/s]\n",
      "Check edge consistent...: 100%|██████████| 25250/25250 [00:00<00:00, 767135.87it/s]\n",
      "Add nodes into G...: 100%|██████████| 2706/2706 [00:00<00:00, 14512.77it/s]\n",
      "Graph Construction...: 100%|██████████| 2706/2706 [00:00<00:00, 4408.65it/s]\n",
      "Check edge consistent...: 100%|██████████| 19626/19626 [00:00<00:00, 769479.80it/s]\n",
      "Add nodes into G...: 100%|██████████| 2706/2706 [00:00<00:00, 14753.61it/s]\n",
      "Graph Construction...: 100%|██████████| 2706/2706 [00:00<00:00, 4360.81it/s]\n",
      "Check edge consistent...: 100%|██████████| 15002/15002 [00:00<00:00, 751247.03it/s]\n",
      "Add nodes into G...: 100%|██████████| 2706/2706 [00:00<00:00, 10572.87it/s]\n",
      "Graph Construction...: 100%|██████████| 2706/2706 [00:00<00:00, 4538.66it/s]\n",
      "Check edge consistent...: 100%|██████████| 10920/10920 [00:00<00:00, 759792.30it/s]\n",
      "Add nodes into G...: 100%|██████████| 2706/2706 [00:00<00:00, 14640.28it/s]\n",
      "Graph Construction...: 100%|██████████| 2706/2706 [00:00<00:00, 4572.90it/s]\n",
      "Check edge consistent...: 100%|██████████| 7179/7179 [00:00<00:00, 698256.35it/s]\n"
     ]
    }
   ],
   "source": [
    "graph, data_dic = data_construction(\"train\", cos_sim_train, cos_sim_dict_train)\n",
    "# !!!!test也用train的相似度去計算threshold\n",
    "graph_test, data_dic_test = data_construction(\"test\", cos_sim_eval, cos_sim_dict_train)"
   ]
  },
  {
   "cell_type": "code",
   "execution_count": 31,
   "metadata": {},
   "outputs": [],
   "source": [
    "# 存成data.json\n",
    "import json\n",
    "def save_data_dic(type, data_dic):\n",
    "    for key in data_dic:\n",
    "        if isinstance(data_dic[key][0], np.int32) or isinstance(data_dic[key][0], np.int64):\n",
    "            data_dic[key]=[int(num) for num in data_dic[key]]\n",
    "        elif isinstance(data_dic[key][0], np.float64):\n",
    "            data_dic[key]=[float(num) for num in data_dic[key]]\n",
    "    json_data=json.dumps(data_dic,indent=4)\n",
    "    with open('data_'+type+'.json','w') as json_file:\n",
    "        json_file.write(json_data)\n",
    "    with open(\"data.json\",'r') as json_file:\n",
    "        data_dic=json.load(json_file)\n",
    "    # type_list=[]\n",
    "    # for key in data_dic:\n",
    "    #     print(f\"{key}:\")\n",
    "    #     print([round(num,3) for num in data_dic[key]])\n",
    "    #     print(f\"type:{type(data_dic[key][0])}\")\n",
    "    #     type_list.append(type(data_dic[key][0]))\n",
    "    #     print()\n",
    "    # print(type_list)"
   ]
  },
  {
   "cell_type": "code",
   "execution_count": 32,
   "metadata": {},
   "outputs": [
    {
     "data": {
      "text/plain": [
       "{'threshold': [-0.02001593235914521,\n",
       "  0.010922619364551689,\n",
       "  0.04186117108824859,\n",
       "  0.07279972281194548,\n",
       "  0.10373827453564238,\n",
       "  0.1346768262593393,\n",
       "  0.1656153779830362,\n",
       "  0.1965539297067331,\n",
       "  0.22749248143043,\n",
       "  0.25843103315412685,\n",
       "  0.28936958487782377,\n",
       "  0.3203081366015207,\n",
       "  0.35124668832521755,\n",
       "  0.38218524004891447,\n",
       "  0.4131237917726114,\n",
       "  0.44406234349630824,\n",
       "  0.47500089522000516,\n",
       "  0.5059394469437021,\n",
       "  0.5368779986673989,\n",
       "  0.5678165503910959,\n",
       "  0.5987551021147928,\n",
       "  0.6296936538384896,\n",
       "  0.6606322055621866,\n",
       "  0.6915707572858835,\n",
       "  0.7225093090095803,\n",
       "  0.7534478607332773,\n",
       "  0.7843864124569742,\n",
       "  0.815324964180671,\n",
       "  0.846263515904368,\n",
       "  0.8772020676280649,\n",
       "  0.9081406193517617],\n",
       " 'number_of_nodes': [2706,\n",
       "  2706,\n",
       "  2706,\n",
       "  2706,\n",
       "  2706,\n",
       "  2706,\n",
       "  2706,\n",
       "  2706,\n",
       "  2706,\n",
       "  2706,\n",
       "  2706,\n",
       "  2706,\n",
       "  2706,\n",
       "  2706,\n",
       "  2706,\n",
       "  2706,\n",
       "  2706,\n",
       "  2706,\n",
       "  2706,\n",
       "  2706,\n",
       "  2706,\n",
       "  2706,\n",
       "  2706,\n",
       "  2706,\n",
       "  2706,\n",
       "  2706,\n",
       "  2706,\n",
       "  2706,\n",
       "  2706,\n",
       "  2706,\n",
       "  2706],\n",
       " 'number_of_edges': [1801655,\n",
       "  1596987,\n",
       "  1414085,\n",
       "  1251252,\n",
       "  1106437,\n",
       "  976987,\n",
       "  859466,\n",
       "  753604,\n",
       "  658264,\n",
       "  572932,\n",
       "  496599,\n",
       "  428550,\n",
       "  368070,\n",
       "  314645,\n",
       "  267653,\n",
       "  226773,\n",
       "  191001,\n",
       "  160298,\n",
       "  133757,\n",
       "  110543,\n",
       "  90617,\n",
       "  73692,\n",
       "  59707,\n",
       "  47819,\n",
       "  37982,\n",
       "  30018,\n",
       "  23403,\n",
       "  17748,\n",
       "  12979,\n",
       "  8736,\n",
       "  5237],\n",
       " 'density': [0.4922736221144769,\n",
       "  0.4363513408281453,\n",
       "  0.38637627344177994,\n",
       "  0.3418847416503068,\n",
       "  0.3023163422694553,\n",
       "  0.26694618517349683,\n",
       "  0.23483543791915823,\n",
       "  0.20591032729349307,\n",
       "  0.1798601860997605,\n",
       "  0.1565445719992404,\n",
       "  0.13568779176281093,\n",
       "  0.11709448299322515,\n",
       "  0.10056928329323622,\n",
       "  0.08597175032412398,\n",
       "  0.07313193246198972,\n",
       "  0.06196212155366387,\n",
       "  0.05218799054063469,\n",
       "  0.04379888329214329,\n",
       "  0.03654697645951422,\n",
       "  0.03020411955085775,\n",
       "  0.024759656435414966,\n",
       "  0.02013516892016509,\n",
       "  0.01631398972366467,\n",
       "  0.013065782481047799,\n",
       "  0.010377978422701384,\n",
       "  0.008201941874905222,\n",
       "  0.006394498157718932,\n",
       "  0.004849359197675324,\n",
       "  0.003546305669744649,\n",
       "  0.0023869732899984017,\n",
       "  0.0014309270970377323],\n",
       " 'mean_degree': [1331.60014781966,\n",
       "  1180.330376940133,\n",
       "  1045.1478196600149,\n",
       "  924.7982261640798,\n",
       "  817.7657058388766,\n",
       "  722.089430894309,\n",
       "  635.229859571323,\n",
       "  556.9874353288988,\n",
       "  486.52180339985216,\n",
       "  423.4530672579453,\n",
       "  367.0354767184036,\n",
       "  316.74057649667407,\n",
       "  272.039911308204,\n",
       "  232.55358462675537,\n",
       "  197.82187730968218,\n",
       "  167.60753880266074,\n",
       "  141.16851441241684,\n",
       "  118.47597930524759,\n",
       "  98.85957132298596,\n",
       "  81.70214338507022,\n",
       "  66.97487065779748,\n",
       "  54.465631929046566,\n",
       "  44.12934220251294,\n",
       "  35.342941611234295,\n",
       "  28.072431633407245,\n",
       "  22.186252771618626,\n",
       "  17.29711751662971,\n",
       "  13.117516629711751,\n",
       "  9.592756836659275,\n",
       "  6.4567627494456765,\n",
       "  3.8706577974870657],\n",
       " 'median_degree': [1352.0,\n",
       "  1205.0,\n",
       "  1079.0,\n",
       "  961.0,\n",
       "  851.0,\n",
       "  750.0,\n",
       "  660.0,\n",
       "  574.0,\n",
       "  497.0,\n",
       "  430.0,\n",
       "  372.5,\n",
       "  319.5,\n",
       "  272.0,\n",
       "  228.0,\n",
       "  192.0,\n",
       "  166.0,\n",
       "  138.0,\n",
       "  114.0,\n",
       "  93.0,\n",
       "  73.0,\n",
       "  57.0,\n",
       "  44.0,\n",
       "  34.0,\n",
       "  25.0,\n",
       "  18.0,\n",
       "  13.0,\n",
       "  8.5,\n",
       "  5.0,\n",
       "  3.0,\n",
       "  2.0,\n",
       "  1.0],\n",
       " 'std_of_degree': [127.34700305452822,\n",
       "  141.23634043406642,\n",
       "  157.0456866599594,\n",
       "  164.98379708511655,\n",
       "  165.59139849504237,\n",
       "  161.09156288448503,\n",
       "  153.8560137242225,\n",
       "  144.63254862411918,\n",
       "  134.31155001049981,\n",
       "  123.2364112577838,\n",
       "  111.71839365342106,\n",
       "  100.48089080939454,\n",
       "  90.04702247332459,\n",
       "  80.35725094286315,\n",
       "  71.83354163064426,\n",
       "  64.3943217939933,\n",
       "  58.25185257729868,\n",
       "  53.46057992860349,\n",
       "  49.44023184783125,\n",
       "  45.97858497456457,\n",
       "  43.072749487497155,\n",
       "  40.597784209163336,\n",
       "  38.482786825137076,\n",
       "  36.351713331733635,\n",
       "  34.19163529856666,\n",
       "  31.898108574017627,\n",
       "  29.455975878807443,\n",
       "  26.08241124854011,\n",
       "  21.899397221891455,\n",
       "  16.599778282850497,\n",
       "  11.238901567167588],\n",
       " 'max_degree': [1738,\n",
       "  1453,\n",
       "  1327,\n",
       "  1219,\n",
       "  1114,\n",
       "  1017,\n",
       "  934,\n",
       "  857,\n",
       "  785,\n",
       "  718,\n",
       "  638,\n",
       "  574,\n",
       "  511,\n",
       "  449,\n",
       "  399,\n",
       "  352,\n",
       "  313,\n",
       "  273,\n",
       "  242,\n",
       "  215,\n",
       "  196,\n",
       "  186,\n",
       "  184,\n",
       "  177,\n",
       "  175,\n",
       "  165,\n",
       "  157,\n",
       "  147,\n",
       "  134,\n",
       "  111,\n",
       "  83],\n",
       " 'min_degree': [851,\n",
       "  573,\n",
       "  299,\n",
       "  187,\n",
       "  134,\n",
       "  119,\n",
       "  102,\n",
       "  69,\n",
       "  50,\n",
       "  44,\n",
       "  35,\n",
       "  29,\n",
       "  19,\n",
       "  16,\n",
       "  12,\n",
       "  10,\n",
       "  8,\n",
       "  7,\n",
       "  6,\n",
       "  3,\n",
       "  2,\n",
       "  0,\n",
       "  0,\n",
       "  0,\n",
       "  0,\n",
       "  0,\n",
       "  0,\n",
       "  0,\n",
       "  0,\n",
       "  0,\n",
       "  0],\n",
       " 'ratio_of_heterogeneous': [0.0016323879988122032,\n",
       "  0.0016831696187883808,\n",
       "  0.001719132866836152,\n",
       "  0.0017606365464350906,\n",
       "  0.0017669329568696637,\n",
       "  0.0017963391529262928,\n",
       "  0.001792973776740441,\n",
       "  0.0017913917654364892,\n",
       "  0.0017925938529222319,\n",
       "  0.0017454078319940236,\n",
       "  0.0017136562900851593,\n",
       "  0.0017034185042585463,\n",
       "  0.0016817453201836607,\n",
       "  0.0016876162023868168,\n",
       "  0.0016775451797663393,\n",
       "  0.0017109620633849708,\n",
       "  0.0017591530934393013,\n",
       "  0.0016656477311008248,\n",
       "  0.0017494411507435125,\n",
       "  0.0017368806708701592,\n",
       "  0.0016994603661564607,\n",
       "  0.0017912392118547469,\n",
       "  0.001808833135143283,\n",
       "  0.0017775361258077333,\n",
       "  0.0017113369490811437,\n",
       "  0.0015324138850023319,\n",
       "  0.0015809938896722642,\n",
       "  0.001408609420779806,\n",
       "  0.0012327606132984052,\n",
       "  0.0011446886446886447,\n",
       "  0.001336643116287951]}"
      ]
     },
     "execution_count": 32,
     "metadata": {},
     "output_type": "execute_result"
    }
   ],
   "source": [
    "data_dic"
   ]
  },
  {
   "cell_type": "code",
   "execution_count": 33,
   "metadata": {},
   "outputs": [
    {
     "data": {
      "text/plain": [
       "{'threshold': [-0.02001593235914521,\n",
       "  0.010922619364551689,\n",
       "  0.04186117108824859,\n",
       "  0.07279972281194548,\n",
       "  0.10373827453564238,\n",
       "  0.1346768262593393,\n",
       "  0.1656153779830362,\n",
       "  0.1965539297067331,\n",
       "  0.22749248143043,\n",
       "  0.25843103315412685,\n",
       "  0.28936958487782377,\n",
       "  0.3203081366015207,\n",
       "  0.35124668832521755,\n",
       "  0.38218524004891447,\n",
       "  0.4131237917726114,\n",
       "  0.44406234349630824,\n",
       "  0.47500089522000516,\n",
       "  0.5059394469437021,\n",
       "  0.5368779986673989,\n",
       "  0.5678165503910959,\n",
       "  0.5987551021147928,\n",
       "  0.6296936538384896,\n",
       "  0.6606322055621866,\n",
       "  0.6915707572858835,\n",
       "  0.7225093090095803,\n",
       "  0.7534478607332773,\n",
       "  0.7843864124569742,\n",
       "  0.815324964180671,\n",
       "  0.846263515904368,\n",
       "  0.8772020676280649,\n",
       "  0.9081406193517617],\n",
       " 'number_of_nodes': [2706,\n",
       "  2706,\n",
       "  2706,\n",
       "  2706,\n",
       "  2706,\n",
       "  2706,\n",
       "  2706,\n",
       "  2706,\n",
       "  2706,\n",
       "  2706,\n",
       "  2706,\n",
       "  2706,\n",
       "  2706,\n",
       "  2706,\n",
       "  2706,\n",
       "  2706,\n",
       "  2706,\n",
       "  2706,\n",
       "  2706,\n",
       "  2706,\n",
       "  2706,\n",
       "  2706,\n",
       "  2706,\n",
       "  2706,\n",
       "  2706,\n",
       "  2706,\n",
       "  2706,\n",
       "  2706,\n",
       "  2706,\n",
       "  2706,\n",
       "  2706],\n",
       " 'number_of_edges': [1783917,\n",
       "  1572876,\n",
       "  1388465,\n",
       "  1223591,\n",
       "  1077574,\n",
       "  947643,\n",
       "  832366,\n",
       "  729095,\n",
       "  636968,\n",
       "  554535,\n",
       "  481194,\n",
       "  415250,\n",
       "  357451,\n",
       "  306204,\n",
       "  261552,\n",
       "  222275,\n",
       "  187710,\n",
       "  158079,\n",
       "  132237,\n",
       "  109756,\n",
       "  90551,\n",
       "  74247,\n",
       "  60261,\n",
       "  48862,\n",
       "  39447,\n",
       "  31824,\n",
       "  25250,\n",
       "  19626,\n",
       "  15002,\n",
       "  10920,\n",
       "  7179],\n",
       " 'density': [0.4874269952580218,\n",
       "  0.42976339291203364,\n",
       "  0.37937601523553466,\n",
       "  0.3343268126010112,\n",
       "  0.29442998580548735,\n",
       "  0.2589284030968355,\n",
       "  0.22743079321231793,\n",
       "  0.199213632196816,\n",
       "  0.17404139223714535,\n",
       "  0.15151788385637174,\n",
       "  0.13147862011303696,\n",
       "  0.11346046917031093,\n",
       "  0.09766781015146733,\n",
       "  0.08366538110012255,\n",
       "  0.07146493108352357,\n",
       "  0.060733114472801594,\n",
       "  0.05128877704505494,\n",
       "  0.04319257677537286,\n",
       "  0.03613166059403831,\n",
       "  0.029989084296825157,\n",
       "  0.024741622983361408,\n",
       "  0.020286813857888202,\n",
       "  0.01646536142726576,\n",
       "  0.01335076567031844,\n",
       "  0.010778266411465997,\n",
       "  0.008695402699279892,\n",
       "  0.00689916158109657,\n",
       "  0.005362492878835695,\n",
       "  0.0040990582985984455,\n",
       "  0.002983716612498002,\n",
       "  0.001961547762007615],\n",
       " 'mean_degree': [1318.490022172949,\n",
       "  1162.509977827051,\n",
       "  1026.2121212121212,\n",
       "  904.3540280857354,\n",
       "  796.4331116038433,\n",
       "  700.4013303769401,\n",
       "  615.2002956393201,\n",
       "  538.8728750923873,\n",
       "  470.7819660014782,\n",
       "  409.8558758314856,\n",
       "  355.64966740576494,\n",
       "  306.9105691056911,\n",
       "  264.19142645971914,\n",
       "  226.31485587583148,\n",
       "  193.31263858093126,\n",
       "  164.2830746489283,\n",
       "  138.73614190687363,\n",
       "  116.83592017738358,\n",
       "  97.73614190687361,\n",
       "  81.12047302291205,\n",
       "  66.9260901699926,\n",
       "  54.87583148558758,\n",
       "  44.53880266075388,\n",
       "  36.113821138211385,\n",
       "  29.155210643015522,\n",
       "  23.521064301552105,\n",
       "  18.662232076866225,\n",
       "  14.505543237250555,\n",
       "  11.087952697708795,\n",
       "  8.070953436807095,\n",
       "  5.305986696230598],\n",
       " 'median_degree': [1335.0,\n",
       "  1192.0,\n",
       "  1062.0,\n",
       "  940.0,\n",
       "  830.0,\n",
       "  728.0,\n",
       "  637.5,\n",
       "  554.5,\n",
       "  481.0,\n",
       "  414.0,\n",
       "  355.0,\n",
       "  303.5,\n",
       "  258.0,\n",
       "  218.0,\n",
       "  192.0,\n",
       "  160.0,\n",
       "  133.0,\n",
       "  109.0,\n",
       "  89.0,\n",
       "  71.0,\n",
       "  56.0,\n",
       "  44.0,\n",
       "  33.0,\n",
       "  24.0,\n",
       "  18.0,\n",
       "  12.0,\n",
       "  8.0,\n",
       "  5.0,\n",
       "  3.0,\n",
       "  1.0,\n",
       "  1.0],\n",
       " 'std_of_degree': [124.34842185849685,\n",
       "  135.98614423162923,\n",
       "  151.6667246279109,\n",
       "  160.47310278924562,\n",
       "  162.44961285238796,\n",
       "  158.89209239938572,\n",
       "  151.2673162832023,\n",
       "  141.54513756346762,\n",
       "  130.38539915709822,\n",
       "  118.89461287013657,\n",
       "  107.19300323532904,\n",
       "  96.3292126271526,\n",
       "  86.58454984806708,\n",
       "  78.05667616742753,\n",
       "  70.49675263067797,\n",
       "  64.09005225874603,\n",
       "  58.889368527296966,\n",
       "  54.85798755361568,\n",
       "  51.40662789438112,\n",
       "  48.321037477430515,\n",
       "  45.86733826106775,\n",
       "  43.66871301566633,\n",
       "  41.79434580610361,\n",
       "  39.98301996901137,\n",
       "  38.01491913305236,\n",
       "  35.85475802557774,\n",
       "  33.19738322240655,\n",
       "  29.978659673030215,\n",
       "  26.401058983846998,\n",
       "  21.810396913017772,\n",
       "  15.930589500201101],\n",
       " 'max_degree': [1981,\n",
       "  1441,\n",
       "  1287,\n",
       "  1189,\n",
       "  1110,\n",
       "  1014,\n",
       "  936,\n",
       "  865,\n",
       "  798,\n",
       "  731,\n",
       "  674,\n",
       "  607,\n",
       "  555,\n",
       "  509,\n",
       "  469,\n",
       "  432,\n",
       "  372,\n",
       "  310,\n",
       "  261,\n",
       "  212,\n",
       "  197,\n",
       "  196,\n",
       "  196,\n",
       "  193,\n",
       "  186,\n",
       "  180,\n",
       "  170,\n",
       "  161,\n",
       "  152,\n",
       "  134,\n",
       "  109],\n",
       " 'min_degree': [800,\n",
       "  396,\n",
       "  226,\n",
       "  143,\n",
       "  120,\n",
       "  100,\n",
       "  93,\n",
       "  85,\n",
       "  72,\n",
       "  58,\n",
       "  55,\n",
       "  48,\n",
       "  43,\n",
       "  36,\n",
       "  32,\n",
       "  23,\n",
       "  17,\n",
       "  9,\n",
       "  5,\n",
       "  3,\n",
       "  2,\n",
       "  0,\n",
       "  0,\n",
       "  0,\n",
       "  0,\n",
       "  0,\n",
       "  0,\n",
       "  0,\n",
       "  0,\n",
       "  0,\n",
       "  0],\n",
       " 'ratio_of_heterogeneous': [0.0015421121049914318,\n",
       "  0.0015691001706428225,\n",
       "  0.0015808824853345241,\n",
       "  0.0015977561129495068,\n",
       "  0.0016240183968804,\n",
       "  0.0016366922986820987,\n",
       "  0.001653118940466093,\n",
       "  0.0016637063757123558,\n",
       "  0.0016562841461423494,\n",
       "  0.0016319979802897923,\n",
       "  0.0016188896785911712,\n",
       "  0.0016231186032510535,\n",
       "  0.0015330772609392616,\n",
       "  0.0015218612428315762,\n",
       "  0.0014337493118003304,\n",
       "  0.0014306602181981779,\n",
       "  0.001411752170901923,\n",
       "  0.0014043611105839485,\n",
       "  0.0013385058644706095,\n",
       "  0.0012573344509639564,\n",
       "  0.0012479155393093394,\n",
       "  0.0011044217274772045,\n",
       "  0.0009956688405436352,\n",
       "  0.000859563669108919,\n",
       "  0.0006591122265318022,\n",
       "  0.0006913021618903972,\n",
       "  0.0006336633663366337,\n",
       "  0.0005095281769081831,\n",
       "  0.0002666311158512198,\n",
       "  0.00018315018315018315,\n",
       "  0.0001392951664577239]}"
      ]
     },
     "execution_count": 33,
     "metadata": {},
     "output_type": "execute_result"
    }
   ],
   "source": [
    "data_dic_test"
   ]
  },
  {
   "cell_type": "code",
   "execution_count": 34,
   "metadata": {},
   "outputs": [],
   "source": [
    "save_data_dic(\"train\", data_dic)\n",
    "save_data_dic(\"test\", data_dic_test)"
   ]
  },
  {
   "cell_type": "code",
   "execution_count": 35,
   "metadata": {},
   "outputs": [],
   "source": [
    "# # 圖\n",
    "# import matplotlib.pyplot as plt\n",
    "# import random\n",
    "# for idx,G in tqdm(enumerate(graph),desc=\"plot...\"):\n",
    "#     subset_nodes = random.sample(G.nodes(), k=30)\n",
    "#     subgraph = G.subgraph(subset_nodes)\n",
    "\n",
    "#     # 定義顏色映射\n",
    "#     color_map = {0: 'blue', 1: 'red'}\n",
    "\n",
    "#     # 根據類別為節點指定顏色\n",
    "#     node_colors = [color_map[G.nodes[node]['Class']] for node in subgraph.nodes()]\n",
    "\n",
    "#     # 繪製子圖\n",
    "#     plt.figure(figsize=(10, 8))\n",
    "#     nx.draw(subgraph, with_labels=True, node_color=node_colors)\n",
    "#     plt.title(f\"Subraph Visualization with Different Colors:\\nThreshold = median + {idx} std \")\n",
    "#     # 保存图为文件\n",
    "#     plt.savefig(f'./plot_G/median_add_{idx}_std.png')  # 将图保存为 PNG 格式\n",
    "#     # plt.show()"
   ]
  },
  {
   "cell_type": "code",
   "execution_count": 36,
   "metadata": {},
   "outputs": [],
   "source": [
    "# ## plot graph construction experiments result\n",
    "# x=data_dic['threshold']\n",
    "# for key in data_dic:\n",
    "#     if key=='graph' or key=='threshold' or key=='number_of_nodes':\n",
    "#         continue\n",
    "#     y=data_dic[key]\n",
    "#     plt.figure()\n",
    "#     plt.plot(x,y)\n",
    "#     plt.title(f\"Threshold v.s {key}\")\n",
    "#     plt.xlabel(\"Threshold\")\n",
    "#     plt.ylabel(f\"{key}\")\n",
    "#     plt.savefig(f\"./experiments_plt/threshold_vs_{key}\")\n",
    "#     plt.show()\n",
    "    \n",
    "    "
   ]
  },
  {
   "cell_type": "code",
   "execution_count": 37,
   "metadata": {},
   "outputs": [],
   "source": [
    "# node_features = {node: data for node, data in G.nodes(data=True)}\n",
    "# print(node_features[0])\n",
    "# print(list(node_features[0].values()))"
   ]
  },
  {
   "cell_type": "code",
   "execution_count": 38,
   "metadata": {},
   "outputs": [],
   "source": [
    "import os\n",
    "import pickle\n",
    "def read_graph(type):\n",
    "    # 讀所有graph\n",
    "    folder_path = './graph/'+type+\"/\"\n",
    "    graph_dic = {}\n",
    "    # 遍歷資料夾下的所有檔案\n",
    "    for filename in os.listdir(folder_path):\n",
    "        file_path = os.path.join(folder_path, filename)\n",
    "        # print(file_path)\n",
    "        # 檢查是否是.pkl檔案\n",
    "        if filename.endswith(\".pickle\"):\n",
    "            # 讀取.pkl檔案\n",
    "            try:\n",
    "                with open(file_path, \"rb\") as file:\n",
    "                    G = pickle.load(file)\n",
    "                    # 在這裡可以對讀取的資料進行處理\n",
    "                    print(f\"從 '{file_path}' 讀取到資料：{G}\")\n",
    "                    threshold = float(os.path.splitext(filename)[0])\n",
    "                    graph_dic[threshold] = G\n",
    "            except Exception as e:\n",
    "                print(f\"讀取 '{file_path}' 時發生錯誤：{e}\")\n",
    "    return graph_dic\n"
   ]
  },
  {
   "cell_type": "code",
   "execution_count": 39,
   "metadata": {},
   "outputs": [
    {
     "name": "stdout",
     "output_type": "stream",
     "text": [
      "從 './graph/train/0.5368779986673989.pickle' 讀取到資料：Graph with 2706 nodes and 133757 edges\n",
      "從 './graph/train/0.1965539297067331.pickle' 讀取到資料：Graph with 2706 nodes and 753604 edges\n",
      "從 './graph/train/0.9081406193517617.pickle' 讀取到資料：Graph with 2706 nodes and 5237 edges\n",
      "從 './graph/train/0.4131237917726114.pickle' 讀取到資料：Graph with 2706 nodes and 267653 edges\n",
      "從 './graph/train/0.846263515904368.pickle' 讀取到資料：Graph with 2706 nodes and 12979 edges\n",
      "從 './graph/train/0.1346768262593393.pickle' 讀取到資料：Graph with 2706 nodes and 976987 edges\n",
      "從 './graph/train/0.04186117108824859.pickle' 讀取到資料：Graph with 2706 nodes and 1414085 edges\n",
      "從 './graph/train/0.25843103315412685.pickle' 讀取到資料：Graph with 2706 nodes and 572932 edges\n",
      "從 './graph/train/0.010922619364551689.pickle' 讀取到資料：Graph with 2706 nodes and 1596987 edges\n",
      "從 './graph/train/0.28936958487782377.pickle' 讀取到資料：Graph with 2706 nodes and 496599 edges\n",
      "從 './graph/train/0.5678165503910959.pickle' 讀取到資料：Graph with 2706 nodes and 110543 edges\n",
      "從 './graph/train/-0.02001593235914521.pickle' 讀取到資料：Graph with 2706 nodes and 1801655 edges\n",
      "從 './graph/train/0.7843864124569742.pickle' 讀取到資料：Graph with 2706 nodes and 23403 edges\n",
      "從 './graph/train/0.5987551021147928.pickle' 讀取到資料：Graph with 2706 nodes and 90617 edges\n",
      "從 './graph/train/0.44406234349630824.pickle' 讀取到資料：Graph with 2706 nodes and 226773 edges\n",
      "從 './graph/train/0.6915707572858835.pickle' 讀取到資料：Graph with 2706 nodes and 47819 edges\n",
      "從 './graph/train/0.815324964180671.pickle' 讀取到資料：Graph with 2706 nodes and 17748 edges\n",
      "從 './graph/train/0.47500089522000516.pickle' 讀取到資料：Graph with 2706 nodes and 191001 edges\n",
      "從 './graph/train/0.6296936538384896.pickle' 讀取到資料：Graph with 2706 nodes and 73692 edges\n",
      "從 './graph/train/0.5059394469437021.pickle' 讀取到資料：Graph with 2706 nodes and 160298 edges\n",
      "從 './graph/train/0.38218524004891447.pickle' 讀取到資料：Graph with 2706 nodes and 314645 edges\n",
      "從 './graph/train/0.35124668832521755.pickle' 讀取到資料：Graph with 2706 nodes and 368070 edges\n",
      "從 './graph/train/0.07279972281194548.pickle' 讀取到資料：Graph with 2706 nodes and 1251252 edges\n",
      "從 './graph/train/0.7225093090095803.pickle' 讀取到資料：Graph with 2706 nodes and 37982 edges\n",
      "從 './graph/train/0.22749248143043.pickle' 讀取到資料：Graph with 2706 nodes and 658264 edges\n",
      "從 './graph/train/0.6606322055621866.pickle' 讀取到資料：Graph with 2706 nodes and 59707 edges\n",
      "從 './graph/train/0.7534478607332773.pickle' 讀取到資料：Graph with 2706 nodes and 30018 edges\n",
      "從 './graph/train/0.1656153779830362.pickle' 讀取到資料：Graph with 2706 nodes and 859466 edges\n",
      "從 './graph/train/0.10373827453564238.pickle' 讀取到資料：Graph with 2706 nodes and 1106437 edges\n",
      "從 './graph/train/0.3203081366015207.pickle' 讀取到資料：Graph with 2706 nodes and 428550 edges\n",
      "從 './graph/train/0.8772020676280649.pickle' 讀取到資料：Graph with 2706 nodes and 8736 edges\n",
      "從 './graph/test/0.5368779986673989.pickle' 讀取到資料：Graph with 2706 nodes and 132237 edges\n",
      "從 './graph/test/0.1965539297067331.pickle' 讀取到資料：Graph with 2706 nodes and 729095 edges\n",
      "從 './graph/test/0.9081406193517617.pickle' 讀取到資料：Graph with 2706 nodes and 7179 edges\n",
      "從 './graph/test/0.4131237917726114.pickle' 讀取到資料：Graph with 2706 nodes and 261552 edges\n",
      "從 './graph/test/0.846263515904368.pickle' 讀取到資料：Graph with 2706 nodes and 15002 edges\n",
      "從 './graph/test/0.1346768262593393.pickle' 讀取到資料：Graph with 2706 nodes and 947643 edges\n",
      "從 './graph/test/0.04186117108824859.pickle' 讀取到資料：Graph with 2706 nodes and 1388465 edges\n",
      "從 './graph/test/0.25843103315412685.pickle' 讀取到資料：Graph with 2706 nodes and 554535 edges\n",
      "從 './graph/test/0.010922619364551689.pickle' 讀取到資料：Graph with 2706 nodes and 1572876 edges\n",
      "從 './graph/test/0.28936958487782377.pickle' 讀取到資料：Graph with 2706 nodes and 481194 edges\n",
      "從 './graph/test/0.5678165503910959.pickle' 讀取到資料：Graph with 2706 nodes and 109756 edges\n",
      "從 './graph/test/-0.02001593235914521.pickle' 讀取到資料：Graph with 2706 nodes and 1783917 edges\n",
      "從 './graph/test/0.7843864124569742.pickle' 讀取到資料：Graph with 2706 nodes and 25250 edges\n",
      "從 './graph/test/0.5987551021147928.pickle' 讀取到資料：Graph with 2706 nodes and 90551 edges\n",
      "從 './graph/test/0.44406234349630824.pickle' 讀取到資料：Graph with 2706 nodes and 222275 edges\n",
      "從 './graph/test/0.6915707572858835.pickle' 讀取到資料：Graph with 2706 nodes and 48862 edges\n",
      "從 './graph/test/0.815324964180671.pickle' 讀取到資料：Graph with 2706 nodes and 19626 edges\n",
      "從 './graph/test/0.47500089522000516.pickle' 讀取到資料：Graph with 2706 nodes and 187710 edges\n",
      "從 './graph/test/0.6296936538384896.pickle' 讀取到資料：Graph with 2706 nodes and 74247 edges\n",
      "從 './graph/test/0.5059394469437021.pickle' 讀取到資料：Graph with 2706 nodes and 158079 edges\n",
      "從 './graph/test/0.38218524004891447.pickle' 讀取到資料：Graph with 2706 nodes and 306204 edges\n",
      "從 './graph/test/0.35124668832521755.pickle' 讀取到資料：Graph with 2706 nodes and 357451 edges\n",
      "從 './graph/test/0.07279972281194548.pickle' 讀取到資料：Graph with 2706 nodes and 1223591 edges\n",
      "從 './graph/test/0.7225093090095803.pickle' 讀取到資料：Graph with 2706 nodes and 39447 edges\n",
      "從 './graph/test/0.22749248143043.pickle' 讀取到資料：Graph with 2706 nodes and 636968 edges\n",
      "從 './graph/test/0.6606322055621866.pickle' 讀取到資料：Graph with 2706 nodes and 60261 edges\n",
      "從 './graph/test/0.7534478607332773.pickle' 讀取到資料：Graph with 2706 nodes and 31824 edges\n",
      "從 './graph/test/0.1656153779830362.pickle' 讀取到資料：Graph with 2706 nodes and 832366 edges\n",
      "從 './graph/test/0.10373827453564238.pickle' 讀取到資料：Graph with 2706 nodes and 1077574 edges\n",
      "從 './graph/test/0.3203081366015207.pickle' 讀取到資料：Graph with 2706 nodes and 415250 edges\n",
      "從 './graph/test/0.8772020676280649.pickle' 讀取到資料：Graph with 2706 nodes and 10920 edges\n"
     ]
    }
   ],
   "source": [
    "graph_dic = read_graph(\"train\")\n",
    "graph_dic_test = read_graph(\"test\")"
   ]
  },
  {
   "cell_type": "code",
   "execution_count": 40,
   "metadata": {},
   "outputs": [
    {
     "name": "stdout",
     "output_type": "stream",
     "text": [
      "{0.5368779986673989: <networkx.classes.graph.Graph object at 0x7f3b2a635e20>, 0.1965539297067331: <networkx.classes.graph.Graph object at 0x7f3786f3b640>, 0.9081406193517617: <networkx.classes.graph.Graph object at 0x7f34f1ba4250>, 0.4131237917726114: <networkx.classes.graph.Graph object at 0x7f34f1ba4760>, 0.846263515904368: <networkx.classes.graph.Graph object at 0x7f34f1ba4490>, 0.1346768262593393: <networkx.classes.graph.Graph object at 0x7f34f1ba4370>, 0.04186117108824859: <networkx.classes.graph.Graph object at 0x7f34f1ba4940>, 0.25843103315412685: <networkx.classes.graph.Graph object at 0x7f34f1ba4910>, 0.010922619364551689: <networkx.classes.graph.Graph object at 0x7f34f1ba4fd0>, 0.28936958487782377: <networkx.classes.graph.Graph object at 0x7f34f1ba4c40>, 0.5678165503910959: <networkx.classes.graph.Graph object at 0x7f34f1ba4520>, -0.02001593235914521: <networkx.classes.graph.Graph object at 0x7f34f1ba46d0>, 0.7843864124569742: <networkx.classes.graph.Graph object at 0x7f34f1ba4670>, 0.5987551021147928: <networkx.classes.graph.Graph object at 0x7f34f1ba41f0>, 0.44406234349630824: <networkx.classes.graph.Graph object at 0x7f34f1ba4850>, 0.6915707572858835: <networkx.classes.graph.Graph object at 0x7f34f1ba4b50>, 0.815324964180671: <networkx.classes.graph.Graph object at 0x7f34f1ba4c10>, 0.47500089522000516: <networkx.classes.graph.Graph object at 0x7f34f1bae5b0>, 0.6296936538384896: <networkx.classes.graph.Graph object at 0x7f34f1bae940>, 0.5059394469437021: <networkx.classes.graph.Graph object at 0x7f34f1bae430>, 0.38218524004891447: <networkx.classes.graph.Graph object at 0x7f34f1baedc0>, 0.35124668832521755: <networkx.classes.graph.Graph object at 0x7f34f1baed90>, 0.07279972281194548: <networkx.classes.graph.Graph object at 0x7f34f1baef70>, 0.7225093090095803: <networkx.classes.graph.Graph object at 0x7f34f1bae3d0>, 0.22749248143043: <networkx.classes.graph.Graph object at 0x7f34f1baeac0>, 0.6606322055621866: <networkx.classes.graph.Graph object at 0x7f34f1baedf0>, 0.7534478607332773: <networkx.classes.graph.Graph object at 0x7f34f1bae6a0>, 0.1656153779830362: <networkx.classes.graph.Graph object at 0x7f34f1bae340>, 0.10373827453564238: <networkx.classes.graph.Graph object at 0x7f34f1bae250>, 0.3203081366015207: <networkx.classes.graph.Graph object at 0x7f34f1bae0d0>, 0.8772020676280649: <networkx.classes.graph.Graph object at 0x7f34f1bae220>}\n",
      "{0.5368779986673989: <networkx.classes.graph.Graph object at 0x7f34f1ba45b0>, 0.1965539297067331: <networkx.classes.graph.Graph object at 0x7f34f1baeaf0>, 0.9081406193517617: <networkx.classes.graph.Graph object at 0x7f34f1baef40>, 0.4131237917726114: <networkx.classes.graph.Graph object at 0x7f34f1baea90>, 0.846263515904368: <networkx.classes.graph.Graph object at 0x7f34f1baeb50>, 0.1346768262593393: <networkx.classes.graph.Graph object at 0x7f34f1bae4f0>, 0.04186117108824859: <networkx.classes.graph.Graph object at 0x7f34f943c100>, 0.25843103315412685: <networkx.classes.graph.Graph object at 0x7f34f943c040>, 0.010922619364551689: <networkx.classes.graph.Graph object at 0x7f34f943c3a0>, 0.28936958487782377: <networkx.classes.graph.Graph object at 0x7f34f943cb20>, 0.5678165503910959: <networkx.classes.graph.Graph object at 0x7f34f943c7c0>, -0.02001593235914521: <networkx.classes.graph.Graph object at 0x7f34f943c4c0>, 0.7843864124569742: <networkx.classes.graph.Graph object at 0x7f34f943cb80>, 0.5987551021147928: <networkx.classes.graph.Graph object at 0x7f34f943cac0>, 0.44406234349630824: <networkx.classes.graph.Graph object at 0x7f34f943c9d0>, 0.6915707572858835: <networkx.classes.graph.Graph object at 0x7f34f943c640>, 0.815324964180671: <networkx.classes.graph.Graph object at 0x7f34f943cee0>, 0.47500089522000516: <networkx.classes.graph.Graph object at 0x7f378f31b970>, 0.6296936538384896: <networkx.classes.graph.Graph object at 0x7f378f31beb0>, 0.5059394469437021: <networkx.classes.graph.Graph object at 0x7f378f31b8b0>, 0.38218524004891447: <networkx.classes.graph.Graph object at 0x7f3786fa5e50>, 0.35124668832521755: <networkx.classes.graph.Graph object at 0x7f34f943c760>, 0.07279972281194548: <networkx.classes.graph.Graph object at 0x7f34f943c190>, 0.7225093090095803: <networkx.classes.graph.Graph object at 0x7f3788f50160>, 0.22749248143043: <networkx.classes.graph.Graph object at 0x7f378713d7c0>, 0.6606322055621866: <networkx.classes.graph.Graph object at 0x7f3786fb08e0>, 0.7534478607332773: <networkx.classes.graph.Graph object at 0x7f3786fb0a90>, 0.1656153779830362: <networkx.classes.graph.Graph object at 0x7f3788eb0d90>, 0.10373827453564238: <networkx.classes.graph.Graph object at 0x7f3786fbf670>, 0.3203081366015207: <networkx.classes.graph.Graph object at 0x7f3788f93be0>, 0.8772020676280649: <networkx.classes.graph.Graph object at 0x7f3786f3a2b0>}\n"
     ]
    }
   ],
   "source": [
    "print(graph_dic)\n",
    "print(graph_dic_test)"
   ]
  },
  {
   "cell_type": "code",
   "execution_count": 41,
   "metadata": {},
   "outputs": [],
   "source": [
    "# networkx graph 轉pytorch Data\n",
    "import torch\n",
    "from torch_geometric.data import Data\n",
    "from torch_geometric.nn import GATConv\n",
    "\n",
    "def G_to_data(graph_dic):\n",
    "    all_data = []\n",
    "    for threshold in tqdm(sorted(graph_dic.keys())):\n",
    "        G = graph_dic[threshold]\n",
    "        x, y, edge_index = [], [], []\n",
    "        for node in G.nodes():\n",
    "            x.append(list(G.nodes[node].values())[:-1])\n",
    "            y.append(list(G.nodes[node].values())[-1])\n",
    "    \n",
    "        x = torch.tensor(x, dtype=torch.float32)\n",
    "        y = torch.tensor(y, dtype=torch.long)\n",
    "        edge_index = torch.tensor(list(G.edges)).t().contiguous()\n",
    "    \n",
    "        data = Data(x=x, edge_index=edge_index, y=y)\n",
    "        data['threshold'] = threshold\n",
    "        all_data.append(data)\n",
    "    return all_data"
   ]
  },
  {
   "cell_type": "code",
   "execution_count": 42,
   "metadata": {},
   "outputs": [
    {
     "name": "stderr",
     "output_type": "stream",
     "text": [
      "  0%|          | 0/31 [00:00<?, ?it/s]/tmp/ipykernel_39055/572078566.py:16: DeprecationWarning: an integer is required (got type float).  Implicit conversion to integers using __int__ is deprecated, and may be removed in a future version of Python.\n",
      "  y = torch.tensor(y, dtype=torch.long)\n",
      "100%|██████████| 31/31 [00:07<00:00,  4.13it/s]\n",
      "100%|██████████| 31/31 [00:07<00:00,  4.30it/s]\n"
     ]
    }
   ],
   "source": [
    "all_data = G_to_data(graph_dic)\n",
    "all_data_test = G_to_data(graph_dic_test)"
   ]
  },
  {
   "cell_type": "code",
   "execution_count": 43,
   "metadata": {},
   "outputs": [
    {
     "name": "stdout",
     "output_type": "stream",
     "text": [
      "[Data(x=[2706, 30], edge_index=[2, 1801655], y=[2706], threshold=-0.02001593235914521), Data(x=[2706, 30], edge_index=[2, 1596987], y=[2706], threshold=0.010922619364551689), Data(x=[2706, 30], edge_index=[2, 1414085], y=[2706], threshold=0.04186117108824859), Data(x=[2706, 30], edge_index=[2, 1251252], y=[2706], threshold=0.07279972281194548), Data(x=[2706, 30], edge_index=[2, 1106437], y=[2706], threshold=0.10373827453564238), Data(x=[2706, 30], edge_index=[2, 976987], y=[2706], threshold=0.1346768262593393), Data(x=[2706, 30], edge_index=[2, 859466], y=[2706], threshold=0.1656153779830362), Data(x=[2706, 30], edge_index=[2, 753604], y=[2706], threshold=0.1965539297067331), Data(x=[2706, 30], edge_index=[2, 658264], y=[2706], threshold=0.22749248143043), Data(x=[2706, 30], edge_index=[2, 572932], y=[2706], threshold=0.25843103315412685), Data(x=[2706, 30], edge_index=[2, 496599], y=[2706], threshold=0.28936958487782377), Data(x=[2706, 30], edge_index=[2, 428550], y=[2706], threshold=0.3203081366015207), Data(x=[2706, 30], edge_index=[2, 368070], y=[2706], threshold=0.35124668832521755), Data(x=[2706, 30], edge_index=[2, 314645], y=[2706], threshold=0.38218524004891447), Data(x=[2706, 30], edge_index=[2, 267653], y=[2706], threshold=0.4131237917726114), Data(x=[2706, 30], edge_index=[2, 226773], y=[2706], threshold=0.44406234349630824), Data(x=[2706, 30], edge_index=[2, 191001], y=[2706], threshold=0.47500089522000516), Data(x=[2706, 30], edge_index=[2, 160298], y=[2706], threshold=0.5059394469437021), Data(x=[2706, 30], edge_index=[2, 133757], y=[2706], threshold=0.5368779986673989), Data(x=[2706, 30], edge_index=[2, 110543], y=[2706], threshold=0.5678165503910959), Data(x=[2706, 30], edge_index=[2, 90617], y=[2706], threshold=0.5987551021147928), Data(x=[2706, 30], edge_index=[2, 73692], y=[2706], threshold=0.6296936538384896), Data(x=[2706, 30], edge_index=[2, 59707], y=[2706], threshold=0.6606322055621866), Data(x=[2706, 30], edge_index=[2, 47819], y=[2706], threshold=0.6915707572858835), Data(x=[2706, 30], edge_index=[2, 37982], y=[2706], threshold=0.7225093090095803), Data(x=[2706, 30], edge_index=[2, 30018], y=[2706], threshold=0.7534478607332773), Data(x=[2706, 30], edge_index=[2, 23403], y=[2706], threshold=0.7843864124569742), Data(x=[2706, 30], edge_index=[2, 17748], y=[2706], threshold=0.815324964180671), Data(x=[2706, 30], edge_index=[2, 12979], y=[2706], threshold=0.846263515904368), Data(x=[2706, 30], edge_index=[2, 8736], y=[2706], threshold=0.8772020676280649), Data(x=[2706, 30], edge_index=[2, 5237], y=[2706], threshold=0.9081406193517617)]\n"
     ]
    }
   ],
   "source": [
    "print(all_data)"
   ]
  },
  {
   "cell_type": "code",
   "execution_count": 44,
   "metadata": {},
   "outputs": [],
   "source": [
    "# gat\n",
    "from torch_geometric.nn import GATConv\n",
    "import torch.nn.functional as F\n",
    "class Encoder_GAT(torch.nn.Module):\n",
    "    def __init__(self, num_heads, input_dim, hidden_dim, output_dim, num_layers):\n",
    "        super(Encoder_GAT, self).__init__()\n",
    "        self.num_layers = num_layers\n",
    "        self.convs = torch.nn.ModuleList()\n",
    "        for i in range(self.num_layers-1):\n",
    "            if i:\n",
    "                conv = GATConv(hidden_dim * num_heads, hidden_dim, heads=num_heads)\n",
    "            else:\n",
    "                conv = GATConv(input_dim, hidden_dim, heads=num_heads)\n",
    "\n",
    "            self.convs.append(conv)\n",
    "            \n",
    "        if self.num_layers ==1:\n",
    "            conv = GATConv(input_dim, output_dim)\n",
    "            self.convs.append(conv)\n",
    "        elif self.num_layers >1:\n",
    "            conv = GATConv(hidden_dim * num_heads, output_dim)\n",
    "            self.convs.append(conv)\n",
    "\n",
    "    def forward(self, x, edge_index):\n",
    "        xs = []\n",
    "        for i in range(self.num_layers):\n",
    "            x = F.relu(self.convs[i](x, edge_index))\n",
    "        return x"
   ]
  },
  {
   "cell_type": "code",
   "execution_count": 45,
   "metadata": {},
   "outputs": [],
   "source": [
    "# model (gat + linear)\n",
    "import torch.nn as nn\n",
    "import torch.nn.functional as F\n",
    "class myGNN(nn.Module):\n",
    "    def __init__(self, enc_num_heads, enc_input_dim, enc_hidden_dim, enc_num_layers, linear_output_dim):\n",
    "        super(myGNN, self).__init__()\n",
    "        # GAT(input、output大小一樣)\n",
    "        self.encoder_neighbor = Encoder_GAT(enc_num_heads, enc_input_dim, enc_hidden_dim, enc_input_dim, enc_num_layers)\n",
    "        # linear層\n",
    "        self.proj_head_neighbor = nn.Linear(enc_input_dim, linear_output_dim)\n",
    "        self.proj_head_ego = nn.Linear(enc_input_dim, linear_output_dim)\n",
    "\n",
    "        self.init_emb()\n",
    "    # embedding初始化\n",
    "    def init_emb(self):\n",
    "        for m in self.modules():\n",
    "            if isinstance(m, nn.Linear):\n",
    "                torch.nn.init.xavier_uniform_(m.weight.data)\n",
    "                # BIASE初始化為0\n",
    "                if m.bias is not None:\n",
    "                    m.bias.data.fill_(0.0)\n",
    "    @staticmethod\n",
    "    def negative_sample(h_ego, h_neighbor):\n",
    "        # 返回一个0~n-1的數組，隨機打散\n",
    "        perm = torch.randperm(h_ego.shape[0])\n",
    "        # 打亂，作ego-ego negative\n",
    "        h_ego_neg = h_ego[perm]\n",
    "        # 打亂，作ego-neigbor negative\n",
    "        h_neighbor_neg = h_neighbor[perm]\n",
    "        return h_ego_neg, h_neighbor_neg\n",
    "\n",
    "    @staticmethod\n",
    "    def discriminator(x1, x2):\n",
    "        return -1 * F.cosine_similarity(x1, x2, dim=1).unsqueeze(0)\n",
    "\n",
    "    def forward(self, x, edge_index):\n",
    "        # GAT\n",
    "        h_neighbor = self.encoder_neighbor(x, edge_index)\n",
    "        h_neighbor = self.proj_head_neighbor(h_neighbor)\n",
    "        # linear\n",
    "        h_ego = self.proj_head_ego(x)\n",
    "\n",
    "        return h_ego, h_neighbor"
   ]
  },
  {
   "cell_type": "code",
   "execution_count": 72,
   "metadata": {},
   "outputs": [
    {
     "data": {
      "text/plain": [
       "0.3333333333333333"
      ]
     },
     "execution_count": 72,
     "metadata": {},
     "output_type": "execute_result"
    }
   ],
   "source": [
    "pyod.utils.utility.precision_n_scores([1, 1, 1, 0, 0], [40, 1, 1, 10, 2], n=None)"
   ]
  },
  {
   "cell_type": "code",
   "execution_count": 53,
   "metadata": {},
   "outputs": [],
   "source": [
    "# train & eval model\n",
    "import time\n",
    "from sklearn.metrics import roc_auc_score\n",
    "import json\n",
    "import copy\n",
    "import os\n",
    "import numpy as np\n",
    "import torch\n",
    "import pyod\n",
    "\n",
    "def rescale(x):\n",
    "    return ((x + 1) / 2)*(1-(2e-06)) + 1e-06\n",
    "\n",
    "\n",
    "def train_model(args, data, model, optimizer, loss_function):\n",
    "    stats = {\n",
    "        \"best_loss\": 1e9,\n",
    "        \"best_epoch\": -1,\n",
    "    }\n",
    "    model.train()\n",
    "\n",
    "    label_ones =  torch.ones(1, data.x.shape[0]).to(args[\"device\"])\n",
    "    label_zeros = torch.zeros(1, data.x.shape[0]).to(args[\"device\"])\n",
    "\n",
    "    for epoch in tqdm(range(args['num_epoch'])):\n",
    "        optimizer.zero_grad()\n",
    "        data = data.to(args['device'])\n",
    "        # forward(gat+linear)\n",
    "        h_ego, h_neighbor = model(data.x, data.edge_index)\n",
    "        h_ego_neg, h_neighbor_neg  = model.negative_sample(h_ego, h_neighbor)\n",
    "        # 算 -c\n",
    "        c_neighbor_pos = model.discriminator(h_ego, h_neighbor)\n",
    "        c_neighbor_neg = model.discriminator(h_ego, h_neighbor_neg)\n",
    "        c_ego_neg = model.discriminator(h_ego, h_ego_neg)\n",
    "        # rescal(x) = (x-(-1)) / 2，使介於0~1(原介於-1~1)\n",
    "        score_pos = rescale(c_neighbor_pos)\n",
    "        score_aug = rescale(c_neighbor_neg)\n",
    "        score_nod = rescale(c_ego_neg)\n",
    "        \n",
    "        # BCE loss\n",
    "        # ego-neighbor postive, ego-neighbor negative, ego-ego negative\n",
    "        loss_pos = loss_function(score_pos, label_zeros)\n",
    "        loss_aug = loss_function(score_aug, label_ones)\n",
    "        loss_nod = loss_function(score_nod, label_ones)\n",
    "        \n",
    "        loss_sum = loss_pos + args['alpha'] * loss_aug  + args['gamma'] * loss_nod\n",
    "\n",
    "        loss_sum.backward()\n",
    "        # 只用postive判斷好壞\n",
    "        if loss_pos < stats[\"best_loss\"]:\n",
    "            stats[\"best_loss\"] = loss_pos.item()\n",
    "            stats[\"best_epoch\"] = epoch\n",
    "            torch.save(model.state_dict(), args['state_path'])\n",
    "        optimizer.step()\n",
    "\n",
    "        # if epoch % 100 ==0:\n",
    "        #     eval_model(args, data, model)\n",
    "\n",
    "\n",
    "    return stats\n",
    "\n",
    "def eval_model(args, data, model):\n",
    "    model.eval()\n",
    "    with torch.no_grad():\n",
    "        data = data.to(args[\"device\"])\n",
    "        h_ego, h_neighbor = model(data.x, data.edge_index)\n",
    "        c_neighbor_pos = model.discriminator(h_ego, h_neighbor)\n",
    "        \n",
    "        y_true = (data.y).detach().cpu().tolist()\n",
    "        y_score = c_neighbor_pos.squeeze().detach().cpu().tolist()\n",
    "        auc = roc_auc_score(y_true, y_score)\n",
    "        precision_n_score = pyod.utils.utility.precision_n_scores(y_true, y_score, n=None)\n",
    "        \n",
    "    return auc, precision_n_score\n"
   ]
  },
  {
   "cell_type": "code",
   "execution_count": 57,
   "metadata": {},
   "outputs": [],
   "source": [
    "# run\n",
    "import random\n",
    "\n",
    "def set_random_seeds(seed):\n",
    "    np.random.seed(seed)\n",
    "    torch.manual_seed(seed)\n",
    "    torch.cuda.manual_seed(seed)\n",
    "    torch.cuda.manual_seed_all(seed)\n",
    "    random.seed(seed)\n",
    "    os.environ['PYTHONHASHSEED'] = str(seed)\n",
    "    torch.backends.cudnn.deterministic = True\n",
    "    torch.backends.cudnn.benchmark = False\n",
    "\n",
    "def run_experiment(args, data_train, data_test):\n",
    "    set_random_seeds(args['seed'])\n",
    "    # Create model\n",
    "    model = myGNN(args['enc_num_heads'], args['enc_input_dim'], args['enc_hidden_dim'],  args['enc_num_layers'], args[\"linear_output_dim\"])\n",
    "    model.to(args['device'])\n",
    "    optimizer = torch.optim.Adam(model.parameters(),\n",
    "                                 lr=args['lr'],\n",
    "                                 weight_decay=args['weight_decay'])\n",
    "    loss_function = torch.nn.BCELoss()\n",
    "    # train\n",
    "    stats = train_model(\n",
    "        args, data, model, optimizer, loss_function\n",
    "    )\n",
    "    # eval\n",
    "    model.load_state_dict(torch.load(args[\"state_path\"]))\n",
    "    auc, precision_n_score = eval_model(args, data_test, model)\n",
    "    stats[\"AUC\"] = auc\n",
    "    stats[\"Precision@n\"] = precision_n_score\n",
    "\n",
    "    return model, stats"
   ]
  },
  {
   "cell_type": "code",
   "execution_count": 58,
   "metadata": {},
   "outputs": [],
   "source": [
    "# 參數\n",
    "args = {\"lr\": 5e-4, \n",
    "        \"alpha\": 0.3, \n",
    "        \"gamma\": 0.4, \n",
    "        \"state_path\": \"model.pkl\", \n",
    "        \"device\": \"cuda:0\", \n",
    "        \"seed\": 1, \n",
    "        \"num_epoch\": 500, \n",
    "        \"weight_decay\": 0.0, \n",
    "        \"enc_num_heads\": 3, \n",
    "        \"enc_input_dim\":all_data[0].x.shape[1], \n",
    "        \"enc_hidden_dim\": 32, \n",
    "        \"linear_output_dim\": 64,\n",
    "        \"enc_num_layers\":1,\n",
    "       }"
   ]
  },
  {
   "cell_type": "code",
   "execution_count": 63,
   "metadata": {},
   "outputs": [
    {
     "name": "stdout",
     "output_type": "stream",
     "text": [
      "----------threshod = -0.02001593235914521-----------------\n"
     ]
    },
    {
     "name": "stderr",
     "output_type": "stream",
     "text": [
      "100%|██████████| 500/500 [00:07<00:00, 64.98it/s]\n"
     ]
    },
    {
     "name": "stdout",
     "output_type": "stream",
     "text": [
      "----------threshod = 0.010922619364551689-----------------\n"
     ]
    },
    {
     "name": "stderr",
     "output_type": "stream",
     "text": [
      "100%|██████████| 500/500 [00:07<00:00, 70.35it/s]\n"
     ]
    },
    {
     "name": "stdout",
     "output_type": "stream",
     "text": [
      "----------threshod = 0.04186117108824859-----------------\n"
     ]
    },
    {
     "name": "stderr",
     "output_type": "stream",
     "text": [
      "100%|██████████| 500/500 [00:06<00:00, 72.21it/s]\n"
     ]
    },
    {
     "name": "stdout",
     "output_type": "stream",
     "text": [
      "----------threshod = 0.07279972281194548-----------------\n"
     ]
    },
    {
     "name": "stderr",
     "output_type": "stream",
     "text": [
      "100%|██████████| 500/500 [00:06<00:00, 75.70it/s]\n"
     ]
    },
    {
     "name": "stdout",
     "output_type": "stream",
     "text": [
      "----------threshod = 0.10373827453564238-----------------\n"
     ]
    },
    {
     "name": "stderr",
     "output_type": "stream",
     "text": [
      "100%|██████████| 500/500 [00:06<00:00, 77.65it/s]\n"
     ]
    },
    {
     "name": "stdout",
     "output_type": "stream",
     "text": [
      "----------threshod = 0.1346768262593393-----------------\n"
     ]
    },
    {
     "name": "stderr",
     "output_type": "stream",
     "text": [
      "100%|██████████| 500/500 [00:05<00:00, 87.09it/s]\n"
     ]
    },
    {
     "name": "stdout",
     "output_type": "stream",
     "text": [
      "----------threshod = 0.1656153779830362-----------------\n"
     ]
    },
    {
     "name": "stderr",
     "output_type": "stream",
     "text": [
      "100%|██████████| 500/500 [00:05<00:00, 88.25it/s] \n"
     ]
    },
    {
     "name": "stdout",
     "output_type": "stream",
     "text": [
      "----------threshod = 0.1965539297067331-----------------\n"
     ]
    },
    {
     "name": "stderr",
     "output_type": "stream",
     "text": [
      "100%|██████████| 500/500 [00:05<00:00, 90.85it/s] \n"
     ]
    },
    {
     "name": "stdout",
     "output_type": "stream",
     "text": [
      "----------threshod = 0.22749248143043-----------------\n"
     ]
    },
    {
     "name": "stderr",
     "output_type": "stream",
     "text": [
      "100%|██████████| 500/500 [00:05<00:00, 88.79it/s]\n"
     ]
    },
    {
     "name": "stdout",
     "output_type": "stream",
     "text": [
      "----------threshod = 0.25843103315412685-----------------\n"
     ]
    },
    {
     "name": "stderr",
     "output_type": "stream",
     "text": [
      "100%|██████████| 500/500 [00:05<00:00, 94.47it/s] \n"
     ]
    },
    {
     "name": "stdout",
     "output_type": "stream",
     "text": [
      "----------threshod = 0.28936958487782377-----------------\n"
     ]
    },
    {
     "name": "stderr",
     "output_type": "stream",
     "text": [
      "100%|██████████| 500/500 [00:04<00:00, 100.31it/s]\n"
     ]
    },
    {
     "name": "stdout",
     "output_type": "stream",
     "text": [
      "----------threshod = 0.3203081366015207-----------------\n"
     ]
    },
    {
     "name": "stderr",
     "output_type": "stream",
     "text": [
      "100%|██████████| 500/500 [00:04<00:00, 106.65it/s]\n"
     ]
    },
    {
     "name": "stdout",
     "output_type": "stream",
     "text": [
      "----------threshod = 0.35124668832521755-----------------\n"
     ]
    },
    {
     "name": "stderr",
     "output_type": "stream",
     "text": [
      "100%|██████████| 500/500 [00:04<00:00, 110.48it/s]\n"
     ]
    },
    {
     "name": "stdout",
     "output_type": "stream",
     "text": [
      "----------threshod = 0.38218524004891447-----------------\n"
     ]
    },
    {
     "name": "stderr",
     "output_type": "stream",
     "text": [
      "100%|██████████| 500/500 [00:04<00:00, 109.14it/s]\n"
     ]
    },
    {
     "name": "stdout",
     "output_type": "stream",
     "text": [
      "----------threshod = 0.4131237917726114-----------------\n"
     ]
    },
    {
     "name": "stderr",
     "output_type": "stream",
     "text": [
      "100%|██████████| 500/500 [00:04<00:00, 117.47it/s]\n"
     ]
    },
    {
     "name": "stdout",
     "output_type": "stream",
     "text": [
      "----------threshod = 0.44406234349630824-----------------\n"
     ]
    },
    {
     "name": "stderr",
     "output_type": "stream",
     "text": [
      "100%|██████████| 500/500 [00:04<00:00, 118.31it/s]\n"
     ]
    },
    {
     "name": "stdout",
     "output_type": "stream",
     "text": [
      "----------threshod = 0.47500089522000516-----------------\n"
     ]
    },
    {
     "name": "stderr",
     "output_type": "stream",
     "text": [
      "100%|██████████| 500/500 [00:04<00:00, 107.24it/s]\n"
     ]
    },
    {
     "name": "stdout",
     "output_type": "stream",
     "text": [
      "----------threshod = 0.5059394469437021-----------------\n"
     ]
    },
    {
     "name": "stderr",
     "output_type": "stream",
     "text": [
      "100%|██████████| 500/500 [00:04<00:00, 103.47it/s]\n"
     ]
    },
    {
     "name": "stdout",
     "output_type": "stream",
     "text": [
      "----------threshod = 0.5368779986673989-----------------\n"
     ]
    },
    {
     "name": "stderr",
     "output_type": "stream",
     "text": [
      "100%|██████████| 500/500 [00:04<00:00, 109.08it/s]\n"
     ]
    },
    {
     "name": "stdout",
     "output_type": "stream",
     "text": [
      "----------threshod = 0.5678165503910959-----------------\n"
     ]
    },
    {
     "name": "stderr",
     "output_type": "stream",
     "text": [
      "100%|██████████| 500/500 [00:04<00:00, 102.58it/s]\n"
     ]
    },
    {
     "name": "stdout",
     "output_type": "stream",
     "text": [
      "----------threshod = 0.5987551021147928-----------------\n"
     ]
    },
    {
     "name": "stderr",
     "output_type": "stream",
     "text": [
      "100%|██████████| 500/500 [00:04<00:00, 105.06it/s]\n"
     ]
    },
    {
     "name": "stdout",
     "output_type": "stream",
     "text": [
      "----------threshod = 0.6296936538384896-----------------\n"
     ]
    },
    {
     "name": "stderr",
     "output_type": "stream",
     "text": [
      "100%|██████████| 500/500 [00:05<00:00, 96.87it/s] \n"
     ]
    },
    {
     "name": "stdout",
     "output_type": "stream",
     "text": [
      "----------threshod = 0.6606322055621866-----------------\n"
     ]
    },
    {
     "name": "stderr",
     "output_type": "stream",
     "text": [
      "100%|██████████| 500/500 [00:04<00:00, 106.59it/s]\n"
     ]
    },
    {
     "name": "stdout",
     "output_type": "stream",
     "text": [
      "----------threshod = 0.6915707572858835-----------------\n"
     ]
    },
    {
     "name": "stderr",
     "output_type": "stream",
     "text": [
      "100%|██████████| 500/500 [00:04<00:00, 115.47it/s]\n"
     ]
    },
    {
     "name": "stdout",
     "output_type": "stream",
     "text": [
      "----------threshod = 0.7225093090095803-----------------\n"
     ]
    },
    {
     "name": "stderr",
     "output_type": "stream",
     "text": [
      "100%|██████████| 500/500 [00:04<00:00, 105.45it/s]\n"
     ]
    },
    {
     "name": "stdout",
     "output_type": "stream",
     "text": [
      "----------threshod = 0.7534478607332773-----------------\n"
     ]
    },
    {
     "name": "stderr",
     "output_type": "stream",
     "text": [
      "100%|██████████| 500/500 [00:04<00:00, 102.99it/s]\n"
     ]
    },
    {
     "name": "stdout",
     "output_type": "stream",
     "text": [
      "----------threshod = 0.7843864124569742-----------------\n"
     ]
    },
    {
     "name": "stderr",
     "output_type": "stream",
     "text": [
      "100%|██████████| 500/500 [00:04<00:00, 101.71it/s]\n"
     ]
    },
    {
     "name": "stdout",
     "output_type": "stream",
     "text": [
      "----------threshod = 0.815324964180671-----------------\n"
     ]
    },
    {
     "name": "stderr",
     "output_type": "stream",
     "text": [
      "100%|██████████| 500/500 [00:05<00:00, 97.92it/s] \n"
     ]
    },
    {
     "name": "stdout",
     "output_type": "stream",
     "text": [
      "----------threshod = 0.846263515904368-----------------\n"
     ]
    },
    {
     "name": "stderr",
     "output_type": "stream",
     "text": [
      "100%|██████████| 500/500 [00:04<00:00, 105.14it/s]\n"
     ]
    },
    {
     "name": "stdout",
     "output_type": "stream",
     "text": [
      "----------threshod = 0.8772020676280649-----------------\n"
     ]
    },
    {
     "name": "stderr",
     "output_type": "stream",
     "text": [
      "100%|██████████| 500/500 [00:04<00:00, 114.55it/s]\n"
     ]
    },
    {
     "name": "stdout",
     "output_type": "stream",
     "text": [
      "----------threshod = 0.9081406193517617-----------------\n"
     ]
    },
    {
     "name": "stderr",
     "output_type": "stream",
     "text": [
      "100%|██████████| 500/500 [00:04<00:00, 106.09it/s]\n"
     ]
    }
   ],
   "source": [
    "auc_dict = {}\n",
    "precision_n_dict = {}\n",
    "for data, data_test in zip(all_data, all_data_test): \n",
    "    print(\"----------threshod = \"+str(data.threshold)+\"-----------------\")\n",
    "    model, stats = run_experiment(args, data, data_test)\n",
    "    auc_dict[data.threshold]= stats[\"AUC\"]\n",
    "    precision_n_dict[data.threshold]= stats[\"Precision@n\"]\n",
    "    "
   ]
  },
  {
   "cell_type": "code",
   "execution_count": 64,
   "metadata": {},
   "outputs": [
    {
     "name": "stdout",
     "output_type": "stream",
     "text": [
      "{0.5987551021147928: 0.9023668639053255, 0.44406234349630824: 0.8444896449704141, 0.04186117108824859: 0.7773668639053255, 0.5678165503910959: 0.7633136094674556, -0.02001593235914521: 0.7544378698224852, 0.010922619364551689: 0.7392751479289941, 0.8772020676280649: 0.656619822485207, 0.5368779986673989: 0.6536612426035503, 0.846263515904368: 0.6442307692307692, 0.815324964180671: 0.6372041420118344, 0.7843864124569742: 0.6240754437869822, 0.6606322055621866: 0.5996671597633136, 0.6296936538384896: 0.5976331360946746, 0.47500089522000516: 0.5930103550295858, 0.07279972281194548: 0.582655325443787, 0.7534478607332773: 0.5780325443786982, 0.5059394469437021: 0.573594674556213, 0.9081406193517617: 0.5586168639053255, 0.7225093090095803: 0.5536242603550297, 0.6915707572858835: 0.5534393491124261, 0.10373827453564238: 0.4881656804733728, 0.1656153779830362: 0.47928994082840237, 0.22749248143043: 0.46911982248520706, 0.25843103315412685: 0.46893491124260356, 0.1346768262593393: 0.46431213017751477, 0.1965539297067331: 0.46375739644970415, 0.28936958487782377: 0.4328772189349112, 0.4131237917726114: 0.4312130177514793, 0.3203081366015207: 0.4162352071005917, 0.35124668832521755: 0.409948224852071, 0.38218524004891447: 0.3807322485207101}\n",
      "{-0.02001593235914521: 0.0, 0.010922619364551689: 0.0, 0.04186117108824859: 0.0, 0.07279972281194548: 0.0, 0.10373827453564238: 0.0, 0.1346768262593393: 0.0, 0.1656153779830362: 0.0, 0.1965539297067331: 0.0, 0.22749248143043: 0.0, 0.25843103315412685: 0.0, 0.28936958487782377: 0.0, 0.3203081366015207: 0.0, 0.35124668832521755: 0.0, 0.38218524004891447: 0.0, 0.4131237917726114: 0.0, 0.44406234349630824: 0.0, 0.47500089522000516: 0.0, 0.5059394469437021: 0.0, 0.5368779986673989: 0.0, 0.5678165503910959: 0.0, 0.5987551021147928: 0.0, 0.6296936538384896: 0.0, 0.6606322055621866: 0.0, 0.6915707572858835: 0.0, 0.7225093090095803: 0.0, 0.7534478607332773: 0.0, 0.7843864124569742: 0.0, 0.815324964180671: 0.0, 0.846263515904368: 0.0, 0.8772020676280649: 0.0, 0.9081406193517617: 0.0}\n"
     ]
    }
   ],
   "source": [
    "# 使用sorted函數對字典的值進行降序排列\n",
    "\n",
    "sorted_auc_dict = dict(sorted(auc_dict.items(), key=lambda item: item[1], reverse=True))\n",
    "sorted_precision_n_dict = dict(sorted(precision_n_dict.items(), key=lambda item: item[1], reverse=True))\n",
    "# 輸出排序後的字典\n",
    "print(sorted_auc_dict)\n",
    "print(sorted_precision_n_dict)"
   ]
  },
  {
   "cell_type": "code",
   "execution_count": 66,
   "metadata": {},
   "outputs": [
    {
     "data": {
      "image/png": "[encoded data removed]",
      "text/plain": [
       "<Figure size 640x480 with 1 Axes>"
      ]
     },
     "metadata": {},
     "output_type": "display_data"
    },
    {
     "data": {
      "image/png": "[encoded data removed]",
      "text/plain": [
       "<Figure size 640x480 with 1 Axes>"
      ]
     },
     "metadata": {},
     "output_type": "display_data"
    }
   ],
   "source": [
    "import matplotlib.pyplot as plt\n",
    "\n",
    "def plot_curve(data, metric_name):\n",
    "    keys = [i for i in range(31)]\n",
    "    values = list(data.values())\n",
    "    \n",
    "    plt.plot(keys, values)\n",
    "    plt.xlabel('Treshold (median + k*std.)')\n",
    "    plt.ylabel(metric_name)\n",
    "    plt.title('Threshold vs. '+metric_name)\n",
    "    # plt.grid(True)  # 加入網格線\n",
    "    plt.show()\n",
    "\n",
    "plot_curve(auc_dict, \"ROC-AUC\")\n",
    "plot_curve(precision_n_dict, \"Precision@Rank\")\n"
   ]
  },
  {
   "cell_type": "code",
   "execution_count": null,
   "metadata": {},
   "outputs": [],
   "source": []
  },
  {
   "cell_type": "code",
   "execution_count": null,
   "metadata": {},
   "outputs": [],
   "source": []
  }
 ],
 "metadata": {
  "kernelspec": {
   "display_name": "dl_proect",
   "language": "python",
   "name": "dl_proect"
  },
  "language_info": {
   "codemirror_mode": {
    "name": "ipython",
    "version": 3
   },
   "file_extension": ".py",
   "mimetype": "text/x-python",
   "name": "python",
   "nbconvert_exporter": "python",
   "pygments_lexer": "ipython3",
   "version": "3.9.19"
  }
 },
 "nbformat": 4,
 "nbformat_minor": 4
}
