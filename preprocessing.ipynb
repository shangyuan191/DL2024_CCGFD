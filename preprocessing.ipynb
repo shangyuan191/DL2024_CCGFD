{
 "cells": [
  {
   "cell_type": "code",
   "execution_count": 1,
   "metadata": {},
   "outputs": [],
   "source": [
    "import numpy as np\n",
    "import pandas as pd\n",
    "from sklearn.metrics.pairwise import cosine_similarity\n",
    "\n",
    "df=pd.read_csv('creditcard.csv')\n",
    "df.drop(columns=['Time', 'Amount'], inplace=True)\n",
    "\n",
    "fraud_data=df[df['Class']==1]\n",
    "normal_data=df[df['Class']==0].sample(n=len(fraud_data)*10,random_state=42)\n",
    "\n",
    "selected_df=pd.concat([normal_data,fraud_data])\n",
    "\n",
    "features=selected_df.drop(\"Class\",axis=1)\n",
    "cos_sim=cosine_similarity(features)"
   ]
  },
  {
   "cell_type": "code",
   "execution_count": 2,
   "metadata": {},
   "outputs": [
    {
     "name": "stdout",
     "output_type": "stream",
     "text": [
      "Number of edges:1328646\n",
      "0.09072431633407244\n"
     ]
    }
   ],
   "source": [
    "mask = cos_sim > 0.5\n",
    "\n",
    "src, dst = np.nonzero(mask)\n",
    "edge_index = np.stack([src, dst])\n",
    "density = 2*src.shape[0]/(features.shape[0]*features.shape[0])\n",
    "print(f'Number of edges:{len(src)}')\n",
    "print(density)"
   ]
  },
  {
   "cell_type": "code",
   "execution_count": 3,
   "metadata": {},
   "outputs": [
    {
     "name": "stdout",
     "output_type": "stream",
     "text": [
      "homo ratio : 0.9644209217504136\n"
     ]
    }
   ],
   "source": [
    "label = selected_df['Class'].values\n",
    "\n",
    "cnt = 0\n",
    "for i, j in zip(src, dst):\n",
    "    if label[i] == label[j]:\n",
    "        cnt += 1\n",
    "\n",
    "\n",
    "print(f'homo ratio : {cnt/len(src)}')"
   ]
  },
  {
   "cell_type": "code",
   "execution_count": 4,
   "metadata": {},
   "outputs": [],
   "source": [
    "X = selected_df.drop(columns=['Class']).values\n",
    "y = selected_df['Class'].values\n",
    "\n",
    "np.savez('creditcard.npz', features=X, label=y, cosine_sim=cos_sim)"
   ]
  },
  {
   "cell_type": "code",
   "execution_count": 5,
   "metadata": {},
   "outputs": [
    {
     "data": {
      "text/plain": [
       "['features', 'label', 'cosine_sim']"
      ]
     },
     "execution_count": 5,
     "metadata": {},
     "output_type": "execute_result"
    }
   ],
   "source": [
    "data = np.load('creditcard.npz')\n",
    "\n",
    "data.files"
   ]
  }
 ],
 "metadata": {
  "kernelspec": {
   "display_name": "let2",
   "language": "python",
   "name": "python3"
  },
  "language_info": {
   "codemirror_mode": {
    "name": "ipython",
    "version": 3
   },
   "file_extension": ".py",
   "mimetype": "text/x-python",
   "name": "python",
   "nbconvert_exporter": "python",
   "pygments_lexer": "ipython3",
   "version": "3.9.18"
  }
 },
 "nbformat": 4,
 "nbformat_minor": 2
}
