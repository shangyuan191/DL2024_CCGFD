{
 "cells": [
  {
   "cell_type": "code",
   "execution_count": 43,
   "metadata": {},
   "outputs": [],
   "source": [
    "import numpy as np\n",
    "import pandas as pd\n",
    "from sklearn.metrics.pairwise import cosine_similarity\n",
    "\n",
    "df=pd.read_csv('creditcard.csv')\n",
    "df.drop(columns=['Time'], inplace=True)\n",
    "\n",
    "fraud_data=df[df['Class']==1]\n",
    "normal_data=df[df['Class']==0].sample(n=len(fraud_data)*10,random_state=42)\n",
    "\n",
    "selected_df=pd.concat([normal_data,fraud_data])\n",
    "\n",
    "features=selected_df.drop(\"Class\",axis=1)\n",
    "cos_sim=cosine_similarity(features)"
   ]
  },
  {
   "cell_type": "code",
   "execution_count": 49,
   "metadata": {},
   "outputs": [
    {
     "name": "stdout",
     "output_type": "stream",
     "text": [
      "Number of edges:18675162\n",
      "0.6376007246768698\n"
     ]
    }
   ],
   "source": [
    "mask = cos_sim > 0.5\n",
    "\n",
    "src, dst = np.nonzero(mask)\n",
    "edge_index = np.stack([src, dst])\n",
    "density = src.shape[0]/(features.shape[0]*features.shape[0])\n",
    "print(f'Number of edges:{len(src)}')\n",
    "print(density)"
   ]
  },
  {
   "cell_type": "code",
   "execution_count": 45,
   "metadata": {},
   "outputs": [
    {
     "name": "stdout",
     "output_type": "stream",
     "text": [
      "homo ratio : 0.8904653143035653\n"
     ]
    }
   ],
   "source": [
    "label = selected_df['Class'].values\n",
    "\n",
    "cnt = 0\n",
    "for i, j in zip(src, dst):\n",
    "    if label[i] == label[j]:\n",
    "        cnt += 1\n",
    "\n",
    "\n",
    "print(f'homo ratio : {cnt/len(src)}')"
   ]
  },
  {
   "cell_type": "code",
   "execution_count": 46,
   "metadata": {},
   "outputs": [],
   "source": [
    "# create train validation mask(val ratio = 0.15)\n",
    "\n",
    "from sklearn.model_selection import StratifiedShuffleSplit\n",
    "\n",
    "X = selected_df.drop(columns=['Class']).values\n",
    "y = selected_df['Class'].values\n",
    "\n",
    "sss = StratifiedShuffleSplit(n_splits=1, test_size=0.15)\n",
    "\n",
    "train, val = list(sss.split(y,y))[0]\n",
    "\n",
    "train_mask = np.ones(X.shape[0], dtype=bool)\n",
    "for i in val:\n",
    "    train_mask[i] = False\n",
    "\n",
    "val_mask = np.zeros(X.shape[0], dtype=bool)\n",
    "for i in val:\n",
    "    val_mask[i] = True"
   ]
  },
  {
   "cell_type": "code",
   "execution_count": 48,
   "metadata": {},
   "outputs": [
    {
     "data": {
      "text/plain": [
       "['features', 'label', 'cosine_sim', 'train_mask', 'val_mask']"
      ]
     },
     "execution_count": 48,
     "metadata": {},
     "output_type": "execute_result"
    }
   ],
   "source": [
    "import os\n",
    "\n",
    "os.makedirs('./dataset/raw', exist_ok=True)\n",
    "\n",
    "np.savez('./dataset/raw/creditcard.npz', features=X, label=y, cosine_sim=cos_sim, train_mask=train_mask, val_mask=val_mask)\n",
    "data = np.load('./dataset/raw/creditcard.npz')\n",
    "\n",
    "data.files"
   ]
  }
 ],
 "metadata": {
  "kernelspec": {
   "display_name": "let2",
   "language": "python",
   "name": "python3"
  },
  "language_info": {
   "codemirror_mode": {
    "name": "ipython",
    "version": 3
   },
   "file_extension": ".py",
   "mimetype": "text/x-python",
   "name": "python",
   "nbconvert_exporter": "python",
   "pygments_lexer": "ipython3",
   "version": "3.9.18"
  }
 },
 "nbformat": 4,
 "nbformat_minor": 2
}
