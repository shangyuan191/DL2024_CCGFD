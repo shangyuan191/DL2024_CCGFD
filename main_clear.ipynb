{
 "cells": [
  {
   "cell_type": "code",
   "execution_count": 78,
   "metadata": {},
   "outputs": [],
   "source": [
    "!mkdir graph_clear\n",
    "!mkdir plot_G_clear\n",
    "!mkdir experiments_plt_clear\n",
    "!mkdir graph_clear/test\n",
    "!mkdir graph_clear/train"
   ]
  },
  {
   "cell_type": "code",
   "execution_count": 79,
   "metadata": {},
   "outputs": [],
   "source": [
    "import csv\n",
    "import pandas as pd\n",
    "import numpy as np\n",
    "from tqdm import tqdm"
   ]
  },
  {
   "cell_type": "code",
   "execution_count": 80,
   "metadata": {},
   "outputs": [],
   "source": [
    "# 讀csv，回傳data frame\n",
    "def DataLoader(file_name):\n",
    "    df=pd.read_csv(file_name)\n",
    "    print(df.shape)\n",
    "    print(df.columns)\n",
    "    return df"
   ]
  },
  {
   "cell_type": "code",
   "execution_count": 81,
   "metadata": {},
   "outputs": [
    {
     "name": "stdout",
     "output_type": "stream",
     "text": [
      "(284807, 31)\n",
      "Index(['Time', 'V1', 'V2', 'V3', 'V4', 'V5', 'V6', 'V7', 'V8', 'V9', 'V10',\n",
      "       'V11', 'V12', 'V13', 'V14', 'V15', 'V16', 'V17', 'V18', 'V19', 'V20',\n",
      "       'V21', 'V22', 'V23', 'V24', 'V25', 'V26', 'V27', 'V28', 'Amount',\n",
      "       'Class'],\n",
      "      dtype='object')\n"
     ]
    }
   ],
   "source": [
    "\n",
    "df=DataLoader('creditcard.csv')\n"
   ]
  },
  {
   "cell_type": "code",
   "execution_count": 82,
   "metadata": {},
   "outputs": [],
   "source": [
    "from sklearn.metrics.pairwise import cosine_similarity\n",
    "from sklearn.preprocessing import StandardScaler"
   ]
  },
  {
   "cell_type": "code",
   "execution_count": 84,
   "metadata": {},
   "outputs": [],
   "source": [
    "# 10:1的資料\n",
    "def data_sampling(df):\n",
    "    # print(df)\n",
    "    fraud_data=df[df['Class']==1]\n",
    "    normal_data=df[df['Class']==0].sample(n=len(fraud_data)*10,random_state=42)\n",
    "    # test: normal: 492*2, fraud:492\n",
    "    selected_df_eval=pd.concat([normal_data[:int(len(normal_data)*0.2)], fraud_data[:]])\n",
    "    # train: normal: 492*8\n",
    "    selected_df_train= normal_data[int(len(normal_data)*0.2):]\n",
    "    \n",
    "    selected_df_train.reset_index(drop=True,inplace=True)\n",
    "    selected_df_eval.reset_index(drop=True,inplace=True)\n",
    "    \n",
    "    return selected_df_train, selected_df_eval"
   ]
  },
  {
   "cell_type": "code",
   "execution_count": 85,
   "metadata": {},
   "outputs": [],
   "source": [
    "df_train, df_eval=data_sampling(df)"
   ]
  },
  {
   "cell_type": "code",
   "execution_count": 87,
   "metadata": {},
   "outputs": [
    {
     "name": "stdout",
     "output_type": "stream",
     "text": [
      "3936 1476\n"
     ]
    }
   ],
   "source": [
    "print(len(df_train), len(df_eval))"
   ]
  },
  {
   "cell_type": "code",
   "execution_count": 88,
   "metadata": {},
   "outputs": [],
   "source": [
    "# 標準化\n",
    "def data_standardization(df):\n",
    "    # 假設 df 是你的 DataFrame，columns 是要標準化的欄位名稱列表\n",
    "    columns_to_normalize = ['Time', 'Amount']  # 填入要標準化的欄位名稱\n",
    "    # 初始化 StandardScaler 物件\n",
    "    scaler = StandardScaler()\n",
    "    # 對指定列進行標準化\n",
    "    df[columns_to_normalize] = scaler.fit_transform(df[columns_to_normalize])\n",
    "    return df\n",
    "\n"
   ]
  },
  {
   "cell_type": "code",
   "execution_count": 89,
   "metadata": {},
   "outputs": [],
   "source": [
    "df_train=data_standardization(df_train)\n",
    "df_eval=data_standardization(df_eval)"
   ]
  },
  {
   "cell_type": "code",
   "execution_count": 90,
   "metadata": {},
   "outputs": [],
   "source": [
    "df_train=df_train.drop('Time', axis=1)\n",
    "df_eval=df_eval.drop('Time', axis=1)"
   ]
  },
  {
   "cell_type": "code",
   "execution_count": 91,
   "metadata": {},
   "outputs": [
    {
     "data": {
      "text/html": [
       "<div>\n",
       "<style scoped>\n",
       "    .dataframe tbody tr th:only-of-type {\n",
       "        vertical-align: middle;\n",
       "    }\n",
       "\n",
       "    .dataframe tbody tr th {\n",
       "        vertical-align: top;\n",
       "    }\n",
       "\n",
       "    .dataframe thead th {\n",
       "        text-align: right;\n",
       "    }\n",
       "</style>\n",
       "<table border=\"1\" class=\"dataframe\">\n",
       "  <thead>\n",
       "    <tr style=\"text-align: right;\">\n",
       "      <th></th>\n",
       "      <th>V1</th>\n",
       "      <th>V2</th>\n",
       "      <th>V3</th>\n",
       "      <th>V4</th>\n",
       "      <th>V5</th>\n",
       "      <th>V6</th>\n",
       "      <th>V7</th>\n",
       "      <th>V8</th>\n",
       "      <th>V9</th>\n",
       "      <th>V10</th>\n",
       "      <th>...</th>\n",
       "      <th>V21</th>\n",
       "      <th>V22</th>\n",
       "      <th>V23</th>\n",
       "      <th>V24</th>\n",
       "      <th>V25</th>\n",
       "      <th>V26</th>\n",
       "      <th>V27</th>\n",
       "      <th>V28</th>\n",
       "      <th>Amount</th>\n",
       "      <th>Class</th>\n",
       "    </tr>\n",
       "  </thead>\n",
       "  <tbody>\n",
       "    <tr>\n",
       "      <th>0</th>\n",
       "      <td>0.325252</td>\n",
       "      <td>1.642478</td>\n",
       "      <td>-2.302045</td>\n",
       "      <td>1.784894</td>\n",
       "      <td>0.319449</td>\n",
       "      <td>-1.805527</td>\n",
       "      <td>0.847002</td>\n",
       "      <td>0.163771</td>\n",
       "      <td>-0.420456</td>\n",
       "      <td>-1.466160</td>\n",
       "      <td>...</td>\n",
       "      <td>-0.063749</td>\n",
       "      <td>-0.254147</td>\n",
       "      <td>0.353532</td>\n",
       "      <td>-0.001664</td>\n",
       "      <td>-0.428714</td>\n",
       "      <td>-0.398239</td>\n",
       "      <td>0.095823</td>\n",
       "      <td>-0.042684</td>\n",
       "      <td>0.017365</td>\n",
       "      <td>0</td>\n",
       "    </tr>\n",
       "    <tr>\n",
       "      <th>1</th>\n",
       "      <td>1.160606</td>\n",
       "      <td>-0.138051</td>\n",
       "      <td>0.757619</td>\n",
       "      <td>0.412589</td>\n",
       "      <td>-0.547107</td>\n",
       "      <td>0.225658</td>\n",
       "      <td>-0.615182</td>\n",
       "      <td>0.314944</td>\n",
       "      <td>0.335008</td>\n",
       "      <td>0.079566</td>\n",
       "      <td>...</td>\n",
       "      <td>-0.043678</td>\n",
       "      <td>-0.184558</td>\n",
       "      <td>0.084885</td>\n",
       "      <td>-0.324191</td>\n",
       "      <td>0.057808</td>\n",
       "      <td>0.250145</td>\n",
       "      <td>-0.002658</td>\n",
       "      <td>0.006881</td>\n",
       "      <td>-0.342926</td>\n",
       "      <td>0</td>\n",
       "    </tr>\n",
       "    <tr>\n",
       "      <th>2</th>\n",
       "      <td>2.138035</td>\n",
       "      <td>-1.051684</td>\n",
       "      <td>-0.463701</td>\n",
       "      <td>-0.965450</td>\n",
       "      <td>-1.138561</td>\n",
       "      <td>-0.410339</td>\n",
       "      <td>-1.141493</td>\n",
       "      <td>0.096134</td>\n",
       "      <td>0.034684</td>\n",
       "      <td>0.918321</td>\n",
       "      <td>...</td>\n",
       "      <td>-0.027996</td>\n",
       "      <td>-0.154237</td>\n",
       "      <td>0.351031</td>\n",
       "      <td>-0.397332</td>\n",
       "      <td>-0.527848</td>\n",
       "      <td>-0.480491</td>\n",
       "      <td>0.000570</td>\n",
       "      <td>-0.056187</td>\n",
       "      <td>-0.325898</td>\n",
       "      <td>0</td>\n",
       "    </tr>\n",
       "    <tr>\n",
       "      <th>3</th>\n",
       "      <td>1.136069</td>\n",
       "      <td>0.095976</td>\n",
       "      <td>0.571346</td>\n",
       "      <td>0.515965</td>\n",
       "      <td>-0.374073</td>\n",
       "      <td>-0.317503</td>\n",
       "      <td>-0.118680</td>\n",
       "      <td>0.080941</td>\n",
       "      <td>-0.188287</td>\n",
       "      <td>0.061873</td>\n",
       "      <td>...</td>\n",
       "      <td>-0.160764</td>\n",
       "      <td>-0.511025</td>\n",
       "      <td>0.171633</td>\n",
       "      <td>0.211303</td>\n",
       "      <td>0.072639</td>\n",
       "      <td>0.093888</td>\n",
       "      <td>-0.020393</td>\n",
       "      <td>0.008978</td>\n",
       "      <td>-0.308613</td>\n",
       "      <td>0</td>\n",
       "    </tr>\n",
       "    <tr>\n",
       "      <th>4</th>\n",
       "      <td>-0.600322</td>\n",
       "      <td>-0.357556</td>\n",
       "      <td>1.343979</td>\n",
       "      <td>-1.606260</td>\n",
       "      <td>0.244115</td>\n",
       "      <td>-0.500086</td>\n",
       "      <td>0.051513</td>\n",
       "      <td>-0.061282</td>\n",
       "      <td>-0.998988</td>\n",
       "      <td>-0.194315</td>\n",
       "      <td>...</td>\n",
       "      <td>0.046256</td>\n",
       "      <td>0.028677</td>\n",
       "      <td>-0.023843</td>\n",
       "      <td>-0.426313</td>\n",
       "      <td>-0.096662</td>\n",
       "      <td>-0.503900</td>\n",
       "      <td>0.114771</td>\n",
       "      <td>0.149094</td>\n",
       "      <td>-0.184184</td>\n",
       "      <td>0</td>\n",
       "    </tr>\n",
       "  </tbody>\n",
       "</table>\n",
       "<p>5 rows × 30 columns</p>\n",
       "</div>"
      ],
      "text/plain": [
       "         V1        V2        V3        V4        V5        V6        V7  \\\n",
       "0  0.325252  1.642478 -2.302045  1.784894  0.319449 -1.805527  0.847002   \n",
       "1  1.160606 -0.138051  0.757619  0.412589 -0.547107  0.225658 -0.615182   \n",
       "2  2.138035 -1.051684 -0.463701 -0.965450 -1.138561 -0.410339 -1.141493   \n",
       "3  1.136069  0.095976  0.571346  0.515965 -0.374073 -0.317503 -0.118680   \n",
       "4 -0.600322 -0.357556  1.343979 -1.606260  0.244115 -0.500086  0.051513   \n",
       "\n",
       "         V8        V9       V10  ...       V21       V22       V23       V24  \\\n",
       "0  0.163771 -0.420456 -1.466160  ... -0.063749 -0.254147  0.353532 -0.001664   \n",
       "1  0.314944  0.335008  0.079566  ... -0.043678 -0.184558  0.084885 -0.324191   \n",
       "2  0.096134  0.034684  0.918321  ... -0.027996 -0.154237  0.351031 -0.397332   \n",
       "3  0.080941 -0.188287  0.061873  ... -0.160764 -0.511025  0.171633  0.211303   \n",
       "4 -0.061282 -0.998988 -0.194315  ...  0.046256  0.028677 -0.023843 -0.426313   \n",
       "\n",
       "        V25       V26       V27       V28    Amount  Class  \n",
       "0 -0.428714 -0.398239  0.095823 -0.042684  0.017365      0  \n",
       "1  0.057808  0.250145 -0.002658  0.006881 -0.342926      0  \n",
       "2 -0.527848 -0.480491  0.000570 -0.056187 -0.325898      0  \n",
       "3  0.072639  0.093888 -0.020393  0.008978 -0.308613      0  \n",
       "4 -0.096662 -0.503900  0.114771  0.149094 -0.184184      0  \n",
       "\n",
       "[5 rows x 30 columns]"
      ]
     },
     "execution_count": 91,
     "metadata": {},
     "output_type": "execute_result"
    }
   ],
   "source": [
    "df_train.head()"
   ]
  },
  {
   "cell_type": "code",
   "execution_count": 92,
   "metadata": {},
   "outputs": [],
   "source": [
    "def calculate_cosine_similarity(df, type):\n",
    "    features=df.drop(\"Class\",axis=1)\n",
    "    cos_sim=cosine_similarity(features)\n",
    "    np.save(\"cos_sim_\"+type+\".npy\",cos_sim)\n",
    "    print(\"Cosine similarity calculation completed and saved.\") \n",
    "\n"
   ]
  },
  {
   "cell_type": "code",
   "execution_count": 93,
   "metadata": {},
   "outputs": [
    {
     "name": "stdout",
     "output_type": "stream",
     "text": [
      "Cosine similarity calculation completed and saved.\n",
      "Cosine similarity calculation completed and saved.\n"
     ]
    }
   ],
   "source": [
    "calculate_cosine_similarity(df_train, \"train\")\n",
    "calculate_cosine_similarity(df_eval, \"eval\")"
   ]
  },
  {
   "cell_type": "code",
   "execution_count": 94,
   "metadata": {},
   "outputs": [],
   "source": [
    "cos_sim_train=np.load(\"cos_sim_train.npy\")\n",
    "cos_sim_eval=np.load(\"cos_sim_eval.npy\")"
   ]
  },
  {
   "cell_type": "code",
   "execution_count": 95,
   "metadata": {},
   "outputs": [],
   "source": [
    "def cos_sim_describe(cos_sim):\n",
    "    # 計算每一列的統計量\n",
    "    max_values = np.max(cos_sim, axis=1)\n",
    "    min_values = np.min(cos_sim, axis=1)\n",
    "    median_values = np.median(cos_sim, axis=1)\n",
    "    mean_values = np.mean(cos_sim, axis=1)\n",
    "    std_values = np.std(cos_sim, axis=1)\n",
    "\n",
    "    # 對這些統計量再次計算統計量\n",
    "    stats_max = np.max(max_values)\n",
    "    stats_min = np.min(min_values)\n",
    "    stats_median = np.median(median_values)\n",
    "    stats_mean = np.mean(mean_values)\n",
    "    stats_std = np.std(std_values)\n",
    "\n",
    "    # 印出結果\n",
    "    print(\"Statistics of row statistics:\")\n",
    "    print(\"  Max:\", stats_max)\n",
    "    print(\"  Min:\", stats_min)\n",
    "    print(\"  Median:\", stats_median)\n",
    "    print(\"  Mean:\", stats_mean)\n",
    "    print(\"  Std:\", stats_std)\n",
    "    cos_sim_dict={'max':stats_max,'min':stats_min,'median':stats_median\n",
    "                  ,'mean':stats_mean,'std':stats_std}\n",
    "    return cos_sim_dict"
   ]
  },
  {
   "cell_type": "code",
   "execution_count": 96,
   "metadata": {},
   "outputs": [
    {
     "name": "stdout",
     "output_type": "stream",
     "text": [
      "Statistics of row statistics:\n",
      "  Max: 1.0000000000000009\n",
      "  Min: -0.8642020102565723\n",
      "  Median: -0.017440612742569854\n",
      "  Mean: 0.006859442807159533\n",
      "  Std: 0.03334119022891002\n",
      "{'max': 1.0000000000000009, 'min': -0.8642020102565723, 'median': -0.017440612742569854, 'mean': 0.006859442807159533, 'std': 0.03334119022891002}\n"
     ]
    }
   ],
   "source": [
    "cos_sim_dict_train=cos_sim_describe(cos_sim_train)\n",
    "print(cos_sim_dict_train)"
   ]
  },
  {
   "cell_type": "code",
   "execution_count": 97,
   "metadata": {},
   "outputs": [
    {
     "name": "stdout",
     "output_type": "stream",
     "text": [
      "Statistics of row statistics:\n",
      "  Max: 1.0000000000000009\n",
      "  Min: -0.8109369593150345\n",
      "  Median: -0.012320050572720521\n",
      "  Mean: 0.05715802901988381\n",
      "  Std: 0.06782575094329439\n",
      "{'max': 1.0000000000000009, 'min': -0.8109369593150345, 'median': -0.012320050572720521, 'mean': 0.05715802901988381, 'std': 0.06782575094329439}\n"
     ]
    }
   ],
   "source": [
    "cos_sim_dict_eval =cos_sim_describe(cos_sim_eval)\n",
    "print(cos_sim_dict_eval)"
   ]
  },
  {
   "cell_type": "code",
   "execution_count": 98,
   "metadata": {},
   "outputs": [],
   "source": [
    "## graph construction\n",
    "import networkx as nx"
   ]
  },
  {
   "cell_type": "code",
   "execution_count": 99,
   "metadata": {},
   "outputs": [],
   "source": [
    "def graph_construction(cos_sim,df,threshold):\n",
    "    G=nx.Graph()\n",
    "    for i in tqdm(range(cos_sim.shape[0]),desc=\"Add nodes into G...\"):\n",
    "        node_name=i\n",
    "        feature=(df.iloc[i]).to_dict()\n",
    "        G.add_node(node_name,**feature)\n",
    "\n",
    "    for i in tqdm(range(cos_sim.shape[0]),desc=\"Graph Construction...\"):\n",
    "        for j in range(i+1,cos_sim.shape[1]):\n",
    "            if cos_sim[i,j]>threshold:\n",
    "                G.add_edge(i,j)\n",
    "    return G\n"
   ]
  },
  {
   "cell_type": "code",
   "execution_count": 100,
   "metadata": {},
   "outputs": [],
   "source": [
    "from collections import Counter\n",
    "def graph_describe(G,round_digit):\n",
    "    density=2*G.number_of_edges()/(G.number_of_nodes()*(G.number_of_nodes()-1))\n",
    "    # 获取节点的度数\n",
    "    degrees = [degree for node, degree in G.degree()]\n",
    "    # 计算统计指标\n",
    "    mean_degree = np.mean(degrees)\n",
    "    median_degree = np.median(degrees)\n",
    "    std_degree = np.std(degrees)\n",
    "    max_degree = np.max(degrees)\n",
    "    min_degree = np.min(degrees)\n",
    "    \n",
    "    edge_consistency={}\n",
    "    fraud_node_set=set()\n",
    "    for edge in tqdm(G.edges(),desc=\"Check edge consistent...\"):\n",
    "        node1_class=G.nodes[edge[0]]['Class']\n",
    "        node2_class=G.nodes[edge[1]]['Class']\n",
    "\n",
    "        if node1_class==node2_class:\n",
    "            edge_consistency[edge]=1\n",
    "        else:\n",
    "            edge_consistency[edge]=0\n",
    "\n",
    "    value_counts=Counter(edge_consistency.values())\n",
    "    ratio=value_counts[0]/G.number_of_edges()\n",
    "    return G.number_of_nodes(),G.number_of_edges(),density,mean_degree,median_degree,std_degree,max_degree,min_degree,ratio"
   ]
  },
  {
   "cell_type": "code",
   "execution_count": 101,
   "metadata": {},
   "outputs": [],
   "source": [
    "import pickle\n",
    "\n",
    "def save_graph(name, G):\n",
    "    # save graph object to file\n",
    "    pickle.dump(G, open(\"graph_clear/\"+name+'.pickle', 'wb'))\n",
    "\n",
    "def load_graph(name, G):\n",
    "    # load graph object from file\n",
    "    G = pickle.load(open(\"graph_clear/\"+name+'.pickle', 'rb'))\n",
    "    return G"
   ]
  },
  {
   "cell_type": "code",
   "execution_count": 102,
   "metadata": {},
   "outputs": [],
   "source": [
    "def data_construction(type, cos_sim, cos_sim_dict_train):\n",
    "    data_dic={'threshold':[],'number_of_nodes':[],'number_of_edges':[],'density':[]\n",
    "              ,'mean_degree':[],'median_degree':[],'std_of_degree':[],'max_degree':[]\n",
    "              ,'min_degree':[],'ratio_of_heterogeneous':[]}\n",
    "    graph=[]\n",
    "    for factor in range(31):\n",
    "        # threshold\n",
    "        threshold=cos_sim_dict_train['median']+factor*cos_sim_dict_train['std']\n",
    "        data_dic['threshold'].append(threshold)\n",
    "        G=graph_construction(cos_sim,df,threshold)\n",
    "        graph.append(G)\n",
    "        # 存graph\n",
    "        save_graph(type+\"/\"+str(threshold), G)\n",
    "        \n",
    "        non,noe,d,meand,medd,stdd,maxd,mind,ratio=graph_describe(G,3)\n",
    "        data_dic['number_of_nodes'].append(non)\n",
    "        data_dic['number_of_edges'].append(noe)\n",
    "        data_dic['density'].append(d)\n",
    "        data_dic['mean_degree'].append(meand)\n",
    "        data_dic['median_degree'].append(medd)\n",
    "        data_dic['std_of_degree'].append(stdd)\n",
    "        data_dic['max_degree'].append(maxd)\n",
    "        data_dic['min_degree'].append(mind)\n",
    "        data_dic['ratio_of_heterogeneous'].append(ratio)\n",
    "    \n",
    "    return graph, data_dic\n",
    "\n"
   ]
  },
  {
   "cell_type": "code",
   "execution_count": 103,
   "metadata": {},
   "outputs": [
    {
     "name": "stderr",
     "output_type": "stream",
     "text": [
      "Add nodes into G...: 100%|██████████| 3936/3936 [00:00<00:00, 6609.18it/s]\n",
      "Graph Construction...: 100%|██████████| 3936/3936 [00:06<00:00, 634.73it/s] \n",
      "Check edge consistent...: 100%|██████████| 3805653/3805653 [00:06<00:00, 624815.39it/s]\n",
      "Add nodes into G...: 100%|██████████| 3936/3936 [00:00<00:00, 14450.23it/s]\n",
      "Graph Construction...: 100%|██████████| 3936/3936 [00:06<00:00, 653.51it/s] \n",
      "Check edge consistent...: 100%|██████████| 3416766/3416766 [00:05<00:00, 670488.99it/s]\n",
      "Add nodes into G...: 100%|██████████| 3936/3936 [00:00<00:00, 14587.23it/s]\n",
      "Graph Construction...: 100%|██████████| 3936/3936 [00:05<00:00, 745.75it/s] \n",
      "Check edge consistent...: 100%|██████████| 3050096/3050096 [00:04<00:00, 668000.67it/s]\n",
      "Add nodes into G...: 100%|██████████| 3936/3936 [00:00<00:00, 14628.65it/s]\n",
      "Graph Construction...: 100%|██████████| 3936/3936 [00:05<00:00, 747.89it/s] \n",
      "Check edge consistent...: 100%|██████████| 2706919/2706919 [00:03<00:00, 700867.88it/s]\n",
      "Add nodes into G...: 100%|██████████| 3936/3936 [00:00<00:00, 13616.34it/s]\n",
      "Graph Construction...: 100%|██████████| 3936/3936 [00:04<00:00, 905.53it/s] \n",
      "Check edge consistent...: 100%|██████████| 2389037/2389037 [00:03<00:00, 703144.97it/s]\n",
      "Add nodes into G...: 100%|██████████| 3936/3936 [00:00<00:00, 13907.42it/s]\n",
      "Graph Construction...: 100%|██████████| 3936/3936 [00:03<00:00, 990.72it/s] \n",
      "Check edge consistent...: 100%|██████████| 2095586/2095586 [00:02<00:00, 716388.11it/s]\n",
      "Add nodes into G...: 100%|██████████| 3936/3936 [00:00<00:00, 14787.18it/s]\n",
      "Graph Construction...: 100%|██████████| 3936/3936 [00:03<00:00, 1093.99it/s]\n",
      "Check edge consistent...: 100%|██████████| 1827467/1827467 [00:02<00:00, 710285.69it/s]\n",
      "Add nodes into G...: 100%|██████████| 3936/3936 [00:00<00:00, 14744.89it/s]\n",
      "Graph Construction...: 100%|██████████| 3936/3936 [00:03<00:00, 1183.21it/s]\n",
      "Check edge consistent...: 100%|██████████| 1583383/1583383 [00:02<00:00, 720069.21it/s]\n",
      "Add nodes into G...: 100%|██████████| 3936/3936 [00:00<00:00, 10885.60it/s]\n",
      "Graph Construction...: 100%|██████████| 3936/3936 [00:03<00:00, 1266.55it/s]\n",
      "Check edge consistent...: 100%|██████████| 1363699/1363699 [00:01<00:00, 733770.59it/s]\n",
      "Add nodes into G...: 100%|██████████| 3936/3936 [00:00<00:00, 14367.84it/s]\n",
      "Graph Construction...: 100%|██████████| 3936/3936 [00:02<00:00, 1413.62it/s]\n",
      "Check edge consistent...: 100%|██████████| 1167553/1167553 [00:01<00:00, 719741.29it/s]\n",
      "Add nodes into G...: 100%|██████████| 3936/3936 [00:00<00:00, 14756.99it/s]\n",
      "Graph Construction...: 100%|██████████| 3936/3936 [00:02<00:00, 1524.25it/s]\n",
      "Check edge consistent...: 100%|██████████| 993306/993306 [00:01<00:00, 729721.48it/s]\n",
      "Add nodes into G...: 100%|██████████| 3936/3936 [00:00<00:00, 14652.27it/s]\n",
      "Graph Construction...: 100%|██████████| 3936/3936 [00:02<00:00, 1632.26it/s]\n",
      "Check edge consistent...: 100%|██████████| 839568/839568 [00:01<00:00, 708300.43it/s]\n",
      "Add nodes into G...: 100%|██████████| 3936/3936 [00:00<00:00, 18476.97it/s]\n",
      "Graph Construction...: 100%|██████████| 3936/3936 [00:01<00:00, 2160.03it/s]\n",
      "Check edge consistent...: 100%|██████████| 704856/704856 [00:00<00:00, 854732.24it/s]\n",
      "Add nodes into G...: 100%|██████████| 3936/3936 [00:00<00:00, 17540.81it/s]\n",
      "Graph Construction...: 100%|██████████| 3936/3936 [00:01<00:00, 2360.13it/s]\n",
      "Check edge consistent...: 100%|██████████| 587288/587288 [00:00<00:00, 822236.53it/s]\n",
      "Add nodes into G...: 100%|██████████| 3936/3936 [00:00<00:00, 14436.85it/s]\n",
      "Graph Construction...: 100%|██████████| 3936/3936 [00:01<00:00, 2401.57it/s]\n",
      "Check edge consistent...: 100%|██████████| 485272/485272 [00:00<00:00, 747422.35it/s]\n",
      "Add nodes into G...: 100%|██████████| 3936/3936 [00:00<00:00, 15864.72it/s]\n",
      "Graph Construction...: 100%|██████████| 3936/3936 [00:01<00:00, 2258.58it/s]\n",
      "Check edge consistent...: 100%|██████████| 396871/396871 [00:00<00:00, 746412.15it/s]\n",
      "Add nodes into G...: 100%|██████████| 3936/3936 [00:00<00:00, 14107.46it/s]\n",
      "Graph Construction...: 100%|██████████| 3936/3936 [00:01<00:00, 2378.32it/s]\n",
      "Check edge consistent...: 100%|██████████| 322262/322262 [00:00<00:00, 753428.78it/s]\n",
      "Add nodes into G...: 100%|██████████| 3936/3936 [00:00<00:00, 14539.81it/s]\n",
      "Graph Construction...: 100%|██████████| 3936/3936 [00:01<00:00, 2495.95it/s]\n",
      "Check edge consistent...: 100%|██████████| 258275/258275 [00:00<00:00, 695655.10it/s]\n",
      "Add nodes into G...: 100%|██████████| 3936/3936 [00:00<00:00, 12338.07it/s]\n",
      "Graph Construction...: 100%|██████████| 3936/3936 [00:01<00:00, 2593.39it/s]\n",
      "Check edge consistent...: 100%|██████████| 203403/203403 [00:00<00:00, 745021.03it/s]\n",
      "Add nodes into G...: 100%|██████████| 3936/3936 [00:00<00:00, 14744.20it/s]\n",
      "Graph Construction...: 100%|██████████| 3936/3936 [00:01<00:00, 2699.86it/s]\n",
      "Check edge consistent...: 100%|██████████| 158043/158043 [00:00<00:00, 731116.19it/s]\n",
      "Add nodes into G...: 100%|██████████| 3936/3936 [00:00<00:00, 14346.13it/s]\n",
      "Graph Construction...: 100%|██████████| 3936/3936 [00:01<00:00, 2810.90it/s]\n",
      "Check edge consistent...: 100%|██████████| 120583/120583 [00:00<00:00, 730244.88it/s]\n",
      "Add nodes into G...: 100%|██████████| 3936/3936 [00:00<00:00, 14747.37it/s]\n",
      "Graph Construction...: 100%|██████████| 3936/3936 [00:01<00:00, 2847.59it/s]\n",
      "Check edge consistent...: 100%|██████████| 90326/90326 [00:00<00:00, 714998.27it/s]\n",
      "Add nodes into G...: 100%|██████████| 3936/3936 [00:00<00:00, 14456.28it/s]\n",
      "Graph Construction...: 100%|██████████| 3936/3936 [00:01<00:00, 2958.93it/s]\n",
      "Check edge consistent...: 100%|██████████| 66200/66200 [00:00<00:00, 699143.96it/s]\n",
      "Add nodes into G...: 100%|██████████| 3936/3936 [00:00<00:00, 14722.12it/s]\n",
      "Graph Construction...: 100%|██████████| 3936/3936 [00:01<00:00, 2945.31it/s]\n",
      "Check edge consistent...: 100%|██████████| 47383/47383 [00:00<00:00, 703582.03it/s]\n",
      "Add nodes into G...: 100%|██████████| 3936/3936 [00:00<00:00, 14665.28it/s]\n",
      "Graph Construction...: 100%|██████████| 3936/3936 [00:01<00:00, 3037.45it/s]\n",
      "Check edge consistent...: 100%|██████████| 32693/32693 [00:00<00:00, 699400.09it/s]\n",
      "Add nodes into G...: 100%|██████████| 3936/3936 [00:00<00:00, 14496.26it/s]\n",
      "Graph Construction...: 100%|██████████| 3936/3936 [00:01<00:00, 2922.06it/s]\n",
      "Check edge consistent...: 100%|██████████| 21695/21695 [00:00<00:00, 688509.08it/s]\n",
      "Add nodes into G...: 100%|██████████| 3936/3936 [00:00<00:00, 14034.87it/s]\n",
      "Graph Construction...: 100%|██████████| 3936/3936 [00:01<00:00, 3110.66it/s]\n",
      "Check edge consistent...: 100%|██████████| 13497/13497 [00:00<00:00, 655707.66it/s]\n",
      "Add nodes into G...: 100%|██████████| 3936/3936 [00:00<00:00, 14432.59it/s]\n",
      "Graph Construction...: 100%|██████████| 3936/3936 [00:01<00:00, 3652.89it/s]\n",
      "Check edge consistent...: 100%|██████████| 7935/7935 [00:00<00:00, 702251.43it/s]\n",
      "Add nodes into G...: 100%|██████████| 3936/3936 [00:00<00:00, 17694.64it/s]\n",
      "Graph Construction...: 100%|██████████| 3936/3936 [00:01<00:00, 3882.66it/s]\n",
      "Check edge consistent...: 100%|██████████| 4230/4230 [00:00<00:00, 705920.74it/s]\n",
      "Add nodes into G...: 100%|██████████| 3936/3936 [00:00<00:00, 16355.42it/s]\n",
      "Graph Construction...: 100%|██████████| 3936/3936 [00:01<00:00, 3706.45it/s]\n",
      "Check edge consistent...: 100%|██████████| 1897/1897 [00:00<00:00, 552694.82it/s]\n",
      "Add nodes into G...: 100%|██████████| 3936/3936 [00:00<00:00, 17035.69it/s]\n",
      "Graph Construction...: 100%|██████████| 3936/3936 [00:01<00:00, 3787.71it/s]\n",
      "Check edge consistent...: 100%|██████████| 523/523 [00:00<00:00, 356222.96it/s]\n",
      "Add nodes into G...: 100%|██████████| 1476/1476 [00:00<00:00, 17147.06it/s]\n",
      "Graph Construction...: 100%|██████████| 1476/1476 [00:00<00:00, 2150.59it/s]\n",
      "Check edge consistent...: 100%|██████████| 553713/553713 [00:00<00:00, 899639.73it/s]\n",
      "Add nodes into G...: 100%|██████████| 1476/1476 [00:00<00:00, 17180.47it/s]\n",
      "Graph Construction...: 100%|██████████| 1476/1476 [00:14<00:00, 104.26it/s]\n",
      "Check edge consistent...: 100%|██████████| 471370/471370 [00:00<00:00, 816202.72it/s]\n",
      "Add nodes into G...: 100%|██████████| 1476/1476 [00:00<00:00, 14926.71it/s]\n",
      "Graph Construction...: 100%|██████████| 1476/1476 [00:00<00:00, 2334.71it/s]\n",
      "Check edge consistent...: 100%|██████████| 405514/405514 [00:00<00:00, 794536.78it/s]\n",
      "Add nodes into G...: 100%|██████████| 1476/1476 [00:00<00:00, 14880.25it/s]\n",
      "Graph Construction...: 100%|██████████| 1476/1476 [00:00<00:00, 2662.38it/s]\n",
      "Check edge consistent...: 100%|██████████| 351296/351296 [00:00<00:00, 741913.76it/s]\n",
      "Add nodes into G...: 100%|██████████| 1476/1476 [00:00<00:00, 14284.74it/s]\n",
      "Graph Construction...: 100%|██████████| 1476/1476 [00:00<00:00, 2410.42it/s]\n",
      "Check edge consistent...: 100%|██████████| 307580/307580 [00:00<00:00, 831622.30it/s]\n",
      "Add nodes into G...: 100%|██████████| 1476/1476 [00:00<00:00, 14754.53it/s]\n",
      "Graph Construction...: 100%|██████████| 1476/1476 [00:00<00:00, 2969.09it/s]\n",
      "Check edge consistent...: 100%|██████████| 272255/272255 [00:00<00:00, 833087.89it/s]\n",
      "Add nodes into G...: 100%|██████████| 1476/1476 [00:00<00:00, 14811.75it/s]\n",
      "Graph Construction...: 100%|██████████| 1476/1476 [00:00<00:00, 3419.49it/s]\n",
      "Check edge consistent...: 100%|██████████| 242558/242558 [00:00<00:00, 832193.18it/s]\n",
      "Add nodes into G...: 100%|██████████| 1476/1476 [00:00<00:00, 14507.55it/s]\n",
      "Graph Construction...: 100%|██████████| 1476/1476 [00:00<00:00, 3142.18it/s]\n",
      "Check edge consistent...: 100%|██████████| 217691/217691 [00:00<00:00, 792790.38it/s]\n",
      "Add nodes into G...: 100%|██████████| 1476/1476 [00:00<00:00, 10296.19it/s]\n",
      "Graph Construction...: 100%|██████████| 1476/1476 [00:00<00:00, 3670.74it/s]\n",
      "Check edge consistent...: 100%|██████████| 196470/196470 [00:00<00:00, 831486.74it/s]\n",
      "Add nodes into G...: 100%|██████████| 1476/1476 [00:00<00:00, 14382.78it/s]\n",
      "Graph Construction...: 100%|██████████| 1476/1476 [00:00<00:00, 4100.52it/s]\n",
      "Check edge consistent...: 100%|██████████| 177994/177994 [00:00<00:00, 787976.19it/s]\n",
      "Add nodes into G...: 100%|██████████| 1476/1476 [00:00<00:00, 14813.41it/s]\n",
      "Graph Construction...: 100%|██████████| 1476/1476 [00:00<00:00, 4250.84it/s]\n",
      "Check edge consistent...: 100%|██████████| 161962/161962 [00:00<00:00, 842060.34it/s]\n",
      "Add nodes into G...: 100%|██████████| 1476/1476 [00:00<00:00, 14782.29it/s]\n",
      "Graph Construction...: 100%|██████████| 1476/1476 [00:00<00:00, 4457.77it/s]\n",
      "Check edge consistent...: 100%|██████████| 147872/147872 [00:00<00:00, 822966.03it/s]\n",
      "Add nodes into G...: 100%|██████████| 1476/1476 [00:00<00:00, 13990.56it/s]\n",
      "Graph Construction...: 100%|██████████| 1476/1476 [00:00<00:00, 4704.26it/s]\n",
      "Check edge consistent...: 100%|██████████| 135015/135015 [00:00<00:00, 812377.82it/s]\n",
      "Add nodes into G...: 100%|██████████| 1476/1476 [00:00<00:00, 14831.55it/s]\n",
      "Graph Construction...: 100%|██████████| 1476/1476 [00:00<00:00, 4885.24it/s]\n",
      "Check edge consistent...: 100%|██████████| 124325/124325 [00:00<00:00, 780209.39it/s]\n",
      "Add nodes into G...: 100%|██████████| 1476/1476 [00:00<00:00, 13632.17it/s]\n",
      "Graph Construction...: 100%|██████████| 1476/1476 [00:00<00:00, 4781.67it/s]\n",
      "Check edge consistent...: 100%|██████████| 114767/114767 [00:00<00:00, 817370.87it/s]\n",
      "Add nodes into G...: 100%|██████████| 1476/1476 [00:00<00:00, 14834.75it/s]\n",
      "Graph Construction...: 100%|██████████| 1476/1476 [00:00<00:00, 5209.30it/s]\n",
      "Check edge consistent...: 100%|██████████| 106064/106064 [00:00<00:00, 810937.05it/s]\n",
      "Add nodes into G...: 100%|██████████| 1476/1476 [00:00<00:00, 14061.32it/s]\n",
      "Graph Construction...: 100%|██████████| 1476/1476 [00:00<00:00, 5329.04it/s]\n",
      "Check edge consistent...: 100%|██████████| 98080/98080 [00:00<00:00, 818257.53it/s]\n",
      "Add nodes into G...: 100%|██████████| 1476/1476 [00:00<00:00, 14605.13it/s]\n",
      "Graph Construction...: 100%|██████████| 1476/1476 [00:00<00:00, 4092.62it/s]\n",
      "Check edge consistent...: 100%|██████████| 90372/90372 [00:00<00:00, 789194.27it/s]\n",
      "Add nodes into G...: 100%|██████████| 1476/1476 [00:00<00:00, 15555.93it/s]\n",
      "Graph Construction...: 100%|██████████| 1476/1476 [00:00<00:00, 5961.63it/s]\n",
      "Check edge consistent...: 100%|██████████| 83457/83457 [00:00<00:00, 874170.34it/s]\n",
      "Add nodes into G...: 100%|██████████| 1476/1476 [00:00<00:00, 15618.96it/s]\n",
      "Graph Construction...: 100%|██████████| 1476/1476 [00:00<00:00, 6131.96it/s]\n",
      "Check edge consistent...: 100%|██████████| 77100/77100 [00:00<00:00, 875464.53it/s]\n",
      "Add nodes into G...: 100%|██████████| 1476/1476 [00:00<00:00, 15722.53it/s]\n",
      "Graph Construction...: 100%|██████████| 1476/1476 [00:00<00:00, 6340.19it/s]\n",
      "Check edge consistent...: 100%|██████████| 70771/70771 [00:00<00:00, 873041.81it/s]\n",
      "Add nodes into G...: 100%|██████████| 1476/1476 [00:00<00:00, 15042.04it/s]\n",
      "Graph Construction...: 100%|██████████| 1476/1476 [00:00<00:00, 6401.23it/s]\n",
      "Check edge consistent...: 100%|██████████| 64550/64550 [00:00<00:00, 809396.51it/s]\n",
      "Add nodes into G...: 100%|██████████| 1476/1476 [00:00<00:00, 14991.66it/s]\n",
      "Graph Construction...: 100%|██████████| 1476/1476 [00:00<00:00, 6364.18it/s]\n",
      "Check edge consistent...: 100%|██████████| 58487/58487 [00:00<00:00, 819959.68it/s]\n",
      "Add nodes into G...: 100%|██████████| 1476/1476 [00:00<00:00, 14096.29it/s]\n",
      "Graph Construction...: 100%|██████████| 1476/1476 [00:00<00:00, 6508.13it/s]\n",
      "Check edge consistent...: 100%|██████████| 52659/52659 [00:00<00:00, 812940.68it/s]\n",
      "Add nodes into G...: 100%|██████████| 1476/1476 [00:00<00:00, 14616.27it/s]\n",
      "Graph Construction...: 100%|██████████| 1476/1476 [00:00<00:00, 6585.68it/s]\n",
      "Check edge consistent...: 100%|██████████| 46444/46444 [00:00<00:00, 809626.79it/s]\n",
      "Add nodes into G...: 100%|██████████| 1476/1476 [00:00<00:00, 14622.14it/s]\n",
      "Graph Construction...: 100%|██████████| 1476/1476 [00:00<00:00, 6816.60it/s]\n",
      "Check edge consistent...: 100%|██████████| 39290/39290 [00:00<00:00, 819378.40it/s]\n",
      "Add nodes into G...: 100%|██████████| 1476/1476 [00:00<00:00, 14549.83it/s]\n",
      "Graph Construction...: 100%|██████████| 1476/1476 [00:00<00:00, 7153.16it/s]\n",
      "Check edge consistent...: 100%|██████████| 31408/31408 [00:00<00:00, 820087.15it/s]\n",
      "Add nodes into G...: 100%|██████████| 1476/1476 [00:00<00:00, 14038.14it/s]\n",
      "Graph Construction...: 100%|██████████| 1476/1476 [00:00<00:00, 7296.09it/s]\n",
      "Check edge consistent...: 100%|██████████| 22707/22707 [00:00<00:00, 805514.96it/s]\n",
      "Add nodes into G...: 100%|██████████| 1476/1476 [00:00<00:00, 14474.17it/s]\n",
      "Graph Construction...: 100%|██████████| 1476/1476 [00:00<00:00, 7609.28it/s]\n",
      "Check edge consistent...: 100%|██████████| 13677/13677 [00:00<00:00, 813441.14it/s]\n",
      "Add nodes into G...: 100%|██████████| 1476/1476 [00:00<00:00, 14335.88it/s]\n",
      "Graph Construction...: 100%|██████████| 1476/1476 [00:00<00:00, 8252.23it/s]\n",
      "Check edge consistent...: 100%|██████████| 5614/5614 [00:00<00:00, 751382.43it/s]\n",
      "Add nodes into G...: 100%|██████████| 1476/1476 [00:00<00:00, 14482.84it/s]\n",
      "Graph Construction...: 100%|██████████| 1476/1476 [00:00<00:00, 8289.50it/s]\n",
      "Check edge consistent...: 100%|██████████| 889/889 [00:00<00:00, 605609.27it/s]\n"
     ]
    }
   ],
   "source": [
    "graph, data_dic = data_construction(\"train\", cos_sim_train, cos_sim_dict_train)\n",
    "# !!!!test也用train的相似度去計算threshold\n",
    "graph_test, data_dic_test = data_construction(\"test\", cos_sim_eval, cos_sim_dict_train)"
   ]
  },
  {
   "cell_type": "code",
   "execution_count": 104,
   "metadata": {},
   "outputs": [],
   "source": [
    "# 存成data.json\n",
    "import json\n",
    "def save_data_dic(type, data_dic):\n",
    "    for key in data_dic:\n",
    "        if isinstance(data_dic[key][0], np.int32) or isinstance(data_dic[key][0], np.int64):\n",
    "            data_dic[key]=[int(num) for num in data_dic[key]]\n",
    "        elif isinstance(data_dic[key][0], np.float64):\n",
    "            data_dic[key]=[float(num) for num in data_dic[key]]\n",
    "    json_data=json.dumps(data_dic,indent=4)\n",
    "    with open('data_'+type+'.json','w') as json_file:\n",
    "        json_file.write(json_data)\n",
    "    with open(\"data.json\",'r') as json_file:\n",
    "        data_dic=json.load(json_file)\n",
    "    # type_list=[]\n",
    "    # for key in data_dic:\n",
    "    #     print(f\"{key}:\")\n",
    "    #     print([round(num,3) for num in data_dic[key]])\n",
    "    #     print(f\"type:{type(data_dic[key][0])}\")\n",
    "    #     type_list.append(type(data_dic[key][0]))\n",
    "    #     print()\n",
    "    # print(type_list)"
   ]
  },
  {
   "cell_type": "code",
   "execution_count": 105,
   "metadata": {},
   "outputs": [
    {
     "data": {
      "text/plain": [
       "{'threshold': [-0.017440612742569854,\n",
       "  0.01590057748634017,\n",
       "  0.04924176771525019,\n",
       "  0.0825829579441602,\n",
       "  0.11592414817307023,\n",
       "  0.14926533840198025,\n",
       "  0.18260652863089027,\n",
       "  0.2159477188598003,\n",
       "  0.24928890908871032,\n",
       "  0.28263009931762034,\n",
       "  0.31597128954653037,\n",
       "  0.3493124797754404,\n",
       "  0.3826536700043504,\n",
       "  0.41599486023326043,\n",
       "  0.44933605046217046,\n",
       "  0.4826772406910805,\n",
       "  0.5160184309199906,\n",
       "  0.5493596211489006,\n",
       "  0.5827008113778106,\n",
       "  0.6160420016067206,\n",
       "  0.6493831918356306,\n",
       "  0.6827243820645407,\n",
       "  0.7160655722934507,\n",
       "  0.7494067625223607,\n",
       "  0.7827479527512707,\n",
       "  0.8160891429801808,\n",
       "  0.8494303332090908,\n",
       "  0.8827715234380008,\n",
       "  0.9161127136669108,\n",
       "  0.9494539038958208,\n",
       "  0.9827950941247309],\n",
       " 'number_of_nodes': [3936,\n",
       "  3936,\n",
       "  3936,\n",
       "  3936,\n",
       "  3936,\n",
       "  3936,\n",
       "  3936,\n",
       "  3936,\n",
       "  3936,\n",
       "  3936,\n",
       "  3936,\n",
       "  3936,\n",
       "  3936,\n",
       "  3936,\n",
       "  3936,\n",
       "  3936,\n",
       "  3936,\n",
       "  3936,\n",
       "  3936,\n",
       "  3936,\n",
       "  3936,\n",
       "  3936,\n",
       "  3936,\n",
       "  3936,\n",
       "  3936,\n",
       "  3936,\n",
       "  3936,\n",
       "  3936,\n",
       "  3936,\n",
       "  3936,\n",
       "  3936],\n",
       " 'number_of_edges': [3805653,\n",
       "  3416766,\n",
       "  3050096,\n",
       "  2706919,\n",
       "  2389037,\n",
       "  2095586,\n",
       "  1827467,\n",
       "  1583383,\n",
       "  1363699,\n",
       "  1167553,\n",
       "  993306,\n",
       "  839568,\n",
       "  704856,\n",
       "  587288,\n",
       "  485272,\n",
       "  396871,\n",
       "  322262,\n",
       "  258275,\n",
       "  203403,\n",
       "  158043,\n",
       "  120583,\n",
       "  90326,\n",
       "  66200,\n",
       "  47383,\n",
       "  32693,\n",
       "  21695,\n",
       "  13497,\n",
       "  7935,\n",
       "  4230,\n",
       "  1897,\n",
       "  523],\n",
       " 'density': [0.4914273871137695,\n",
       "  0.4412100598134317,\n",
       "  0.3938616336608093,\n",
       "  0.349546879680995,\n",
       "  0.30849849175111826,\n",
       "  0.27060490077581845,\n",
       "  0.2359824536936602,\n",
       "  0.20446366773070526,\n",
       "  0.1760956756645076,\n",
       "  0.15076716666150142,\n",
       "  0.1282664951808349,\n",
       "  0.1084141692751108,\n",
       "  0.0910186878234729,\n",
       "  0.0758370264769992,\n",
       "  0.06266360884701604,\n",
       "  0.051248308385243954,\n",
       "  0.041613981260524166,\n",
       "  0.03335128252807306,\n",
       "  0.02626561192549664,\n",
       "  0.020408234419065918,\n",
       "  0.015570991002159069,\n",
       "  0.011663877439282651,\n",
       "  0.008548465408415203,\n",
       "  0.0061186093118872735,\n",
       "  0.004221676428962511,\n",
       "  0.002801494819268396,\n",
       "  0.0017428797223169182,\n",
       "  0.0010246536709331514,\n",
       "  0.000546223696036198,\n",
       "  0.00024496131238313653,\n",
       "  6.753545934442825e-05],\n",
       " 'mean_degree': [1933.7667682926829,\n",
       "  1736.1615853658536,\n",
       "  1549.8455284552845,\n",
       "  1375.4669715447155,\n",
       "  1213.9415650406504,\n",
       "  1064.8302845528456,\n",
       "  928.5909552845528,\n",
       "  804.5645325203252,\n",
       "  692.9364837398374,\n",
       "  593.2688008130082,\n",
       "  504.7286585365854,\n",
       "  426.609756097561,\n",
       "  358.1585365853659,\n",
       "  298.4186991869919,\n",
       "  246.58130081300814,\n",
       "  201.66209349593495,\n",
       "  163.7510162601626,\n",
       "  131.2372967479675,\n",
       "  103.35518292682927,\n",
       "  80.3064024390244,\n",
       "  61.271849593495936,\n",
       "  45.89735772357724,\n",
       "  33.63821138211382,\n",
       "  24.076727642276424,\n",
       "  16.61229674796748,\n",
       "  11.023882113821138,\n",
       "  6.858231707317073,\n",
       "  4.032012195121951,\n",
       "  2.149390243902439,\n",
       "  0.9639227642276422,\n",
       "  0.2657520325203252],\n",
       " 'median_degree': [1967.0,\n",
       "  1784.5,\n",
       "  1595.5,\n",
       "  1415.0,\n",
       "  1254.0,\n",
       "  1096.0,\n",
       "  952.0,\n",
       "  820.0,\n",
       "  702.0,\n",
       "  599.0,\n",
       "  507.0,\n",
       "  425.0,\n",
       "  355.0,\n",
       "  292.0,\n",
       "  239.0,\n",
       "  196.0,\n",
       "  156.0,\n",
       "  123.0,\n",
       "  96.0,\n",
       "  74.0,\n",
       "  55.0,\n",
       "  40.0,\n",
       "  28.0,\n",
       "  19.0,\n",
       "  12.0,\n",
       "  7.0,\n",
       "  4.0,\n",
       "  2.0,\n",
       "  1.0,\n",
       "  0.0,\n",
       "  0.0],\n",
       " 'std_of_degree': [178.6643619784933,\n",
       "  199.06982195230086,\n",
       "  213.19992816661357,\n",
       "  220.62798381541373,\n",
       "  221.97812103786686,\n",
       "  218.23082794548685,\n",
       "  210.67580804889514,\n",
       "  199.88586530458315,\n",
       "  186.68145184141795,\n",
       "  171.99272472969332,\n",
       "  156.4985536954562,\n",
       "  141.03778628763328,\n",
       "  125.98908992760146,\n",
       "  111.85135495658942,\n",
       "  98.77520001571895,\n",
       "  86.52502778396347,\n",
       "  75.57861154690168,\n",
       "  65.1335096277812,\n",
       "  55.37320592596553,\n",
       "  46.33881956681863,\n",
       "  38.45881653591581,\n",
       "  31.644118520205524,\n",
       "  25.471293487430067,\n",
       "  20.144415268938616,\n",
       "  15.306890791423271,\n",
       "  11.184722029644357,\n",
       "  7.807726481383702,\n",
       "  5.27356226465573,\n",
       "  3.4816650468010564,\n",
       "  2.0895158486691394,\n",
       "  0.9497035499676055],\n",
       " 'max_degree': [2311,\n",
       "  2105,\n",
       "  1921,\n",
       "  1755,\n",
       "  1599,\n",
       "  1505,\n",
       "  1397,\n",
       "  1288,\n",
       "  1185,\n",
       "  1090,\n",
       "  980,\n",
       "  890,\n",
       "  797,\n",
       "  729,\n",
       "  644,\n",
       "  560,\n",
       "  450,\n",
       "  362,\n",
       "  285,\n",
       "  237,\n",
       "  201,\n",
       "  159,\n",
       "  134,\n",
       "  101,\n",
       "  77,\n",
       "  62,\n",
       "  42,\n",
       "  28,\n",
       "  24,\n",
       "  20,\n",
       "  12],\n",
       " 'min_degree': [1018,\n",
       "  437,\n",
       "  259,\n",
       "  161,\n",
       "  130,\n",
       "  112,\n",
       "  103,\n",
       "  94,\n",
       "  56,\n",
       "  19,\n",
       "  5,\n",
       "  3,\n",
       "  1,\n",
       "  1,\n",
       "  1,\n",
       "  1,\n",
       "  1,\n",
       "  1,\n",
       "  1,\n",
       "  1,\n",
       "  0,\n",
       "  0,\n",
       "  0,\n",
       "  0,\n",
       "  0,\n",
       "  0,\n",
       "  0,\n",
       "  0,\n",
       "  0,\n",
       "  0,\n",
       "  0],\n",
       " 'ratio_of_heterogeneous': [0.0010016677821125574,\n",
       "  0.0009991904625602105,\n",
       "  0.001011115715702063,\n",
       "  0.0010192399550928565,\n",
       "  0.0010297036002372504,\n",
       "  0.001047439713760256,\n",
       "  0.0010544650053872383,\n",
       "  0.001037020101895751,\n",
       "  0.0010302860088626596,\n",
       "  0.0010175126953551573,\n",
       "  0.0010097593289479778,\n",
       "  0.0009921769290873403,\n",
       "  0.0009590611415665044,\n",
       "  0.0009467246053043822,\n",
       "  0.0009108293905273744,\n",
       "  0.0008667803895976274,\n",
       "  0.0008254153452780657,\n",
       "  0.0008092149840286516,\n",
       "  0.00070303781163503,\n",
       "  0.000664376150794404,\n",
       "  0.0005639269217053814,\n",
       "  0.00045391138764032504,\n",
       "  0.0004078549848942598,\n",
       "  0.00033767384927083555,\n",
       "  0.00024470070045575507,\n",
       "  9.218713989398479e-05,\n",
       "  7.40905386382159e-05,\n",
       "  0.0,\n",
       "  0.0,\n",
       "  0.0,\n",
       "  0.0]}"
      ]
     },
     "execution_count": 105,
     "metadata": {},
     "output_type": "execute_result"
    }
   ],
   "source": [
    "data_dic"
   ]
  },
  {
   "cell_type": "code",
   "execution_count": 106,
   "metadata": {},
   "outputs": [
    {
     "data": {
      "text/plain": [
       "{'threshold': [-0.017440612742569854,\n",
       "  0.01590057748634017,\n",
       "  0.04924176771525019,\n",
       "  0.0825829579441602,\n",
       "  0.11592414817307023,\n",
       "  0.14926533840198025,\n",
       "  0.18260652863089027,\n",
       "  0.2159477188598003,\n",
       "  0.24928890908871032,\n",
       "  0.28263009931762034,\n",
       "  0.31597128954653037,\n",
       "  0.3493124797754404,\n",
       "  0.3826536700043504,\n",
       "  0.41599486023326043,\n",
       "  0.44933605046217046,\n",
       "  0.4826772406910805,\n",
       "  0.5160184309199906,\n",
       "  0.5493596211489006,\n",
       "  0.5827008113778106,\n",
       "  0.6160420016067206,\n",
       "  0.6493831918356306,\n",
       "  0.6827243820645407,\n",
       "  0.7160655722934507,\n",
       "  0.7494067625223607,\n",
       "  0.7827479527512707,\n",
       "  0.8160891429801808,\n",
       "  0.8494303332090908,\n",
       "  0.8827715234380008,\n",
       "  0.9161127136669108,\n",
       "  0.9494539038958208,\n",
       "  0.9827950941247309],\n",
       " 'number_of_nodes': [1476,\n",
       "  1476,\n",
       "  1476,\n",
       "  1476,\n",
       "  1476,\n",
       "  1476,\n",
       "  1476,\n",
       "  1476,\n",
       "  1476,\n",
       "  1476,\n",
       "  1476,\n",
       "  1476,\n",
       "  1476,\n",
       "  1476,\n",
       "  1476,\n",
       "  1476,\n",
       "  1476,\n",
       "  1476,\n",
       "  1476,\n",
       "  1476,\n",
       "  1476,\n",
       "  1476,\n",
       "  1476,\n",
       "  1476,\n",
       "  1476,\n",
       "  1476,\n",
       "  1476,\n",
       "  1476,\n",
       "  1476,\n",
       "  1476,\n",
       "  1476],\n",
       " 'number_of_edges': [553713,\n",
       "  471370,\n",
       "  405514,\n",
       "  351296,\n",
       "  307580,\n",
       "  272255,\n",
       "  242558,\n",
       "  217691,\n",
       "  196470,\n",
       "  177994,\n",
       "  161962,\n",
       "  147872,\n",
       "  135015,\n",
       "  124325,\n",
       "  114767,\n",
       "  106064,\n",
       "  98080,\n",
       "  90372,\n",
       "  83457,\n",
       "  77100,\n",
       "  70771,\n",
       "  64550,\n",
       "  58487,\n",
       "  52659,\n",
       "  46444,\n",
       "  39290,\n",
       "  31408,\n",
       "  22707,\n",
       "  13677,\n",
       "  5614,\n",
       "  889],\n",
       " 'density': [0.5086702494143586,\n",
       "  0.43302558449313305,\n",
       "  0.37252675577603234,\n",
       "  0.3227192136328143,\n",
       "  0.282559367966561,\n",
       "  0.25010794175738366,\n",
       "  0.2228266960635708,\n",
       "  0.19998254558816775,\n",
       "  0.18048780487804877,\n",
       "  0.16351476735106335,\n",
       "  0.14878691837765834,\n",
       "  0.1358430940241606,\n",
       "  0.12403196913325065,\n",
       "  0.11421156584447201,\n",
       "  0.10543107803959395,\n",
       "  0.09743603876716733,\n",
       "  0.09010151118460337,\n",
       "  0.08302053190023426,\n",
       "  0.07666804464654817,\n",
       "  0.07082816590877773,\n",
       "  0.06501400946212851,\n",
       "  0.059299067566946854,\n",
       "  0.0537292728859492,\n",
       "  0.048375361719718894,\n",
       "  0.042665931744063204,\n",
       "  0.03609388636259244,\n",
       "  0.02885306141197005,\n",
       "  0.02085985944605209,\n",
       "  0.012564420559459832,\n",
       "  0.005157319369803868,\n",
       "  0.0008166827430986175],\n",
       " 'mean_degree': [750.2886178861788,\n",
       "  638.7127371273713,\n",
       "  549.4769647696477,\n",
       "  476.0108401084011,\n",
       "  416.7750677506775,\n",
       "  368.9092140921409,\n",
       "  328.66937669376694,\n",
       "  294.97425474254743,\n",
       "  266.219512195122,\n",
       "  241.18428184281842,\n",
       "  219.46070460704607,\n",
       "  200.36856368563684,\n",
       "  182.9471544715447,\n",
       "  168.4620596205962,\n",
       "  155.51084010840108,\n",
       "  143.71815718157183,\n",
       "  132.89972899728997,\n",
       "  122.45528455284553,\n",
       "  113.08536585365853,\n",
       "  104.47154471544715,\n",
       "  95.89566395663957,\n",
       "  87.46612466124661,\n",
       "  79.25067750677506,\n",
       "  71.35365853658537,\n",
       "  62.93224932249323,\n",
       "  53.23848238482385,\n",
       "  42.55826558265583,\n",
       "  30.76829268292683,\n",
       "  18.53252032520325,\n",
       "  7.607046070460704,\n",
       "  1.2046070460704608],\n",
       " 'median_degree': [754.0,\n",
       "  635.5,\n",
       "  534.0,\n",
       "  461.5,\n",
       "  402.0,\n",
       "  351.0,\n",
       "  301.0,\n",
       "  260.0,\n",
       "  223.0,\n",
       "  189.5,\n",
       "  160.5,\n",
       "  136.0,\n",
       "  114.5,\n",
       "  95.0,\n",
       "  78.0,\n",
       "  64.0,\n",
       "  52.0,\n",
       "  42.0,\n",
       "  33.0,\n",
       "  26.0,\n",
       "  19.0,\n",
       "  14.0,\n",
       "  10.0,\n",
       "  7.0,\n",
       "  5.0,\n",
       "  3.0,\n",
       "  2.0,\n",
       "  1.0,\n",
       "  0.0,\n",
       "  0.0,\n",
       "  0.0],\n",
       " 'std_of_degree': [136.15044546378385,\n",
       "  124.5871779338318,\n",
       "  116.80151387212366,\n",
       "  111.1237799142823,\n",
       "  108.47763785669518,\n",
       "  108.42333920427924,\n",
       "  110.80521574944414,\n",
       "  115.08764487923274,\n",
       "  120.14001226112602,\n",
       "  125.45164443598546,\n",
       "  130.26296293568123,\n",
       "  134.3621474003544,\n",
       "  138.12287320230152,\n",
       "  141.5932159548262,\n",
       "  144.25500800688542,\n",
       "  145.66114748662022,\n",
       "  145.9058127899249,\n",
       "  145.16772387390156,\n",
       "  143.34924104365876,\n",
       "  140.74376524691755,\n",
       "  136.6364132989201,\n",
       "  131.47166094999037,\n",
       "  125.12035736623464,\n",
       "  117.6235480032833,\n",
       "  108.29755264312617,\n",
       "  95.83982676551962,\n",
       "  80.45960452385674,\n",
       "  62.07290252363244,\n",
       "  40.96947967599385,\n",
       "  19.545029773200035,\n",
       "  3.596916839940324],\n",
       " 'max_degree': [1124,\n",
       "  901,\n",
       "  819,\n",
       "  756,\n",
       "  710,\n",
       "  673,\n",
       "  625,\n",
       "  585,\n",
       "  564,\n",
       "  544,\n",
       "  530,\n",
       "  517,\n",
       "  497,\n",
       "  474,\n",
       "  453,\n",
       "  427,\n",
       "  414,\n",
       "  404,\n",
       "  389,\n",
       "  383,\n",
       "  380,\n",
       "  373,\n",
       "  364,\n",
       "  352,\n",
       "  327,\n",
       "  308,\n",
       "  279,\n",
       "  239,\n",
       "  179,\n",
       "  109,\n",
       "  28],\n",
       " 'min_degree': [422,\n",
       "  363,\n",
       "  219,\n",
       "  156,\n",
       "  109,\n",
       "  77,\n",
       "  57,\n",
       "  43,\n",
       "  34,\n",
       "  27,\n",
       "  22,\n",
       "  18,\n",
       "  13,\n",
       "  10,\n",
       "  4,\n",
       "  1,\n",
       "  1,\n",
       "  1,\n",
       "  1,\n",
       "  0,\n",
       "  0,\n",
       "  0,\n",
       "  0,\n",
       "  0,\n",
       "  0,\n",
       "  0,\n",
       "  0,\n",
       "  0,\n",
       "  0,\n",
       "  0,\n",
       "  0],\n",
       " 'ratio_of_heterogeneous': [0.002418220269345311,\n",
       "  0.002331501792646965,\n",
       "  0.0023648998554920424,\n",
       "  0.002376912916742576,\n",
       "  0.0023441055985434682,\n",
       "  0.00229196892619052,\n",
       "  0.002246885281046183,\n",
       "  0.0021314615670836186,\n",
       "  0.0020053952257342088,\n",
       "  0.0018483769115812893,\n",
       "  0.0017349748706486706,\n",
       "  0.0015351114477385847,\n",
       "  0.001399844461726475,\n",
       "  0.0012628192238085662,\n",
       "  0.001097876567305933,\n",
       "  0.0009805400512897873,\n",
       "  0.0009074225122349103,\n",
       "  0.0006860532023193024,\n",
       "  0.0005272176090681429,\n",
       "  0.00045395590142671856,\n",
       "  0.0003391219567336903,\n",
       "  0.00023237800154918669,\n",
       "  0.00010258689965291432,\n",
       "  7.596042461877363e-05,\n",
       "  4.306261303935923e-05,\n",
       "  0.0,\n",
       "  0.0,\n",
       "  0.0,\n",
       "  0.0,\n",
       "  0.0,\n",
       "  0.0]}"
      ]
     },
     "execution_count": 106,
     "metadata": {},
     "output_type": "execute_result"
    }
   ],
   "source": [
    "data_dic_test"
   ]
  },
  {
   "cell_type": "code",
   "execution_count": 107,
   "metadata": {},
   "outputs": [],
   "source": [
    "save_data_dic(\"train\", data_dic)\n",
    "save_data_dic(\"test\", data_dic_test)"
   ]
  },
  {
   "cell_type": "code",
   "execution_count": 108,
   "metadata": {},
   "outputs": [],
   "source": [
    "# # 圖\n",
    "# import matplotlib.pyplot as plt\n",
    "# import random\n",
    "# for idx,G in tqdm(enumerate(graph),desc=\"plot...\"):\n",
    "#     subset_nodes = random.sample(G.nodes(), k=30)\n",
    "#     subgraph = G.subgraph(subset_nodes)\n",
    "\n",
    "#     # 定義顏色映射\n",
    "#     color_map = {0: 'blue', 1: 'red'}\n",
    "\n",
    "#     # 根據類別為節點指定顏色\n",
    "#     node_colors = [color_map[G.nodes[node]['Class']] for node in subgraph.nodes()]\n",
    "\n",
    "#     # 繪製子圖\n",
    "#     plt.figure(figsize=(10, 8))\n",
    "#     nx.draw(subgraph, with_labels=True, node_color=node_colors)\n",
    "#     plt.title(f\"Subraph Visualization with Different Colors:\\nThreshold = median + {idx} std \")\n",
    "#     # 保存图为文件\n",
    "#     plt.savefig(f'./plot_G_clear/median_add_{idx}_std.png')  # 将图保存为 PNG 格式\n",
    "#     # plt.show()"
   ]
  },
  {
   "cell_type": "code",
   "execution_count": 109,
   "metadata": {},
   "outputs": [],
   "source": [
    "# ## plot graph construction experiments result\n",
    "# x=data_dic['threshold']\n",
    "# for key in data_dic:\n",
    "#     if key=='graph' or key=='threshold' or key=='number_of_nodes':\n",
    "#         continue\n",
    "#     y=data_dic[key]\n",
    "#     plt.figure()\n",
    "#     plt.plot(x,y)\n",
    "#     plt.title(f\"Threshold v.s {key}\")\n",
    "#     plt.xlabel(\"Threshold\")\n",
    "#     plt.ylabel(f\"{key}\")\n",
    "#     plt.savefig(f\"./experiments_plt_clear/threshold_vs_{key}\")\n",
    "#     plt.show()\n",
    "    \n",
    "    "
   ]
  },
  {
   "cell_type": "code",
   "execution_count": 110,
   "metadata": {},
   "outputs": [],
   "source": [
    "# node_features = {node: data for node, data in G.nodes(data=True)}\n",
    "# print(node_features[0])\n",
    "# print(list(node_features[0].values()))"
   ]
  },
  {
   "cell_type": "code",
   "execution_count": 111,
   "metadata": {},
   "outputs": [],
   "source": [
    "import os\n",
    "import pickle\n",
    "def read_graph(type):\n",
    "    # 讀所有graph\n",
    "    folder_path = './graph_clear/'+type+\"/\"\n",
    "    graph_dic = {}\n",
    "    # 遍歷資料夾下的所有檔案\n",
    "    for filename in os.listdir(folder_path):\n",
    "        file_path = os.path.join(folder_path, filename)\n",
    "        # print(file_path)\n",
    "        # 檢查是否是.pkl檔案\n",
    "        if filename.endswith(\".pickle\"):\n",
    "            # 讀取.pkl檔案\n",
    "            try:\n",
    "                with open(file_path, \"rb\") as file:\n",
    "                    G = pickle.load(file)\n",
    "                    # 在這裡可以對讀取的資料進行處理\n",
    "                    print(f\"從 '{file_path}' 讀取到資料：{G}\")\n",
    "                    threshold = float(os.path.splitext(filename)[0])\n",
    "                    graph_dic[threshold] = G\n",
    "            except Exception as e:\n",
    "                print(f\"讀取 '{file_path}' 時發生錯誤：{e}\")\n",
    "    return graph_dic\n"
   ]
  },
  {
   "cell_type": "code",
   "execution_count": 112,
   "metadata": {},
   "outputs": [
    {
     "name": "stdout",
     "output_type": "stream",
     "text": [
      "從 './graph_clear/train/0.6827243820645407.pickle' 讀取到資料：Graph with 3936 nodes and 90326 edges\n",
      "從 './graph_clear/train/0.14926533840198025.pickle' 讀取到資料：Graph with 3936 nodes and 2095586 edges\n",
      "從 './graph_clear/train/0.7160655722934507.pickle' 讀取到資料：Graph with 3936 nodes and 66200 edges\n",
      "從 './graph_clear/train/0.5160184309199906.pickle' 讀取到資料：Graph with 3936 nodes and 322262 edges\n",
      "從 './graph_clear/train/0.8827715234380008.pickle' 讀取到資料：Graph with 3936 nodes and 7935 edges\n",
      "從 './graph_clear/train/0.5493596211489006.pickle' 讀取到資料：Graph with 3936 nodes and 258275 edges\n",
      "從 './graph_clear/train/0.41599486023326043.pickle' 讀取到資料：Graph with 3936 nodes and 587288 edges\n",
      "從 './graph_clear/train/0.04924176771525019.pickle' 讀取到資料：Graph with 3936 nodes and 3050096 edges\n",
      "從 './graph_clear/train/0.11592414817307023.pickle' 讀取到資料：Graph with 3936 nodes and 2389037 edges\n",
      "從 './graph_clear/train/0.7494067625223607.pickle' 讀取到資料：Graph with 3936 nodes and 47383 edges\n",
      "從 './graph_clear/train/0.8494303332090908.pickle' 讀取到資料：Graph with 3936 nodes and 13497 edges\n",
      "從 './graph_clear/train/0.31597128954653037.pickle' 讀取到資料：Graph with 3936 nodes and 993306 edges\n",
      "從 './graph_clear/train/0.01590057748634017.pickle' 讀取到資料：Graph with 3936 nodes and 3416766 edges\n",
      "從 './graph_clear/train/0.9827950941247309.pickle' 讀取到資料：Graph with 3936 nodes and 523 edges\n",
      "從 './graph_clear/train/0.3826536700043504.pickle' 讀取到資料：Graph with 3936 nodes and 704856 edges\n",
      "從 './graph_clear/train/0.7827479527512707.pickle' 讀取到資料：Graph with 3936 nodes and 32693 edges\n",
      "從 './graph_clear/train/0.9494539038958208.pickle' 讀取到資料：Graph with 3936 nodes and 1897 edges\n",
      "從 './graph_clear/train/0.28263009931762034.pickle' 讀取到資料：Graph with 3936 nodes and 1167553 edges\n",
      "從 './graph_clear/train/0.2159477188598003.pickle' 讀取到資料：Graph with 3936 nodes and 1583383 edges\n",
      "從 './graph_clear/train/0.5827008113778106.pickle' 讀取到資料：Graph with 3936 nodes and 203403 edges\n",
      "從 './graph_clear/train/0.0825829579441602.pickle' 讀取到資料：Graph with 3936 nodes and 2706919 edges\n",
      "從 './graph_clear/train/0.24928890908871032.pickle' 讀取到資料：Graph with 3936 nodes and 1363699 edges\n",
      "從 './graph_clear/train/0.4826772406910805.pickle' 讀取到資料：Graph with 3936 nodes and 396871 edges\n",
      "從 './graph_clear/train/0.6160420016067206.pickle' 讀取到資料：Graph with 3936 nodes and 158043 edges\n",
      "從 './graph_clear/train/0.3493124797754404.pickle' 讀取到資料：Graph with 3936 nodes and 839568 edges\n",
      "從 './graph_clear/train/0.8160891429801808.pickle' 讀取到資料：Graph with 3936 nodes and 21695 edges\n",
      "從 './graph_clear/train/0.18260652863089027.pickle' 讀取到資料：Graph with 3936 nodes and 1827467 edges\n",
      "從 './graph_clear/train/-0.017440612742569854.pickle' 讀取到資料：Graph with 3936 nodes and 3805653 edges\n",
      "從 './graph_clear/train/0.44933605046217046.pickle' 讀取到資料：Graph with 3936 nodes and 485272 edges\n",
      "從 './graph_clear/train/0.9161127136669108.pickle' 讀取到資料：Graph with 3936 nodes and 4230 edges\n",
      "從 './graph_clear/train/0.6493831918356306.pickle' 讀取到資料：Graph with 3936 nodes and 120583 edges\n",
      "從 './graph_clear/test/0.6827243820645407.pickle' 讀取到資料：Graph with 1476 nodes and 64550 edges\n",
      "從 './graph_clear/test/0.14926533840198025.pickle' 讀取到資料：Graph with 1476 nodes and 272255 edges\n",
      "從 './graph_clear/test/0.7160655722934507.pickle' 讀取到資料：Graph with 1476 nodes and 58487 edges\n",
      "從 './graph_clear/test/0.5160184309199906.pickle' 讀取到資料：Graph with 1476 nodes and 98080 edges\n",
      "從 './graph_clear/test/0.8827715234380008.pickle' 讀取到資料：Graph with 1476 nodes and 22707 edges\n",
      "從 './graph_clear/test/0.5493596211489006.pickle' 讀取到資料：Graph with 1476 nodes and 90372 edges\n",
      "從 './graph_clear/test/0.41599486023326043.pickle' 讀取到資料：Graph with 1476 nodes and 124325 edges\n",
      "從 './graph_clear/test/0.04924176771525019.pickle' 讀取到資料：Graph with 1476 nodes and 405514 edges\n",
      "從 './graph_clear/test/0.11592414817307023.pickle' 讀取到資料：Graph with 1476 nodes and 307580 edges\n",
      "從 './graph_clear/test/0.7494067625223607.pickle' 讀取到資料：Graph with 1476 nodes and 52659 edges\n",
      "從 './graph_clear/test/0.8494303332090908.pickle' 讀取到資料：Graph with 1476 nodes and 31408 edges\n",
      "從 './graph_clear/test/0.31597128954653037.pickle' 讀取到資料：Graph with 1476 nodes and 161962 edges\n",
      "從 './graph_clear/test/0.01590057748634017.pickle' 讀取到資料：Graph with 1476 nodes and 471370 edges\n",
      "從 './graph_clear/test/0.9827950941247309.pickle' 讀取到資料：Graph with 1476 nodes and 889 edges\n",
      "從 './graph_clear/test/0.3826536700043504.pickle' 讀取到資料：Graph with 1476 nodes and 135015 edges\n",
      "從 './graph_clear/test/0.7827479527512707.pickle' 讀取到資料：Graph with 1476 nodes and 46444 edges\n",
      "從 './graph_clear/test/0.9494539038958208.pickle' 讀取到資料：Graph with 1476 nodes and 5614 edges\n",
      "從 './graph_clear/test/0.28263009931762034.pickle' 讀取到資料：Graph with 1476 nodes and 177994 edges\n",
      "從 './graph_clear/test/0.2159477188598003.pickle' 讀取到資料：Graph with 1476 nodes and 217691 edges\n",
      "從 './graph_clear/test/0.5827008113778106.pickle' 讀取到資料：Graph with 1476 nodes and 83457 edges\n",
      "從 './graph_clear/test/0.0825829579441602.pickle' 讀取到資料：Graph with 1476 nodes and 351296 edges\n",
      "從 './graph_clear/test/0.24928890908871032.pickle' 讀取到資料：Graph with 1476 nodes and 196470 edges\n",
      "從 './graph_clear/test/0.4826772406910805.pickle' 讀取到資料：Graph with 1476 nodes and 106064 edges\n",
      "從 './graph_clear/test/0.6160420016067206.pickle' 讀取到資料：Graph with 1476 nodes and 77100 edges\n",
      "從 './graph_clear/test/0.3493124797754404.pickle' 讀取到資料：Graph with 1476 nodes and 147872 edges\n",
      "從 './graph_clear/test/0.8160891429801808.pickle' 讀取到資料：Graph with 1476 nodes and 39290 edges\n",
      "從 './graph_clear/test/0.18260652863089027.pickle' 讀取到資料：Graph with 1476 nodes and 242558 edges\n",
      "從 './graph_clear/test/-0.017440612742569854.pickle' 讀取到資料：Graph with 1476 nodes and 553713 edges\n",
      "從 './graph_clear/test/0.44933605046217046.pickle' 讀取到資料：Graph with 1476 nodes and 114767 edges\n",
      "從 './graph_clear/test/0.9161127136669108.pickle' 讀取到資料：Graph with 1476 nodes and 13677 edges\n",
      "從 './graph_clear/test/0.6493831918356306.pickle' 讀取到資料：Graph with 1476 nodes and 70771 edges\n"
     ]
    }
   ],
   "source": [
    "graph_dic = read_graph(\"train\")\n",
    "graph_dic_test = read_graph(\"test\")"
   ]
  },
  {
   "cell_type": "code",
   "execution_count": 113,
   "metadata": {},
   "outputs": [
    {
     "name": "stdout",
     "output_type": "stream",
     "text": [
      "{0.6827243820645407: <networkx.classes.graph.Graph object at 0x7f3788ecb910>, 0.14926533840198025: <networkx.classes.graph.Graph object at 0x7f332b7e1580>, 0.7160655722934507: <networkx.classes.graph.Graph object at 0x7f383cc7e8e0>, 0.5160184309199906: <networkx.classes.graph.Graph object at 0x7f383cc7eaf0>, 0.8827715234380008: <networkx.classes.graph.Graph object at 0x7f383cc7e5b0>, 0.5493596211489006: <networkx.classes.graph.Graph object at 0x7f383cc7ed90>, 0.41599486023326043: <networkx.classes.graph.Graph object at 0x7f383cc7ea30>, 0.04924176771525019: <networkx.classes.graph.Graph object at 0x7f383cc7e700>, 0.11592414817307023: <networkx.classes.graph.Graph object at 0x7f383cc7e340>, 0.7494067625223607: <networkx.classes.graph.Graph object at 0x7f383cc7e940>, 0.8494303332090908: <networkx.classes.graph.Graph object at 0x7f383cc7e3d0>, 0.31597128954653037: <networkx.classes.graph.Graph object at 0x7f383cc7edf0>, 0.01590057748634017: <networkx.classes.graph.Graph object at 0x7f383cc7e1c0>, 0.9827950941247309: <networkx.classes.graph.Graph object at 0x7f332b78dbe0>, 0.3826536700043504: <networkx.classes.graph.Graph object at 0x7f332b78da00>, 0.7827479527512707: <networkx.classes.graph.Graph object at 0x7f332b78d190>, 0.9494539038958208: <networkx.classes.graph.Graph object at 0x7f332b78d940>, 0.28263009931762034: <networkx.classes.graph.Graph object at 0x7f332b78dd60>, 0.2159477188598003: <networkx.classes.graph.Graph object at 0x7f332b78d0d0>, 0.5827008113778106: <networkx.classes.graph.Graph object at 0x7f332b78d6d0>, 0.0825829579441602: <networkx.classes.graph.Graph object at 0x7f332b78ddf0>, 0.24928890908871032: <networkx.classes.graph.Graph object at 0x7f332b7d87c0>, 0.4826772406910805: <networkx.classes.graph.Graph object at 0x7f332b7d8400>, 0.6160420016067206: <networkx.classes.graph.Graph object at 0x7f332b7d86d0>, 0.3493124797754404: <networkx.classes.graph.Graph object at 0x7f332b7ee730>, 0.8160891429801808: <networkx.classes.graph.Graph object at 0x7f332b7eec10>, 0.18260652863089027: <networkx.classes.graph.Graph object at 0x7f332b7eee20>, -0.017440612742569854: <networkx.classes.graph.Graph object at 0x7f332b7eeeb0>, 0.44933605046217046: <networkx.classes.graph.Graph object at 0x7f332b7ee6a0>, 0.9161127136669108: <networkx.classes.graph.Graph object at 0x7f332b7eed00>, 0.6493831918356306: <networkx.classes.graph.Graph object at 0x7f332b7ee3a0>}\n",
      "{0.6827243820645407: <networkx.classes.graph.Graph object at 0x7f383cc7e250>, 0.14926533840198025: <networkx.classes.graph.Graph object at 0x7f332b7eea00>, 0.7160655722934507: <networkx.classes.graph.Graph object at 0x7f332b7eed30>, 0.5160184309199906: <networkx.classes.graph.Graph object at 0x7f332b7eee80>, 0.8827715234380008: <networkx.classes.graph.Graph object at 0x7f332b6f62b0>, 0.5493596211489006: <networkx.classes.graph.Graph object at 0x7f332b6f6340>, 0.41599486023326043: <networkx.classes.graph.Graph object at 0x7f332b6f6220>, 0.04924176771525019: <networkx.classes.graph.Graph object at 0x7f332b6c5e20>, 0.11592414817307023: <networkx.classes.graph.Graph object at 0x7f332b6c5e80>, 0.7494067625223607: <networkx.classes.graph.Graph object at 0x7f332b6c5d30>, 0.8494303332090908: <networkx.classes.graph.Graph object at 0x7f332b6c5bb0>, 0.31597128954653037: <networkx.classes.graph.Graph object at 0x7f332b6c59d0>, 0.01590057748634017: <networkx.classes.graph.Graph object at 0x7f332b6c5cd0>, 0.9827950941247309: <networkx.classes.graph.Graph object at 0x7f332b6c5970>, 0.3826536700043504: <networkx.classes.graph.Graph object at 0x7f332b6c5f70>, 0.7827479527512707: <networkx.classes.graph.Graph object at 0x7f332b7f44c0>, 0.9494539038958208: <networkx.classes.graph.Graph object at 0x7f332b7f4910>, 0.28263009931762034: <networkx.classes.graph.Graph object at 0x7f332b7f41c0>, 0.2159477188598003: <networkx.classes.graph.Graph object at 0x7f332b7f40a0>, 0.5827008113778106: <networkx.classes.graph.Graph object at 0x7f332b7f4820>, 0.0825829579441602: <networkx.classes.graph.Graph object at 0x7f332b7f4a00>, 0.24928890908871032: <networkx.classes.graph.Graph object at 0x7f332b7f42b0>, 0.4826772406910805: <networkx.classes.graph.Graph object at 0x7f332b7f4520>, 0.6160420016067206: <networkx.classes.graph.Graph object at 0x7f332b7f47c0>, 0.3493124797754404: <networkx.classes.graph.Graph object at 0x7f332b7f48b0>, 0.8160891429801808: <networkx.classes.graph.Graph object at 0x7f332b7f4130>, 0.18260652863089027: <networkx.classes.graph.Graph object at 0x7f389667d250>, -0.017440612742569854: <networkx.classes.graph.Graph object at 0x7f389667d430>, 0.44933605046217046: <networkx.classes.graph.Graph object at 0x7f389667d490>, 0.9161127136669108: <networkx.classes.graph.Graph object at 0x7f389667d610>, 0.6493831918356306: <networkx.classes.graph.Graph object at 0x7f389667d4c0>}\n"
     ]
    }
   ],
   "source": [
    "print(graph_dic)\n",
    "print(graph_dic_test)"
   ]
  },
  {
   "cell_type": "code",
   "execution_count": 114,
   "metadata": {},
   "outputs": [],
   "source": [
    "# networkx graph 轉pytorch Data\n",
    "import torch\n",
    "from torch_geometric.data import Data\n",
    "from torch_geometric.nn import GATConv\n",
    "\n",
    "def G_to_data(graph_dic):\n",
    "    all_data = []\n",
    "    for threshold in tqdm(sorted(graph_dic.keys())):\n",
    "        G = graph_dic[threshold]\n",
    "        x, y, edge_index = [], [], []\n",
    "        for node in G.nodes():\n",
    "            x.append(list(G.nodes[node].values())[:-1])\n",
    "            y.append(list(G.nodes[node].values())[-1])\n",
    "    \n",
    "        x = torch.tensor(x, dtype=torch.float32)\n",
    "        y = torch.tensor(y, dtype=torch.long)\n",
    "        edge_index = torch.tensor(list(G.edges)).t().contiguous()\n",
    "    \n",
    "        data = Data(x=x, edge_index=edge_index, y=y)\n",
    "        data['threshold'] = threshold\n",
    "        all_data.append(data)\n",
    "    return all_data"
   ]
  },
  {
   "cell_type": "code",
   "execution_count": 115,
   "metadata": {},
   "outputs": [
    {
     "name": "stderr",
     "output_type": "stream",
     "text": [
      "  0%|          | 0/31 [00:00<?, ?it/s]/tmp/ipykernel_39055/572078566.py:16: DeprecationWarning: an integer is required (got type float).  Implicit conversion to integers using __int__ is deprecated, and may be removed in a future version of Python.\n",
      "  y = torch.tensor(y, dtype=torch.long)\n",
      "100%|██████████| 31/31 [00:33<00:00,  1.09s/it]\n",
      "100%|██████████| 31/31 [00:02<00:00, 13.01it/s]\n"
     ]
    }
   ],
   "source": [
    "all_data = G_to_data(graph_dic)\n",
    "all_data_test = G_to_data(graph_dic_test)"
   ]
  },
  {
   "cell_type": "code",
   "execution_count": 116,
   "metadata": {},
   "outputs": [
    {
     "name": "stdout",
     "output_type": "stream",
     "text": [
      "[Data(x=[3936, 30], edge_index=[2, 3805653], y=[3936], threshold=-0.017440612742569854), Data(x=[3936, 30], edge_index=[2, 3416766], y=[3936], threshold=0.01590057748634017), Data(x=[3936, 30], edge_index=[2, 3050096], y=[3936], threshold=0.04924176771525019), Data(x=[3936, 30], edge_index=[2, 2706919], y=[3936], threshold=0.0825829579441602), Data(x=[3936, 30], edge_index=[2, 2389037], y=[3936], threshold=0.11592414817307023), Data(x=[3936, 30], edge_index=[2, 2095586], y=[3936], threshold=0.14926533840198025), Data(x=[3936, 30], edge_index=[2, 1827467], y=[3936], threshold=0.18260652863089027), Data(x=[3936, 30], edge_index=[2, 1583383], y=[3936], threshold=0.2159477188598003), Data(x=[3936, 30], edge_index=[2, 1363699], y=[3936], threshold=0.24928890908871032), Data(x=[3936, 30], edge_index=[2, 1167553], y=[3936], threshold=0.28263009931762034), Data(x=[3936, 30], edge_index=[2, 993306], y=[3936], threshold=0.31597128954653037), Data(x=[3936, 30], edge_index=[2, 839568], y=[3936], threshold=0.3493124797754404), Data(x=[3936, 30], edge_index=[2, 704856], y=[3936], threshold=0.3826536700043504), Data(x=[3936, 30], edge_index=[2, 587288], y=[3936], threshold=0.41599486023326043), Data(x=[3936, 30], edge_index=[2, 485272], y=[3936], threshold=0.44933605046217046), Data(x=[3936, 30], edge_index=[2, 396871], y=[3936], threshold=0.4826772406910805), Data(x=[3936, 30], edge_index=[2, 322262], y=[3936], threshold=0.5160184309199906), Data(x=[3936, 30], edge_index=[2, 258275], y=[3936], threshold=0.5493596211489006), Data(x=[3936, 30], edge_index=[2, 203403], y=[3936], threshold=0.5827008113778106), Data(x=[3936, 30], edge_index=[2, 158043], y=[3936], threshold=0.6160420016067206), Data(x=[3936, 30], edge_index=[2, 120583], y=[3936], threshold=0.6493831918356306), Data(x=[3936, 30], edge_index=[2, 90326], y=[3936], threshold=0.6827243820645407), Data(x=[3936, 30], edge_index=[2, 66200], y=[3936], threshold=0.7160655722934507), Data(x=[3936, 30], edge_index=[2, 47383], y=[3936], threshold=0.7494067625223607), Data(x=[3936, 30], edge_index=[2, 32693], y=[3936], threshold=0.7827479527512707), Data(x=[3936, 30], edge_index=[2, 21695], y=[3936], threshold=0.8160891429801808), Data(x=[3936, 30], edge_index=[2, 13497], y=[3936], threshold=0.8494303332090908), Data(x=[3936, 30], edge_index=[2, 7935], y=[3936], threshold=0.8827715234380008), Data(x=[3936, 30], edge_index=[2, 4230], y=[3936], threshold=0.9161127136669108), Data(x=[3936, 30], edge_index=[2, 1897], y=[3936], threshold=0.9494539038958208), Data(x=[3936, 30], edge_index=[2, 523], y=[3936], threshold=0.9827950941247309)]\n"
     ]
    }
   ],
   "source": [
    "print(all_data)"
   ]
  },
  {
   "cell_type": "code",
   "execution_count": 117,
   "metadata": {},
   "outputs": [],
   "source": [
    "# gat\n",
    "from torch_geometric.nn import GATConv\n",
    "import torch.nn.functional as F\n",
    "class Encoder_GAT(torch.nn.Module):\n",
    "    def __init__(self, num_heads, input_dim, hidden_dim, output_dim, num_layers):\n",
    "        super(Encoder_GAT, self).__init__()\n",
    "        self.num_layers = num_layers\n",
    "        self.convs = torch.nn.ModuleList()\n",
    "        for i in range(self.num_layers-1):\n",
    "            if i:\n",
    "                conv = GATConv(hidden_dim * num_heads, hidden_dim, heads=num_heads)\n",
    "            else:\n",
    "                conv = GATConv(input_dim, hidden_dim, heads=num_heads)\n",
    "\n",
    "            self.convs.append(conv)\n",
    "            \n",
    "        if self.num_layers ==1:\n",
    "            conv = GATConv(input_dim, output_dim)\n",
    "            self.convs.append(conv)\n",
    "        elif self.num_layers >1:\n",
    "            conv = GATConv(hidden_dim * num_heads, output_dim)\n",
    "            self.convs.append(conv)\n",
    "\n",
    "    def forward(self, x, edge_index):\n",
    "        xs = []\n",
    "        for i in range(self.num_layers):\n",
    "            x = F.relu(self.convs[i](x, edge_index))\n",
    "        return x"
   ]
  },
  {
   "cell_type": "code",
   "execution_count": 118,
   "metadata": {},
   "outputs": [],
   "source": [
    "# model (gat + linear)\n",
    "import torch.nn as nn\n",
    "import torch.nn.functional as F\n",
    "class myGNN(nn.Module):\n",
    "    def __init__(self, enc_num_heads, enc_input_dim, enc_hidden_dim, enc_num_layers, linear_output_dim):\n",
    "        super(myGNN, self).__init__()\n",
    "        # GAT(input、output大小一樣)\n",
    "        self.encoder_neighbor = Encoder_GAT(enc_num_heads, enc_input_dim, enc_hidden_dim, enc_input_dim, enc_num_layers)\n",
    "        # linear層\n",
    "        self.proj_head_neighbor = nn.Linear(enc_input_dim, linear_output_dim)\n",
    "        self.proj_head_ego = nn.Linear(enc_input_dim, linear_output_dim)\n",
    "\n",
    "        self.init_emb()\n",
    "    # embedding初始化\n",
    "    def init_emb(self):\n",
    "        for m in self.modules():\n",
    "            if isinstance(m, nn.Linear):\n",
    "                torch.nn.init.xavier_uniform_(m.weight.data)\n",
    "                # BIASE初始化為0\n",
    "                if m.bias is not None:\n",
    "                    m.bias.data.fill_(0.0)\n",
    "    @staticmethod\n",
    "    def negative_sample(h_ego, h_neighbor):\n",
    "        # 返回一个0~n-1的數組，隨機打散\n",
    "        perm = torch.randperm(h_ego.shape[0])\n",
    "        # 打亂，作ego-ego negative\n",
    "        h_ego_neg = h_ego[perm]\n",
    "        # 打亂，作ego-neigbor negative\n",
    "        h_neighbor_neg = h_neighbor[perm]\n",
    "        return h_ego_neg, h_neighbor_neg\n",
    "\n",
    "    @staticmethod\n",
    "    def discriminator(x1, x2):\n",
    "        return -1 * F.cosine_similarity(x1, x2, dim=1).unsqueeze(0)\n",
    "\n",
    "    def forward(self, x, edge_index):\n",
    "        # GAT\n",
    "        h_neighbor = self.encoder_neighbor(x, edge_index)\n",
    "        h_neighbor = self.proj_head_neighbor(h_neighbor)\n",
    "        # linear\n",
    "        h_ego = self.proj_head_ego(x)\n",
    "\n",
    "        return h_ego, h_neighbor"
   ]
  },
  {
   "cell_type": "code",
   "execution_count": 120,
   "metadata": {},
   "outputs": [],
   "source": [
    "# train & eval model\n",
    "import time\n",
    "from sklearn.metrics import roc_auc_score\n",
    "import json\n",
    "import copy\n",
    "import os\n",
    "import numpy as np\n",
    "import torch\n",
    "import pyod\n",
    "\n",
    "def rescale(x):\n",
    "    return ((x + 1) / 2)*(1-(2e-06)) + 1e-06\n",
    "\n",
    "\n",
    "def train_model(args, data, model, optimizer, loss_function):\n",
    "    stats = {\n",
    "        \"best_loss\": 1e9,\n",
    "        \"best_epoch\": -1,\n",
    "    }\n",
    "    model.train()\n",
    "\n",
    "    label_ones =  torch.ones(1, data.x.shape[0]).to(args[\"device\"])\n",
    "    label_zeros = torch.zeros(1, data.x.shape[0]).to(args[\"device\"])\n",
    "\n",
    "    for epoch in tqdm(range(args['num_epoch'])):\n",
    "        optimizer.zero_grad()\n",
    "        data = data.to(args['device'])\n",
    "        # forward(gat+linear)\n",
    "        h_ego, h_neighbor = model(data.x, data.edge_index)\n",
    "        h_ego_neg, h_neighbor_neg  = model.negative_sample(h_ego, h_neighbor)\n",
    "        # 算 -c\n",
    "        c_neighbor_pos = model.discriminator(h_ego, h_neighbor)\n",
    "        c_neighbor_neg = model.discriminator(h_ego, h_neighbor_neg)\n",
    "        c_ego_neg = model.discriminator(h_ego, h_ego_neg)\n",
    "        # rescal(x) = (x-(-1)) / 2，使介於0~1(原介於-1~1)\n",
    "        score_pos = rescale(c_neighbor_pos)\n",
    "        score_aug = rescale(c_neighbor_neg)\n",
    "        score_nod = rescale(c_ego_neg)\n",
    "        \n",
    "        # BCE loss\n",
    "        # ego-neighbor postive, ego-neighbor negative, ego-ego negative\n",
    "        loss_pos = loss_function(score_pos, label_zeros)\n",
    "        loss_aug = loss_function(score_aug, label_ones)\n",
    "        loss_nod = loss_function(score_nod, label_ones)\n",
    "        \n",
    "        loss_sum = loss_pos + args['alpha'] * loss_aug  + args['gamma'] * loss_nod\n",
    "\n",
    "        loss_sum.backward()\n",
    "        # 只用postive判斷好壞\n",
    "        if loss_pos < stats[\"best_loss\"]:\n",
    "            stats[\"best_loss\"] = loss_pos.item()\n",
    "            stats[\"best_epoch\"] = epoch\n",
    "            torch.save(model.state_dict(), args['state_path'])\n",
    "        optimizer.step()\n",
    "\n",
    "        # if epoch % 100 ==0:\n",
    "        #     eval_model(args, data, model)\n",
    "\n",
    "\n",
    "    return stats\n",
    "\n",
    "def eval_model(args, data, model):\n",
    "    model.eval()\n",
    "    with torch.no_grad():\n",
    "        data = data.to(args[\"device\"])\n",
    "        h_ego, h_neighbor = model(data.x, data.edge_index)\n",
    "        c_neighbor_pos = model.discriminator(h_ego, h_neighbor)\n",
    "        \n",
    "        y_true = (data.y).detach().cpu().tolist()\n",
    "        y_score = c_neighbor_pos.squeeze().detach().cpu().tolist()\n",
    "        auc = roc_auc_score(y_true, y_score)\n",
    "        precision_n_score = pyod.utils.utility.precision_n_scores(y_true, y_score, n=None)\n",
    "        \n",
    "    return auc, precision_n_score\n"
   ]
  },
  {
   "cell_type": "code",
   "execution_count": 121,
   "metadata": {},
   "outputs": [],
   "source": [
    "# run\n",
    "import random\n",
    "\n",
    "def set_random_seeds(seed):\n",
    "    np.random.seed(seed)\n",
    "    torch.manual_seed(seed)\n",
    "    torch.cuda.manual_seed(seed)\n",
    "    torch.cuda.manual_seed_all(seed)\n",
    "    random.seed(seed)\n",
    "    os.environ['PYTHONHASHSEED'] = str(seed)\n",
    "    torch.backends.cudnn.deterministic = True\n",
    "    torch.backends.cudnn.benchmark = False\n",
    "\n",
    "def run_experiment(args, data_train, data_test):\n",
    "    set_random_seeds(args['seed'])\n",
    "    # Create model\n",
    "    model = myGNN(args['enc_num_heads'], args['enc_input_dim'], args['enc_hidden_dim'],  args['enc_num_layers'], args[\"linear_output_dim\"])\n",
    "    model.to(args['device'])\n",
    "    optimizer = torch.optim.Adam(model.parameters(),\n",
    "                                 lr=args['lr'],\n",
    "                                 weight_decay=args['weight_decay'])\n",
    "    loss_function = torch.nn.BCELoss()\n",
    "    # train\n",
    "    stats = train_model(\n",
    "        args, data, model, optimizer, loss_function\n",
    "    )\n",
    "    # eval\n",
    "    model.load_state_dict(torch.load(args[\"state_path\"]))\n",
    "    auc, precision_n_score = eval_model(args, data_test, model)\n",
    "    stats[\"AUC\"] = auc\n",
    "    stats[\"Precision@n\"] = precision_n_score\n",
    "\n",
    "    return model, stats"
   ]
  },
  {
   "cell_type": "code",
   "execution_count": 122,
   "metadata": {},
   "outputs": [],
   "source": [
    "# 參數\n",
    "args = {\"lr\": 5e-4, \n",
    "        \"alpha\": 0.3, \n",
    "        \"gamma\": 0.4, \n",
    "        \"state_path\": \"model.pkl\", \n",
    "        \"device\": \"cuda:0\", \n",
    "        \"seed\": 1, \n",
    "        \"num_epoch\": 500, \n",
    "        \"weight_decay\": 0.0, \n",
    "        \"enc_num_heads\": 3, \n",
    "        \"enc_input_dim\":all_data[0].x.shape[1], \n",
    "        \"enc_hidden_dim\": 32, \n",
    "        \"linear_output_dim\": 64,\n",
    "        \"enc_num_layers\":1,\n",
    "       }"
   ]
  },
  {
   "cell_type": "code",
   "execution_count": 123,
   "metadata": {},
   "outputs": [
    {
     "name": "stdout",
     "output_type": "stream",
     "text": [
      "----------threshod = -0.017440612742569854-----------------\n"
     ]
    },
    {
     "name": "stderr",
     "output_type": "stream",
     "text": [
      "100%|██████████| 500/500 [00:10<00:00, 48.39it/s]\n"
     ]
    },
    {
     "name": "stdout",
     "output_type": "stream",
     "text": [
      "----------threshod = 0.01590057748634017-----------------\n"
     ]
    },
    {
     "name": "stderr",
     "output_type": "stream",
     "text": [
      "100%|██████████| 500/500 [00:09<00:00, 51.14it/s]\n"
     ]
    },
    {
     "name": "stdout",
     "output_type": "stream",
     "text": [
      "----------threshod = 0.04924176771525019-----------------\n"
     ]
    },
    {
     "name": "stderr",
     "output_type": "stream",
     "text": [
      "100%|██████████| 500/500 [00:09<00:00, 54.70it/s]\n"
     ]
    },
    {
     "name": "stdout",
     "output_type": "stream",
     "text": [
      "----------threshod = 0.0825829579441602-----------------\n"
     ]
    },
    {
     "name": "stderr",
     "output_type": "stream",
     "text": [
      "100%|██████████| 500/500 [00:08<00:00, 59.84it/s]\n"
     ]
    },
    {
     "name": "stdout",
     "output_type": "stream",
     "text": [
      "----------threshod = 0.11592414817307023-----------------\n"
     ]
    },
    {
     "name": "stderr",
     "output_type": "stream",
     "text": [
      "100%|██████████| 500/500 [00:07<00:00, 63.29it/s]\n"
     ]
    },
    {
     "name": "stdout",
     "output_type": "stream",
     "text": [
      "----------threshod = 0.14926533840198025-----------------\n"
     ]
    },
    {
     "name": "stderr",
     "output_type": "stream",
     "text": [
      "100%|██████████| 500/500 [00:07<00:00, 66.94it/s]\n"
     ]
    },
    {
     "name": "stdout",
     "output_type": "stream",
     "text": [
      "----------threshod = 0.18260652863089027-----------------\n"
     ]
    },
    {
     "name": "stderr",
     "output_type": "stream",
     "text": [
      "100%|██████████| 500/500 [00:06<00:00, 73.66it/s]\n"
     ]
    },
    {
     "name": "stdout",
     "output_type": "stream",
     "text": [
      "----------threshod = 0.2159477188598003-----------------\n"
     ]
    },
    {
     "name": "stderr",
     "output_type": "stream",
     "text": [
      "100%|██████████| 500/500 [00:06<00:00, 77.57it/s]\n"
     ]
    },
    {
     "name": "stdout",
     "output_type": "stream",
     "text": [
      "----------threshod = 0.24928890908871032-----------------\n"
     ]
    },
    {
     "name": "stderr",
     "output_type": "stream",
     "text": [
      "100%|██████████| 500/500 [00:05<00:00, 92.74it/s]\n"
     ]
    },
    {
     "name": "stdout",
     "output_type": "stream",
     "text": [
      "----------threshod = 0.28263009931762034-----------------\n"
     ]
    },
    {
     "name": "stderr",
     "output_type": "stream",
     "text": [
      "100%|██████████| 500/500 [00:05<00:00, 94.19it/s] \n"
     ]
    },
    {
     "name": "stdout",
     "output_type": "stream",
     "text": [
      "----------threshod = 0.31597128954653037-----------------\n"
     ]
    },
    {
     "name": "stderr",
     "output_type": "stream",
     "text": [
      "100%|██████████| 500/500 [00:05<00:00, 89.53it/s]\n"
     ]
    },
    {
     "name": "stdout",
     "output_type": "stream",
     "text": [
      "----------threshod = 0.3493124797754404-----------------\n"
     ]
    },
    {
     "name": "stderr",
     "output_type": "stream",
     "text": [
      "100%|██████████| 500/500 [00:05<00:00, 92.05it/s] \n"
     ]
    },
    {
     "name": "stdout",
     "output_type": "stream",
     "text": [
      "----------threshod = 0.3826536700043504-----------------\n"
     ]
    },
    {
     "name": "stderr",
     "output_type": "stream",
     "text": [
      "100%|██████████| 500/500 [00:04<00:00, 106.39it/s]\n"
     ]
    },
    {
     "name": "stdout",
     "output_type": "stream",
     "text": [
      "----------threshod = 0.41599486023326043-----------------\n"
     ]
    },
    {
     "name": "stderr",
     "output_type": "stream",
     "text": [
      "100%|██████████| 500/500 [00:04<00:00, 107.51it/s]\n"
     ]
    },
    {
     "name": "stdout",
     "output_type": "stream",
     "text": [
      "----------threshod = 0.44933605046217046-----------------\n"
     ]
    },
    {
     "name": "stderr",
     "output_type": "stream",
     "text": [
      "100%|██████████| 500/500 [00:04<00:00, 100.87it/s]\n"
     ]
    },
    {
     "name": "stdout",
     "output_type": "stream",
     "text": [
      "----------threshod = 0.4826772406910805-----------------\n"
     ]
    },
    {
     "name": "stderr",
     "output_type": "stream",
     "text": [
      "100%|██████████| 500/500 [00:04<00:00, 106.43it/s]\n"
     ]
    },
    {
     "name": "stdout",
     "output_type": "stream",
     "text": [
      "----------threshod = 0.5160184309199906-----------------\n"
     ]
    },
    {
     "name": "stderr",
     "output_type": "stream",
     "text": [
      "100%|██████████| 500/500 [00:04<00:00, 114.45it/s]\n"
     ]
    },
    {
     "name": "stdout",
     "output_type": "stream",
     "text": [
      "----------threshod = 0.5493596211489006-----------------\n"
     ]
    },
    {
     "name": "stderr",
     "output_type": "stream",
     "text": [
      "100%|██████████| 500/500 [00:04<00:00, 112.43it/s]\n"
     ]
    },
    {
     "name": "stdout",
     "output_type": "stream",
     "text": [
      "----------threshod = 0.5827008113778106-----------------\n"
     ]
    },
    {
     "name": "stderr",
     "output_type": "stream",
     "text": [
      "100%|██████████| 500/500 [00:04<00:00, 111.49it/s]\n"
     ]
    },
    {
     "name": "stdout",
     "output_type": "stream",
     "text": [
      "----------threshod = 0.6160420016067206-----------------\n"
     ]
    },
    {
     "name": "stderr",
     "output_type": "stream",
     "text": [
      "100%|██████████| 500/500 [00:04<00:00, 111.77it/s]\n"
     ]
    },
    {
     "name": "stdout",
     "output_type": "stream",
     "text": [
      "----------threshod = 0.6493831918356306-----------------\n"
     ]
    },
    {
     "name": "stderr",
     "output_type": "stream",
     "text": [
      "100%|██████████| 500/500 [00:04<00:00, 110.68it/s]\n"
     ]
    },
    {
     "name": "stdout",
     "output_type": "stream",
     "text": [
      "----------threshod = 0.6827243820645407-----------------\n"
     ]
    },
    {
     "name": "stderr",
     "output_type": "stream",
     "text": [
      "100%|██████████| 500/500 [00:04<00:00, 111.28it/s]\n"
     ]
    },
    {
     "name": "stdout",
     "output_type": "stream",
     "text": [
      "----------threshod = 0.7160655722934507-----------------\n"
     ]
    },
    {
     "name": "stderr",
     "output_type": "stream",
     "text": [
      "100%|██████████| 500/500 [00:04<00:00, 112.65it/s]\n"
     ]
    },
    {
     "name": "stdout",
     "output_type": "stream",
     "text": [
      "----------threshod = 0.7494067625223607-----------------\n"
     ]
    },
    {
     "name": "stderr",
     "output_type": "stream",
     "text": [
      "100%|██████████| 500/500 [00:04<00:00, 114.25it/s]\n"
     ]
    },
    {
     "name": "stdout",
     "output_type": "stream",
     "text": [
      "----------threshod = 0.7827479527512707-----------------\n"
     ]
    },
    {
     "name": "stderr",
     "output_type": "stream",
     "text": [
      "100%|██████████| 500/500 [00:04<00:00, 114.48it/s]\n"
     ]
    },
    {
     "name": "stdout",
     "output_type": "stream",
     "text": [
      "----------threshod = 0.8160891429801808-----------------\n"
     ]
    },
    {
     "name": "stderr",
     "output_type": "stream",
     "text": [
      "100%|██████████| 500/500 [00:04<00:00, 114.41it/s]\n"
     ]
    },
    {
     "name": "stdout",
     "output_type": "stream",
     "text": [
      "----------threshod = 0.8494303332090908-----------------\n"
     ]
    },
    {
     "name": "stderr",
     "output_type": "stream",
     "text": [
      "100%|██████████| 500/500 [00:04<00:00, 113.22it/s]\n"
     ]
    },
    {
     "name": "stdout",
     "output_type": "stream",
     "text": [
      "----------threshod = 0.8827715234380008-----------------\n"
     ]
    },
    {
     "name": "stderr",
     "output_type": "stream",
     "text": [
      "100%|██████████| 500/500 [00:04<00:00, 113.27it/s]\n"
     ]
    },
    {
     "name": "stdout",
     "output_type": "stream",
     "text": [
      "----------threshod = 0.9161127136669108-----------------\n"
     ]
    },
    {
     "name": "stderr",
     "output_type": "stream",
     "text": [
      "100%|██████████| 500/500 [00:04<00:00, 113.09it/s]\n"
     ]
    },
    {
     "name": "stdout",
     "output_type": "stream",
     "text": [
      "----------threshod = 0.9494539038958208-----------------\n"
     ]
    },
    {
     "name": "stderr",
     "output_type": "stream",
     "text": [
      "100%|██████████| 500/500 [00:04<00:00, 108.40it/s]\n"
     ]
    },
    {
     "name": "stdout",
     "output_type": "stream",
     "text": [
      "----------threshod = 0.9827950941247309-----------------\n"
     ]
    },
    {
     "name": "stderr",
     "output_type": "stream",
     "text": [
      "100%|██████████| 500/500 [00:04<00:00, 108.72it/s]\n"
     ]
    }
   ],
   "source": [
    "auc_dict = {}\n",
    "precision_n_dict = {}\n",
    "for data, data_test in zip(all_data, all_data_test): \n",
    "    print(\"----------threshod = \"+str(data.threshold)+\"-----------------\")\n",
    "    model, stats = run_experiment(args, data, data_test)\n",
    "    auc_dict[data.threshold]= stats[\"AUC\"]\n",
    "    precision_n_dict[data.threshold]= stats[\"Precision@n\"]\n",
    "    "
   ]
  },
  {
   "cell_type": "code",
   "execution_count": 124,
   "metadata": {},
   "outputs": [
    {
     "name": "stdout",
     "output_type": "stream",
     "text": [
      "{0.5827008113778106: 0.8683853459972863, 0.4826772406910805: 0.76797829036635, 0.44933605046217046: 0.764246947082768, 0.6827243820645407: 0.6665535956580733, 0.6160420016067206: 0.6523066485753053, 0.5160184309199906: 0.6309362279511533, -0.017440612742569854: 0.6309362279511532, 0.6493831918356306: 0.6272048846675713, 0.9827950941247309: 0.6068521031207599, 0.9494539038958208: 0.5878561736770691, 0.7160655722934507: 0.5834464043419267, 0.01590057748634017: 0.5773405698778833, 0.9161127136669108: 0.5613975576662145, 0.7494067625223607: 0.5525780189959294, 0.8827715234380008: 0.49321573948439623, 0.7827479527512707: 0.48371777476255085, 0.04924176771525019: 0.4816824966078697, 0.8494303332090908: 0.4796472184531886, 0.8160891429801808: 0.47795115332428767, 0.5493596211489006: 0.44640434192672995, 0.0825829579441602: 0.44199457259158753, 0.18260652863089027: 0.43113975576662145, 0.11592414817307023: 0.4253731343283582, 0.2159477188598003: 0.4128222523744912, 0.24928890908871032: 0.4060379918588874, 0.14926533840198025: 0.40094979647218454, 0.28263009931762034: 0.39925373134328357, 0.41599486023326043: 0.39721845318860244, 0.31597128954653037: 0.38704206241519673, 0.3493124797754404: 0.34531886024423336, 0.3826536700043504: 0.3327679782903663}\n",
      "{-0.017440612742569854: 0.0, 0.01590057748634017: 0.0, 0.04924176771525019: 0.0, 0.0825829579441602: 0.0, 0.11592414817307023: 0.0, 0.14926533840198025: 0.0, 0.18260652863089027: 0.0, 0.2159477188598003: 0.0, 0.24928890908871032: 0.0, 0.28263009931762034: 0.0, 0.31597128954653037: 0.0, 0.3493124797754404: 0.0, 0.3826536700043504: 0.0, 0.41599486023326043: 0.0, 0.44933605046217046: 0.0, 0.4826772406910805: 0.0, 0.5160184309199906: 0.0, 0.5493596211489006: 0.0, 0.5827008113778106: 0.0, 0.6160420016067206: 0.0, 0.6493831918356306: 0.0, 0.6827243820645407: 0.0, 0.7160655722934507: 0.0, 0.7494067625223607: 0.0, 0.7827479527512707: 0.0, 0.8160891429801808: 0.0, 0.8494303332090908: 0.0, 0.8827715234380008: 0.0, 0.9161127136669108: 0.0, 0.9494539038958208: 0.0, 0.9827950941247309: 0.0}\n"
     ]
    }
   ],
   "source": [
    "# 使用sorted函數對字典的值進行降序排列\n",
    "\n",
    "sorted_auc_dict = dict(sorted(auc_dict.items(), key=lambda item: item[1], reverse=True))\n",
    "sorted_precision_n_dict = dict(sorted(precision_n_dict.items(), key=lambda item: item[1], reverse=True))\n",
    "# 輸出排序後的字典\n",
    "print(sorted_auc_dict)\n",
    "print(sorted_precision_n_dict)"
   ]
  },
  {
   "cell_type": "code",
   "execution_count": 125,
   "metadata": {},
   "outputs": [
    {
     "data": {
      "image/png": "[encoded data removed]",
      "text/plain": [
       "<Figure size 640x480 with 1 Axes>"
      ]
     },
     "metadata": {},
     "output_type": "display_data"
    },
    {
     "data": {
      "image/png": "[encoded data removed]",
      "text/plain": [
       "<Figure size 640x480 with 1 Axes>"
      ]
     },
     "metadata": {},
     "output_type": "display_data"
    }
   ],
   "source": [
    "import matplotlib.pyplot as plt\n",
    "\n",
    "def plot_curve(data, metric_name):\n",
    "    keys = [i for i in range(31)]\n",
    "    values = list(data.values())\n",
    "    \n",
    "    plt.plot(keys, values)\n",
    "    plt.xlabel('Treshold (median + k*std.)')\n",
    "    plt.ylabel(metric_name)\n",
    "    plt.title('Threshold vs. '+metric_name)\n",
    "    # plt.grid(True)  # 加入網格線\n",
    "    plt.show()\n",
    "\n",
    "plot_curve(auc_dict, \"ROC-AUC\")\n",
    "plot_curve(precision_n_dict, \"Precision@Rank\")\n"
   ]
  },
  {
   "cell_type": "code",
   "execution_count": null,
   "metadata": {},
   "outputs": [],
   "source": []
  },
  {
   "cell_type": "code",
   "execution_count": null,
   "metadata": {},
   "outputs": [],
   "source": []
  }
 ],
 "metadata": {
  "kernelspec": {
   "display_name": "dl_proect",
   "language": "python",
   "name": "dl_proect"
  },
  "language_info": {
   "codemirror_mode": {
    "name": "ipython",
    "version": 3
   },
   "file_extension": ".py",
   "mimetype": "text/x-python",
   "name": "python",
   "nbconvert_exporter": "python",
   "pygments_lexer": "ipython3",
   "version": "3.9.19"
  }
 },
 "nbformat": 4,
 "nbformat_minor": 4
}
