{
 "cells": [
  {
   "cell_type": "code",
   "execution_count": 1,
   "metadata": {},
   "outputs": [],
   "source": [
    "!mkdir graph\n",
    "!mkdir plot_G\n",
    "!mkdir experiments_plt\n",
    "!mkdir graph/test\n",
    "!mkdir graph/train"
   ]
  },
  {
   "cell_type": "code",
   "execution_count": 2,
   "metadata": {},
   "outputs": [],
   "source": [
    "import csv\n",
    "import pandas as pd\n",
    "import numpy as np\n",
    "from tqdm import tqdm"
   ]
  },
  {
   "cell_type": "code",
   "execution_count": 3,
   "metadata": {},
   "outputs": [],
   "source": [
    "# 讀csv，回傳data frame\n",
    "def DataLoader(file_name):\n",
    "    df=pd.read_csv(file_name)\n",
    "    print(df.shape)\n",
    "    print(df.columns)\n",
    "    return df"
   ]
  },
  {
   "cell_type": "code",
   "execution_count": 4,
   "metadata": {},
   "outputs": [
    {
     "name": "stdout",
     "output_type": "stream",
     "text": [
      "(284807, 31)\n",
      "Index(['Time', 'V1', 'V2', 'V3', 'V4', 'V5', 'V6', 'V7', 'V8', 'V9', 'V10',\n",
      "       'V11', 'V12', 'V13', 'V14', 'V15', 'V16', 'V17', 'V18', 'V19', 'V20',\n",
      "       'V21', 'V22', 'V23', 'V24', 'V25', 'V26', 'V27', 'V28', 'Amount',\n",
      "       'Class'],\n",
      "      dtype='object')\n"
     ]
    }
   ],
   "source": [
    "\n",
    "df=DataLoader('creditcard.csv')\n"
   ]
  },
  {
   "cell_type": "code",
   "execution_count": 5,
   "metadata": {},
   "outputs": [],
   "source": [
    "from sklearn.metrics.pairwise import cosine_similarity\n",
    "from sklearn.preprocessing import StandardScaler"
   ]
  },
  {
   "cell_type": "code",
   "execution_count": 9,
   "metadata": {},
   "outputs": [],
   "source": [
    "# 10:1的資料\n",
    "def data_sampling(df):\n",
    "    # print(df)\n",
    "    fraud_data=df[df['Class']==1]\n",
    "    normal_data=df[df['Class']==0].sample(n=len(fraud_data)*10,random_state=42)\n",
    "    # test: normal:492*2=984, fruad:int(492*0.2)=98 \n",
    "    selected_df_eval=pd.concat([normal_data[:int(len(normal_data)*0.2)],fraud_data[:int(len(fraud_data)*0.2)]])\n",
    "    # train: normal:492*8=3936, fruad:492-int(492*0.8)= 394\n",
    "    selected_df_train=pd.concat([normal_data[int(len(normal_data)*0.2):],fraud_data[int(len(fraud_data)*0.2):]])\n",
    "    \n",
    "    selected_df_train.reset_index(drop=True,inplace=True)\n",
    "    selected_df_eval.reset_index(drop=True,inplace=True)\n",
    "    \n",
    "    return selected_df_train, selected_df_eval"
   ]
  },
  {
   "cell_type": "code",
   "execution_count": 10,
   "metadata": {},
   "outputs": [],
   "source": [
    "df_train, df_eval=data_sampling(df)"
   ]
  },
  {
   "cell_type": "code",
   "execution_count": 11,
   "metadata": {},
   "outputs": [
    {
     "name": "stdout",
     "output_type": "stream",
     "text": [
      "4330 1082\n"
     ]
    }
   ],
   "source": [
    "print(len(df_train), len(df_eval))"
   ]
  },
  {
   "cell_type": "code",
   "execution_count": 12,
   "metadata": {},
   "outputs": [],
   "source": [
    "# 標準化\n",
    "def data_standardization(df):\n",
    "    # 假設 df 是你的 DataFrame，columns 是要標準化的欄位名稱列表\n",
    "    columns_to_normalize = ['Time', 'Amount']  # 填入要標準化的欄位名稱\n",
    "    # 初始化 StandardScaler 物件\n",
    "    scaler = StandardScaler()\n",
    "    # 對指定列進行標準化\n",
    "    df[columns_to_normalize] = scaler.fit_transform(df[columns_to_normalize])\n",
    "    return df\n",
    "\n"
   ]
  },
  {
   "cell_type": "code",
   "execution_count": 13,
   "metadata": {},
   "outputs": [],
   "source": [
    "df_train=data_standardization(df_train)\n",
    "df_eval=data_standardization(df_eval)"
   ]
  },
  {
   "cell_type": "code",
   "execution_count": 14,
   "metadata": {},
   "outputs": [],
   "source": [
    "df_train=df_train.drop('Time', axis=1)\n",
    "df_eval=df_eval.drop('Time', axis=1)"
   ]
  },
  {
   "cell_type": "code",
   "execution_count": 15,
   "metadata": {},
   "outputs": [
    {
     "data": {
      "text/html": [
       "<div>\n",
       "<style scoped>\n",
       "    .dataframe tbody tr th:only-of-type {\n",
       "        vertical-align: middle;\n",
       "    }\n",
       "\n",
       "    .dataframe tbody tr th {\n",
       "        vertical-align: top;\n",
       "    }\n",
       "\n",
       "    .dataframe thead th {\n",
       "        text-align: right;\n",
       "    }\n",
       "</style>\n",
       "<table border=\"1\" class=\"dataframe\">\n",
       "  <thead>\n",
       "    <tr style=\"text-align: right;\">\n",
       "      <th></th>\n",
       "      <th>V1</th>\n",
       "      <th>V2</th>\n",
       "      <th>V3</th>\n",
       "      <th>V4</th>\n",
       "      <th>V5</th>\n",
       "      <th>V6</th>\n",
       "      <th>V7</th>\n",
       "      <th>V8</th>\n",
       "      <th>V9</th>\n",
       "      <th>V10</th>\n",
       "      <th>...</th>\n",
       "      <th>V21</th>\n",
       "      <th>V22</th>\n",
       "      <th>V23</th>\n",
       "      <th>V24</th>\n",
       "      <th>V25</th>\n",
       "      <th>V26</th>\n",
       "      <th>V27</th>\n",
       "      <th>V28</th>\n",
       "      <th>Amount</th>\n",
       "      <th>Class</th>\n",
       "    </tr>\n",
       "  </thead>\n",
       "  <tbody>\n",
       "    <tr>\n",
       "      <th>0</th>\n",
       "      <td>0.325252</td>\n",
       "      <td>1.642478</td>\n",
       "      <td>-2.302045</td>\n",
       "      <td>1.784894</td>\n",
       "      <td>0.319449</td>\n",
       "      <td>-1.805527</td>\n",
       "      <td>0.847002</td>\n",
       "      <td>0.163771</td>\n",
       "      <td>-0.420456</td>\n",
       "      <td>-1.466160</td>\n",
       "      <td>...</td>\n",
       "      <td>-0.063749</td>\n",
       "      <td>-0.254147</td>\n",
       "      <td>0.353532</td>\n",
       "      <td>-0.001664</td>\n",
       "      <td>-0.428714</td>\n",
       "      <td>-0.398239</td>\n",
       "      <td>0.095823</td>\n",
       "      <td>-0.042684</td>\n",
       "      <td>0.000320</td>\n",
       "      <td>0</td>\n",
       "    </tr>\n",
       "    <tr>\n",
       "      <th>1</th>\n",
       "      <td>1.160606</td>\n",
       "      <td>-0.138051</td>\n",
       "      <td>0.757619</td>\n",
       "      <td>0.412589</td>\n",
       "      <td>-0.547107</td>\n",
       "      <td>0.225658</td>\n",
       "      <td>-0.615182</td>\n",
       "      <td>0.314944</td>\n",
       "      <td>0.335008</td>\n",
       "      <td>0.079566</td>\n",
       "      <td>...</td>\n",
       "      <td>-0.043678</td>\n",
       "      <td>-0.184558</td>\n",
       "      <td>0.084885</td>\n",
       "      <td>-0.324191</td>\n",
       "      <td>0.057808</td>\n",
       "      <td>0.250145</td>\n",
       "      <td>-0.002658</td>\n",
       "      <td>0.006881</td>\n",
       "      <td>-0.355983</td>\n",
       "      <td>0</td>\n",
       "    </tr>\n",
       "    <tr>\n",
       "      <th>2</th>\n",
       "      <td>2.138035</td>\n",
       "      <td>-1.051684</td>\n",
       "      <td>-0.463701</td>\n",
       "      <td>-0.965450</td>\n",
       "      <td>-1.138561</td>\n",
       "      <td>-0.410339</td>\n",
       "      <td>-1.141493</td>\n",
       "      <td>0.096134</td>\n",
       "      <td>0.034684</td>\n",
       "      <td>0.918321</td>\n",
       "      <td>...</td>\n",
       "      <td>-0.027996</td>\n",
       "      <td>-0.154237</td>\n",
       "      <td>0.351031</td>\n",
       "      <td>-0.397332</td>\n",
       "      <td>-0.527848</td>\n",
       "      <td>-0.480491</td>\n",
       "      <td>0.000570</td>\n",
       "      <td>-0.056187</td>\n",
       "      <td>-0.339144</td>\n",
       "      <td>0</td>\n",
       "    </tr>\n",
       "    <tr>\n",
       "      <th>3</th>\n",
       "      <td>1.136069</td>\n",
       "      <td>0.095976</td>\n",
       "      <td>0.571346</td>\n",
       "      <td>0.515965</td>\n",
       "      <td>-0.374073</td>\n",
       "      <td>-0.317503</td>\n",
       "      <td>-0.118680</td>\n",
       "      <td>0.080941</td>\n",
       "      <td>-0.188287</td>\n",
       "      <td>0.061873</td>\n",
       "      <td>...</td>\n",
       "      <td>-0.160764</td>\n",
       "      <td>-0.511025</td>\n",
       "      <td>0.171633</td>\n",
       "      <td>0.211303</td>\n",
       "      <td>0.072639</td>\n",
       "      <td>0.093888</td>\n",
       "      <td>-0.020393</td>\n",
       "      <td>0.008978</td>\n",
       "      <td>-0.322050</td>\n",
       "      <td>0</td>\n",
       "    </tr>\n",
       "    <tr>\n",
       "      <th>4</th>\n",
       "      <td>-0.600322</td>\n",
       "      <td>-0.357556</td>\n",
       "      <td>1.343979</td>\n",
       "      <td>-1.606260</td>\n",
       "      <td>0.244115</td>\n",
       "      <td>-0.500086</td>\n",
       "      <td>0.051513</td>\n",
       "      <td>-0.061282</td>\n",
       "      <td>-0.998988</td>\n",
       "      <td>-0.194315</td>\n",
       "      <td>...</td>\n",
       "      <td>0.046256</td>\n",
       "      <td>0.028677</td>\n",
       "      <td>-0.023843</td>\n",
       "      <td>-0.426313</td>\n",
       "      <td>-0.096662</td>\n",
       "      <td>-0.503900</td>\n",
       "      <td>0.114771</td>\n",
       "      <td>0.149094</td>\n",
       "      <td>-0.198998</td>\n",
       "      <td>0</td>\n",
       "    </tr>\n",
       "  </tbody>\n",
       "</table>\n",
       "<p>5 rows × 30 columns</p>\n",
       "</div>"
      ],
      "text/plain": [
       "         V1        V2        V3        V4        V5        V6        V7  \\\n",
       "0  0.325252  1.642478 -2.302045  1.784894  0.319449 -1.805527  0.847002   \n",
       "1  1.160606 -0.138051  0.757619  0.412589 -0.547107  0.225658 -0.615182   \n",
       "2  2.138035 -1.051684 -0.463701 -0.965450 -1.138561 -0.410339 -1.141493   \n",
       "3  1.136069  0.095976  0.571346  0.515965 -0.374073 -0.317503 -0.118680   \n",
       "4 -0.600322 -0.357556  1.343979 -1.606260  0.244115 -0.500086  0.051513   \n",
       "\n",
       "         V8        V9       V10  ...       V21       V22       V23       V24  \\\n",
       "0  0.163771 -0.420456 -1.466160  ... -0.063749 -0.254147  0.353532 -0.001664   \n",
       "1  0.314944  0.335008  0.079566  ... -0.043678 -0.184558  0.084885 -0.324191   \n",
       "2  0.096134  0.034684  0.918321  ... -0.027996 -0.154237  0.351031 -0.397332   \n",
       "3  0.080941 -0.188287  0.061873  ... -0.160764 -0.511025  0.171633  0.211303   \n",
       "4 -0.061282 -0.998988 -0.194315  ...  0.046256  0.028677 -0.023843 -0.426313   \n",
       "\n",
       "        V25       V26       V27       V28    Amount  Class  \n",
       "0 -0.428714 -0.398239  0.095823 -0.042684  0.000320      0  \n",
       "1  0.057808  0.250145 -0.002658  0.006881 -0.355983      0  \n",
       "2 -0.527848 -0.480491  0.000570 -0.056187 -0.339144      0  \n",
       "3  0.072639  0.093888 -0.020393  0.008978 -0.322050      0  \n",
       "4 -0.096662 -0.503900  0.114771  0.149094 -0.198998      0  \n",
       "\n",
       "[5 rows x 30 columns]"
      ]
     },
     "execution_count": 15,
     "metadata": {},
     "output_type": "execute_result"
    }
   ],
   "source": [
    "df_train.head()"
   ]
  },
  {
   "cell_type": "code",
   "execution_count": 16,
   "metadata": {},
   "outputs": [],
   "source": [
    "def calculate_cosine_similarity(df, type):\n",
    "    features=df.drop(\"Class\",axis=1)\n",
    "    cos_sim=cosine_similarity(features)\n",
    "    np.save(\"cos_sim_\"+type+\".npy\",cos_sim)\n",
    "    print(\"Cosine similarity calculation completed and saved.\") \n",
    "\n"
   ]
  },
  {
   "cell_type": "code",
   "execution_count": 17,
   "metadata": {},
   "outputs": [
    {
     "name": "stdout",
     "output_type": "stream",
     "text": [
      "Cosine similarity calculation completed and saved.\n",
      "Cosine similarity calculation completed and saved.\n"
     ]
    }
   ],
   "source": [
    "calculate_cosine_similarity(df_train, \"train\")\n",
    "calculate_cosine_similarity(df_eval, \"eval\")"
   ]
  },
  {
   "cell_type": "code",
   "execution_count": 18,
   "metadata": {},
   "outputs": [],
   "source": [
    "cos_sim_train=np.load(\"cos_sim_train.npy\")\n",
    "cos_sim_eval=np.load(\"cos_sim_eval.npy\")"
   ]
  },
  {
   "cell_type": "code",
   "execution_count": 19,
   "metadata": {},
   "outputs": [],
   "source": [
    "def cos_sim_describe(cos_sim):\n",
    "    # 計算每一列的統計量\n",
    "    max_values = np.max(cos_sim, axis=1)\n",
    "    min_values = np.min(cos_sim, axis=1)\n",
    "    median_values = np.median(cos_sim, axis=1)\n",
    "    mean_values = np.mean(cos_sim, axis=1)\n",
    "    std_values = np.std(cos_sim, axis=1)\n",
    "\n",
    "    # 對這些統計量再次計算統計量\n",
    "    stats_max = np.max(max_values)\n",
    "    stats_min = np.min(min_values)\n",
    "    stats_median = np.median(median_values)\n",
    "    stats_mean = np.mean(mean_values)\n",
    "    stats_std = np.std(std_values)\n",
    "\n",
    "    # 印出結果\n",
    "    print(\"Statistics of row statistics:\")\n",
    "    print(\"  Max:\", stats_max)\n",
    "    print(\"  Min:\", stats_min)\n",
    "    print(\"  Median:\", stats_median)\n",
    "    print(\"  Mean:\", stats_mean)\n",
    "    print(\"  Std:\", stats_std)\n",
    "    cos_sim_dict={'max':stats_max,'min':stats_min,'median':stats_median\n",
    "                  ,'mean':stats_mean,'std':stats_std}\n",
    "    return cos_sim_dict"
   ]
  },
  {
   "cell_type": "code",
   "execution_count": 20,
   "metadata": {},
   "outputs": [
    {
     "name": "stdout",
     "output_type": "stream",
     "text": [
      "Statistics of row statistics:\n",
      "  Max: 1.0000000000000013\n",
      "  Min: -0.8648495893411947\n",
      "  Median: -0.02079061524073395\n",
      "  Mean: 0.008266517548875663\n",
      "  Std: 0.03079089415224501\n",
      "{'max': 1.0000000000000013, 'min': -0.8648495893411947, 'median': -0.02079061524073395, 'mean': 0.008266517548875663, 'std': 0.03079089415224501}\n"
     ]
    }
   ],
   "source": [
    "cos_sim_dict_train=cos_sim_describe(cos_sim_train)\n",
    "print(cos_sim_dict_train)"
   ]
  },
  {
   "cell_type": "code",
   "execution_count": 21,
   "metadata": {},
   "outputs": [
    {
     "name": "stdout",
     "output_type": "stream",
     "text": [
      "Statistics of row statistics:\n",
      "  Max: 1.0000000000000007\n",
      "  Min: -0.8116113350676412\n",
      "  Median: -0.02433438885271672\n",
      "  Mean: 0.008881759190773237\n",
      "  Std: 0.030554112252999806\n",
      "{'max': 1.0000000000000007, 'min': -0.8116113350676412, 'median': -0.02433438885271672, 'mean': 0.008881759190773237, 'std': 0.030554112252999806}\n"
     ]
    }
   ],
   "source": [
    "cos_sim_dict_eval =cos_sim_describe(cos_sim_eval)\n",
    "print(cos_sim_dict_eval)"
   ]
  },
  {
   "cell_type": "code",
   "execution_count": 22,
   "metadata": {},
   "outputs": [],
   "source": [
    "## graph construction\n",
    "import networkx as nx"
   ]
  },
  {
   "cell_type": "code",
   "execution_count": 23,
   "metadata": {},
   "outputs": [],
   "source": [
    "def graph_construction(cos_sim,df,threshold):\n",
    "    G=nx.Graph()\n",
    "    for i in tqdm(range(cos_sim.shape[0]),desc=\"Add nodes into G...\"):\n",
    "        node_name=i\n",
    "        feature=(df.iloc[i]).to_dict()\n",
    "        G.add_node(node_name,**feature)\n",
    "\n",
    "    for i in tqdm(range(cos_sim.shape[0]),desc=\"Graph Construction...\"):\n",
    "        for j in range(i+1,cos_sim.shape[1]):\n",
    "            if cos_sim[i,j]>threshold:\n",
    "                G.add_edge(i,j)\n",
    "    return G\n"
   ]
  },
  {
   "cell_type": "code",
   "execution_count": 24,
   "metadata": {},
   "outputs": [],
   "source": [
    "from collections import Counter\n",
    "def graph_describe(G,round_digit):\n",
    "    density=2*G.number_of_edges()/(G.number_of_nodes()*(G.number_of_nodes()-1))\n",
    "    # 获取节点的度数\n",
    "    degrees = [degree for node, degree in G.degree()]\n",
    "    # 计算统计指标\n",
    "    mean_degree = np.mean(degrees)\n",
    "    median_degree = np.median(degrees)\n",
    "    std_degree = np.std(degrees)\n",
    "    max_degree = np.max(degrees)\n",
    "    min_degree = np.min(degrees)\n",
    "    \n",
    "    edge_consistency={}\n",
    "    fraud_node_set=set()\n",
    "    for edge in tqdm(G.edges(),desc=\"Check edge consistent...\"):\n",
    "        node1_class=G.nodes[edge[0]]['Class']\n",
    "        node2_class=G.nodes[edge[1]]['Class']\n",
    "\n",
    "        if node1_class==node2_class:\n",
    "            edge_consistency[edge]=1\n",
    "        else:\n",
    "            edge_consistency[edge]=0\n",
    "\n",
    "    value_counts=Counter(edge_consistency.values())\n",
    "    ratio=value_counts[0]/G.number_of_edges()\n",
    "    return G.number_of_nodes(),G.number_of_edges(),density,mean_degree,median_degree,std_degree,max_degree,min_degree,ratio"
   ]
  },
  {
   "cell_type": "code",
   "execution_count": 25,
   "metadata": {},
   "outputs": [],
   "source": [
    "import pickle\n",
    "\n",
    "def save_graph(name, G):\n",
    "    # save graph object to file\n",
    "    pickle.dump(G, open(\"graph/\"+name+'.pickle', 'wb'))\n",
    "\n",
    "def load_graph(name, G):\n",
    "    # load graph object from file\n",
    "    G = pickle.load(open(\"graph/\"+name+'.pickle', 'rb'))\n",
    "    return G"
   ]
  },
  {
   "cell_type": "code",
   "execution_count": 26,
   "metadata": {},
   "outputs": [],
   "source": [
    "def data_construction(type, cos_sim, cos_sim_dict_train):\n",
    "    data_dic={'threshold':[],'number_of_nodes':[],'number_of_edges':[],'density':[]\n",
    "              ,'mean_degree':[],'median_degree':[],'std_of_degree':[],'max_degree':[]\n",
    "              ,'min_degree':[],'ratio_of_heterogeneous':[]}\n",
    "    graph=[]\n",
    "    for factor in range(31):\n",
    "        # threshold\n",
    "        threshold=cos_sim_dict_train['median']+factor*cos_sim_dict_train['std']\n",
    "        data_dic['threshold'].append(threshold)\n",
    "        G=graph_construction(cos_sim,df,threshold)\n",
    "        graph.append(G)\n",
    "        # 存graph\n",
    "        save_graph(type+\"/\"+str(threshold), G)\n",
    "        \n",
    "        non,noe,d,meand,medd,stdd,maxd,mind,ratio=graph_describe(G,3)\n",
    "        data_dic['number_of_nodes'].append(non)\n",
    "        data_dic['number_of_edges'].append(noe)\n",
    "        data_dic['density'].append(d)\n",
    "        data_dic['mean_degree'].append(meand)\n",
    "        data_dic['median_degree'].append(medd)\n",
    "        data_dic['std_of_degree'].append(stdd)\n",
    "        data_dic['max_degree'].append(maxd)\n",
    "        data_dic['min_degree'].append(mind)\n",
    "        data_dic['ratio_of_heterogeneous'].append(ratio)\n",
    "    \n",
    "    return graph, data_dic\n",
    "\n"
   ]
  },
  {
   "cell_type": "code",
   "execution_count": 27,
   "metadata": {},
   "outputs": [
    {
     "name": "stderr",
     "output_type": "stream",
     "text": [
      "Add nodes into G...: 100%|██████████| 4330/4330 [00:00<00:00, 14302.84it/s]\n",
      "Graph Construction...: 100%|██████████| 4330/4330 [00:07<00:00, 582.35it/s] \n",
      "Check edge consistent...: 100%|██████████| 4618019/4618019 [00:06<00:00, 681129.23it/s]\n",
      "Add nodes into G...: 100%|██████████| 4330/4330 [00:00<00:00, 14813.57it/s]\n",
      "Graph Construction...: 100%|██████████| 4330/4330 [00:07<00:00, 610.46it/s] \n",
      "Check edge consistent...: 100%|██████████| 4080304/4080304 [00:05<00:00, 708904.52it/s]\n",
      "Add nodes into G...: 100%|██████████| 4330/4330 [00:00<00:00, 14863.10it/s]\n",
      "Graph Construction...: 100%|██████████| 4330/4330 [00:06<00:00, 649.23it/s] \n",
      "Check edge consistent...: 100%|██████████| 3605196/3605196 [00:06<00:00, 562356.76it/s]\n",
      "Add nodes into G...: 100%|██████████| 4330/4330 [00:00<00:00, 14650.47it/s]\n",
      "Graph Construction...: 100%|██████████| 4330/4330 [00:05<00:00, 779.03it/s] \n",
      "Check edge consistent...: 100%|██████████| 3183859/3183859 [00:04<00:00, 696766.63it/s]\n",
      "Add nodes into G...: 100%|██████████| 4330/4330 [00:00<00:00, 10323.99it/s]\n",
      "Graph Construction...: 100%|██████████| 4330/4330 [00:05<00:00, 777.63it/s] \n",
      "Check edge consistent...: 100%|██████████| 2809101/2809101 [00:04<00:00, 692003.52it/s]\n",
      "Add nodes into G...: 100%|██████████| 4330/4330 [00:00<00:00, 14323.98it/s]\n",
      "Graph Construction...: 100%|██████████| 4330/4330 [00:05<00:00, 863.58it/s] \n",
      "Check edge consistent...: 100%|██████████| 2475967/2475967 [00:04<00:00, 528446.77it/s]\n",
      "Add nodes into G...: 100%|██████████| 4330/4330 [00:00<00:00, 10380.80it/s]\n",
      "Graph Construction...: 100%|██████████| 4330/4330 [00:05<00:00, 756.69it/s] \n",
      "Check edge consistent...: 100%|██████████| 2176498/2176498 [00:02<00:00, 729395.71it/s]\n",
      "Add nodes into G...: 100%|██████████| 4330/4330 [00:00<00:00, 14444.06it/s]\n",
      "Graph Construction...: 100%|██████████| 4330/4330 [00:06<00:00, 658.33it/s] \n",
      "Check edge consistent...: 100%|██████████| 1907849/1907849 [00:02<00:00, 659532.45it/s]\n",
      "Add nodes into G...: 100%|██████████| 4330/4330 [00:00<00:00, 10439.43it/s]\n",
      "Graph Construction...: 100%|██████████| 4330/4330 [00:05<00:00, 782.71it/s] \n",
      "Check edge consistent...: 100%|██████████| 1667222/1667222 [00:03<00:00, 513098.17it/s]\n",
      "Add nodes into G...: 100%|██████████| 4330/4330 [00:00<00:00, 10397.08it/s]\n",
      "Graph Construction...: 100%|██████████| 4330/4330 [00:03<00:00, 1246.63it/s]\n",
      "Check edge consistent...: 100%|██████████| 1451580/1451580 [00:02<00:00, 717712.55it/s]\n",
      "Add nodes into G...: 100%|██████████| 4330/4330 [00:00<00:00, 14643.61it/s]\n",
      "Graph Construction...: 100%|██████████| 4330/4330 [00:04<00:00, 966.62it/s] \n",
      "Check edge consistent...: 100%|██████████| 1259835/1259835 [00:01<00:00, 728172.02it/s]\n",
      "Add nodes into G...: 100%|██████████| 4330/4330 [00:00<00:00, 14708.61it/s]\n",
      "Graph Construction...: 100%|██████████| 4330/4330 [00:02<00:00, 1471.10it/s]\n",
      "Check edge consistent...: 100%|██████████| 1088491/1088491 [00:01<00:00, 715259.74it/s]\n",
      "Add nodes into G...: 100%|██████████| 4330/4330 [00:00<00:00, 14733.42it/s]\n",
      "Graph Construction...: 100%|██████████| 4330/4330 [00:02<00:00, 1507.63it/s]\n",
      "Check edge consistent...: 100%|██████████| 936590/936590 [00:01<00:00, 744454.02it/s]\n",
      "Add nodes into G...: 100%|██████████| 4330/4330 [00:00<00:00, 14634.87it/s]\n",
      "Graph Construction...: 100%|██████████| 4330/4330 [00:02<00:00, 1710.11it/s]\n",
      "Check edge consistent...: 100%|██████████| 802096/802096 [00:01<00:00, 745300.21it/s]\n",
      "Add nodes into G...: 100%|██████████| 4330/4330 [00:00<00:00, 14867.67it/s]\n",
      "Graph Construction...: 100%|██████████| 4330/4330 [00:02<00:00, 1824.03it/s]\n",
      "Check edge consistent...: 100%|██████████| 684059/684059 [00:04<00:00, 162415.70it/s]\n",
      "Add nodes into G...: 100%|██████████| 4330/4330 [00:00<00:00, 14789.76it/s]\n",
      "Graph Construction...: 100%|██████████| 4330/4330 [00:02<00:00, 1795.08it/s]\n",
      "Check edge consistent...: 100%|██████████| 581003/581003 [00:01<00:00, 530800.78it/s]\n",
      "Add nodes into G...: 100%|██████████| 4330/4330 [00:00<00:00, 10302.40it/s]\n",
      "Graph Construction...: 100%|██████████| 4330/4330 [00:03<00:00, 1202.56it/s]\n",
      "Check edge consistent...: 100%|██████████| 490080/490080 [00:00<00:00, 531432.16it/s]\n",
      "Add nodes into G...: 100%|██████████| 4330/4330 [00:00<00:00, 10330.47it/s]\n",
      "Graph Construction...: 100%|██████████| 4330/4330 [00:02<00:00, 1505.10it/s]\n",
      "Check edge consistent...: 100%|██████████| 411939/411939 [00:00<00:00, 611435.25it/s]\n",
      "Add nodes into G...: 100%|██████████| 4330/4330 [00:00<00:00, 10280.45it/s]\n",
      "Graph Construction...: 100%|██████████| 4330/4330 [00:03<00:00, 1284.77it/s]\n",
      "Check edge consistent...: 100%|██████████| 344253/344253 [00:00<00:00, 527494.70it/s]\n",
      "Add nodes into G...: 100%|██████████| 4330/4330 [00:00<00:00, 10328.12it/s]\n",
      "Graph Construction...: 100%|██████████| 4330/4330 [00:03<00:00, 1334.43it/s]\n",
      "Check edge consistent...: 100%|██████████| 285673/285673 [00:00<00:00, 542478.51it/s]\n",
      "Add nodes into G...: 100%|██████████| 4330/4330 [00:00<00:00, 10342.36it/s]\n",
      "Graph Construction...: 100%|██████████| 4330/4330 [00:03<00:00, 1364.31it/s]\n",
      "Check edge consistent...: 100%|██████████| 234871/234871 [00:00<00:00, 755202.69it/s]\n",
      "Add nodes into G...: 100%|██████████| 4330/4330 [00:00<00:00, 14799.33it/s]\n",
      "Graph Construction...: 100%|██████████| 4330/4330 [00:01<00:00, 2461.79it/s]\n",
      "Check edge consistent...: 100%|██████████| 192271/192271 [00:00<00:00, 753018.61it/s]\n",
      "Add nodes into G...: 100%|██████████| 4330/4330 [00:00<00:00, 14619.33it/s]\n",
      "Graph Construction...: 100%|██████████| 4330/4330 [00:01<00:00, 2310.49it/s]\n",
      "Check edge consistent...: 100%|██████████| 156354/156354 [00:00<00:00, 662822.79it/s]\n",
      "Add nodes into G...: 100%|██████████| 4330/4330 [00:00<00:00, 14839.22it/s]\n",
      "Graph Construction...: 100%|██████████| 4330/4330 [00:01<00:00, 2543.10it/s]\n",
      "Check edge consistent...: 100%|██████████| 126263/126263 [00:00<00:00, 773441.44it/s]\n",
      "Add nodes into G...: 100%|██████████| 4330/4330 [00:00<00:00, 14805.10it/s]\n",
      "Graph Construction...: 100%|██████████| 4330/4330 [00:01<00:00, 2554.99it/s]\n",
      "Check edge consistent...: 100%|██████████| 101280/101280 [00:00<00:00, 763270.77it/s]\n",
      "Add nodes into G...: 100%|██████████| 4330/4330 [00:00<00:00, 13138.12it/s]\n",
      "Graph Construction...: 100%|██████████| 4330/4330 [00:05<00:00, 810.37it/s] \n",
      "Check edge consistent...: 100%|██████████| 80786/80786 [00:00<00:00, 784310.69it/s]\n",
      "Add nodes into G...: 100%|██████████| 4330/4330 [00:00<00:00, 15568.54it/s]\n",
      "Graph Construction...: 100%|██████████| 4330/4330 [00:01<00:00, 2821.22it/s]\n",
      "Check edge consistent...: 100%|██████████| 63636/63636 [00:00<00:00, 717546.74it/s]\n",
      "Add nodes into G...: 100%|██████████| 4330/4330 [00:00<00:00, 13334.71it/s]\n",
      "Graph Construction...: 100%|██████████| 4330/4330 [00:01<00:00, 2756.48it/s]\n",
      "Check edge consistent...: 100%|██████████| 49194/49194 [00:00<00:00, 744578.41it/s]\n",
      "Add nodes into G...: 100%|██████████| 4330/4330 [00:00<00:00, 14594.76it/s]\n",
      "Graph Construction...: 100%|██████████| 4330/4330 [00:01<00:00, 2809.25it/s]\n",
      "Check edge consistent...: 100%|██████████| 36652/36652 [00:00<00:00, 752691.10it/s]\n",
      "Add nodes into G...: 100%|██████████| 4330/4330 [00:00<00:00, 10305.01it/s]\n",
      "Graph Construction...: 100%|██████████| 4330/4330 [00:02<00:00, 2154.65it/s]\n",
      "Check edge consistent...: 100%|██████████| 26120/26120 [00:00<00:00, 754923.27it/s]\n",
      "Add nodes into G...: 100%|██████████| 4330/4330 [00:00<00:00, 14190.51it/s]\n",
      "Graph Construction...: 100%|██████████| 4330/4330 [00:02<00:00, 1563.03it/s]\n",
      "Check edge consistent...: 100%|██████████| 16543/16543 [00:00<00:00, 508518.78it/s]\n",
      "Add nodes into G...: 100%|██████████| 1082/1082 [00:00<00:00, 10362.10it/s]\n",
      "Graph Construction...: 100%|██████████| 1082/1082 [00:00<00:00, 1855.67it/s]\n",
      "Check edge consistent...: 100%|██████████| 284430/284430 [00:00<00:00, 569202.53it/s]\n",
      "Add nodes into G...: 100%|██████████| 1082/1082 [00:00<00:00, 10298.35it/s]\n",
      "Graph Construction...: 100%|██████████| 1082/1082 [00:00<00:00, 2036.10it/s]\n",
      "Check edge consistent...: 100%|██████████| 252751/252751 [00:00<00:00, 573780.49it/s]\n",
      "Add nodes into G...: 100%|██████████| 1082/1082 [00:00<00:00, 10355.43it/s]\n",
      "Graph Construction...: 100%|██████████| 1082/1082 [00:00<00:00, 2213.89it/s]\n",
      "Check edge consistent...: 100%|██████████| 224669/224669 [00:00<00:00, 566491.72it/s]\n",
      "Add nodes into G...: 100%|██████████| 1082/1082 [00:00<00:00, 10337.36it/s]\n",
      "Graph Construction...: 100%|██████████| 1082/1082 [00:00<00:00, 2358.07it/s]\n",
      "Check edge consistent...: 100%|██████████| 198801/198801 [00:00<00:00, 566803.00it/s]\n",
      "Add nodes into G...: 100%|██████████| 1082/1082 [00:00<00:00, 10293.21it/s]\n",
      "Graph Construction...: 100%|██████████| 1082/1082 [00:00<00:00, 2556.12it/s]\n",
      "Check edge consistent...: 100%|██████████| 175633/175633 [00:00<00:00, 561369.46it/s]\n",
      "Add nodes into G...: 100%|██████████| 1082/1082 [00:00<00:00, 10274.62it/s]\n",
      "Graph Construction...: 100%|██████████| 1082/1082 [00:00<00:00, 2749.83it/s]\n",
      "Check edge consistent...: 100%|██████████| 155009/155009 [00:00<00:00, 572216.67it/s]\n",
      "Add nodes into G...: 100%|██████████| 1082/1082 [00:00<00:00, 10293.82it/s]\n",
      "Graph Construction...: 100%|██████████| 1082/1082 [00:00<00:00, 2934.38it/s]\n",
      "Check edge consistent...: 100%|██████████| 136599/136599 [00:00<00:00, 571150.60it/s]\n",
      "Add nodes into G...: 100%|██████████| 1082/1082 [00:00<00:00, 10335.27it/s]\n",
      "Graph Construction...: 100%|██████████| 1082/1082 [00:00<00:00, 3115.25it/s]\n",
      "Check edge consistent...: 100%|██████████| 119850/119850 [00:00<00:00, 564973.39it/s]\n",
      "Add nodes into G...: 100%|██████████| 1082/1082 [00:00<00:00, 10299.10it/s]\n",
      "Graph Construction...: 100%|██████████| 1082/1082 [00:00<00:00, 3337.93it/s]\n",
      "Check edge consistent...: 100%|██████████| 105040/105040 [00:00<00:00, 562018.52it/s]\n",
      "Add nodes into G...: 100%|██████████| 1082/1082 [00:00<00:00, 9722.68it/s]\n",
      "Graph Construction...: 100%|██████████| 1082/1082 [00:00<00:00, 3555.78it/s]\n",
      "Check edge consistent...: 100%|██████████| 91560/91560 [00:00<00:00, 554748.90it/s]\n",
      "Add nodes into G...: 100%|██████████| 1082/1082 [00:00<00:00, 10306.12it/s]\n",
      "Graph Construction...: 100%|██████████| 1082/1082 [00:00<00:00, 3763.74it/s]\n",
      "Check edge consistent...: 100%|██████████| 79504/79504 [00:00<00:00, 555822.34it/s]\n",
      "Add nodes into G...: 100%|██████████| 1082/1082 [00:00<00:00, 10362.05it/s]\n",
      "Graph Construction...: 100%|██████████| 1082/1082 [00:00<00:00, 3917.41it/s]\n",
      "Check edge consistent...: 100%|██████████| 68767/68767 [00:00<00:00, 554419.82it/s]\n",
      "Add nodes into G...: 100%|██████████| 1082/1082 [00:00<00:00, 10345.80it/s]\n",
      "Graph Construction...: 100%|██████████| 1082/1082 [00:00<00:00, 4213.06it/s]\n",
      "Check edge consistent...: 100%|██████████| 59425/59425 [00:00<00:00, 541006.39it/s]\n",
      "Add nodes into G...: 100%|██████████| 1082/1082 [00:00<00:00, 10324.43it/s]\n",
      "Graph Construction...: 100%|██████████| 1082/1082 [00:00<00:00, 4388.12it/s]\n",
      "Check edge consistent...: 100%|██████████| 50958/50958 [00:00<00:00, 518072.36it/s]\n",
      "Add nodes into G...: 100%|██████████| 1082/1082 [00:00<00:00, 9885.46it/s]\n",
      "Graph Construction...: 100%|██████████| 1082/1082 [00:00<00:00, 4587.19it/s]\n",
      "Check edge consistent...: 100%|██████████| 43528/43528 [00:00<00:00, 560526.55it/s]\n",
      "Add nodes into G...: 100%|██████████| 1082/1082 [00:00<00:00, 10345.21it/s]\n",
      "Graph Construction...: 100%|██████████| 1082/1082 [00:00<00:00, 4757.92it/s]\n",
      "Check edge consistent...: 100%|██████████| 37028/37028 [00:00<00:00, 563178.79it/s]\n",
      "Add nodes into G...: 100%|██████████| 1082/1082 [00:00<00:00, 10334.73it/s]\n",
      "Graph Construction...: 100%|██████████| 1082/1082 [00:00<00:00, 4945.73it/s]\n",
      "Check edge consistent...: 100%|██████████| 31406/31406 [00:00<00:00, 512430.12it/s]\n",
      "Add nodes into G...: 100%|██████████| 1082/1082 [00:00<00:00, 10329.01it/s]\n",
      "Graph Construction...: 100%|██████████| 1082/1082 [00:00<00:00, 5113.44it/s]\n",
      "Check edge consistent...: 100%|██████████| 26478/26478 [00:00<00:00, 555275.58it/s]\n",
      "Add nodes into G...: 100%|██████████| 1082/1082 [00:00<00:00, 10319.66it/s]\n",
      "Graph Construction...: 100%|██████████| 1082/1082 [00:00<00:00, 5271.28it/s]\n",
      "Check edge consistent...: 100%|██████████| 22038/22038 [00:00<00:00, 551660.77it/s]\n",
      "Add nodes into G...: 100%|██████████| 1082/1082 [00:00<00:00, 10303.78it/s]\n",
      "Graph Construction...: 100%|██████████| 1082/1082 [00:00<00:00, 5423.08it/s]\n",
      "Check edge consistent...: 100%|██████████| 18297/18297 [00:00<00:00, 558392.13it/s]\n",
      "Add nodes into G...: 100%|██████████| 1082/1082 [00:00<00:00, 10335.34it/s]\n",
      "Graph Construction...: 100%|██████████| 1082/1082 [00:00<00:00, 5424.13it/s]\n",
      "Check edge consistent...: 100%|██████████| 15200/15200 [00:00<00:00, 549110.88it/s]\n",
      "Add nodes into G...: 100%|██████████| 1082/1082 [00:00<00:00, 10335.39it/s]\n",
      "Graph Construction...: 100%|██████████| 1082/1082 [00:00<00:00, 5603.57it/s]\n",
      "Check edge consistent...: 100%|██████████| 12452/12452 [00:00<00:00, 533292.56it/s]\n",
      "Add nodes into G...: 100%|██████████| 1082/1082 [00:00<00:00, 10337.43it/s]\n",
      "Graph Construction...: 100%|██████████| 1082/1082 [00:00<00:00, 5774.84it/s]\n",
      "Check edge consistent...: 100%|██████████| 10108/10108 [00:00<00:00, 540544.99it/s]\n",
      "Add nodes into G...: 100%|██████████| 1082/1082 [00:00<00:00, 10294.40it/s]\n",
      "Graph Construction...: 100%|██████████| 1082/1082 [00:00<00:00, 5886.89it/s]\n",
      "Check edge consistent...: 100%|██████████| 8157/8157 [00:00<00:00, 535958.92it/s]\n",
      "Add nodes into G...: 100%|██████████| 1082/1082 [00:00<00:00, 10289.25it/s]\n",
      "Graph Construction...: 100%|██████████| 1082/1082 [00:00<00:00, 5761.99it/s]\n",
      "Check edge consistent...: 100%|██████████| 6519/6519 [00:00<00:00, 531039.01it/s]\n",
      "Add nodes into G...: 100%|██████████| 1082/1082 [00:00<00:00, 10264.11it/s]\n",
      "Graph Construction...: 100%|██████████| 1082/1082 [00:00<00:00, 5970.30it/s]\n",
      "Check edge consistent...: 100%|██████████| 5248/5248 [00:00<00:00, 510026.12it/s]\n",
      "Add nodes into G...: 100%|██████████| 1082/1082 [00:00<00:00, 10286.05it/s]\n",
      "Graph Construction...: 100%|██████████| 1082/1082 [00:00<00:00, 6015.17it/s]\n",
      "Check edge consistent...: 100%|██████████| 4176/4176 [00:00<00:00, 487772.24it/s]\n",
      "Add nodes into G...: 100%|██████████| 1082/1082 [00:00<00:00, 10235.18it/s]\n",
      "Graph Construction...: 100%|██████████| 1082/1082 [00:00<00:00, 6144.71it/s]\n",
      "Check edge consistent...: 100%|██████████| 3175/3175 [00:00<00:00, 510480.90it/s]\n",
      "Add nodes into G...: 100%|██████████| 1082/1082 [00:00<00:00, 10181.26it/s]\n",
      "Graph Construction...: 100%|██████████| 1082/1082 [00:00<00:00, 6012.13it/s]\n",
      "Check edge consistent...: 100%|██████████| 2430/2430 [00:00<00:00, 505588.51it/s]\n",
      "Add nodes into G...: 100%|██████████| 1082/1082 [00:00<00:00, 10176.72it/s]\n",
      "Graph Construction...: 100%|██████████| 1082/1082 [00:00<00:00, 6229.64it/s]\n",
      "Check edge consistent...: 100%|██████████| 1815/1815 [00:00<00:00, 501658.11it/s]\n",
      "Add nodes into G...: 100%|██████████| 1082/1082 [00:00<00:00, 10169.65it/s]\n",
      "Graph Construction...: 100%|██████████| 1082/1082 [00:00<00:00, 6252.15it/s]\n",
      "Check edge consistent...: 100%|██████████| 1237/1237 [00:00<00:00, 469237.05it/s]\n"
     ]
    }
   ],
   "source": [
    "graph, data_dic = data_construction(\"train\", cos_sim_train, cos_sim_dict_train)\n",
    "# !!!!test也用train的相似度去計算threshold\n",
    "graph_test, data_dic_test = data_construction(\"test\", cos_sim_eval, cos_sim_dict_train)"
   ]
  },
  {
   "cell_type": "code",
   "execution_count": 28,
   "metadata": {},
   "outputs": [],
   "source": [
    "# 存成data.json\n",
    "import json\n",
    "def save_data_dic(type, data_dic):\n",
    "    for key in data_dic:\n",
    "        if isinstance(data_dic[key][0], np.int32) or isinstance(data_dic[key][0], np.int64):\n",
    "            data_dic[key]=[int(num) for num in data_dic[key]]\n",
    "        elif isinstance(data_dic[key][0], np.float64):\n",
    "            data_dic[key]=[float(num) for num in data_dic[key]]\n",
    "    json_data=json.dumps(data_dic,indent=4)\n",
    "    with open('data_'+type+'.json','w') as json_file:\n",
    "        json_file.write(json_data)\n",
    "    with open(\"data.json\",'r') as json_file:\n",
    "        data_dic=json.load(json_file)\n",
    "    # type_list=[]\n",
    "    # for key in data_dic:\n",
    "    #     print(f\"{key}:\")\n",
    "    #     print([round(num,3) for num in data_dic[key]])\n",
    "    #     print(f\"type:{type(data_dic[key][0])}\")\n",
    "    #     type_list.append(type(data_dic[key][0]))\n",
    "    #     print()\n",
    "    # print(type_list)"
   ]
  },
  {
   "cell_type": "code",
   "execution_count": 29,
   "metadata": {},
   "outputs": [
    {
     "data": {
      "text/plain": [
       "{'threshold': [-0.02079061524073395,\n",
       "  0.010000278911511062,\n",
       "  0.04079117306375607,\n",
       "  0.07158206721600109,\n",
       "  0.1023729613682461,\n",
       "  0.13316385552049112,\n",
       "  0.16395474967273613,\n",
       "  0.19474564382498114,\n",
       "  0.22553653797722614,\n",
       "  0.2563274321294712,\n",
       "  0.2871183262817162,\n",
       "  0.3179092204339612,\n",
       "  0.3487001145862062,\n",
       "  0.3794910087384512,\n",
       "  0.4102819028906962,\n",
       "  0.4410727970429412,\n",
       "  0.47186369119518623,\n",
       "  0.5026545853474312,\n",
       "  0.5334454794996762,\n",
       "  0.5642363736519213,\n",
       "  0.5950272678041663,\n",
       "  0.6258181619564113,\n",
       "  0.6566090561086563,\n",
       "  0.6873999502609013,\n",
       "  0.7181908444131463,\n",
       "  0.7489817385653913,\n",
       "  0.7797726327176363,\n",
       "  0.8105635268698813,\n",
       "  0.8413544210221263,\n",
       "  0.8721453151743713,\n",
       "  0.9029362093266163],\n",
       " 'number_of_nodes': [4330,\n",
       "  4330,\n",
       "  4330,\n",
       "  4330,\n",
       "  4330,\n",
       "  4330,\n",
       "  4330,\n",
       "  4330,\n",
       "  4330,\n",
       "  4330,\n",
       "  4330,\n",
       "  4330,\n",
       "  4330,\n",
       "  4330,\n",
       "  4330,\n",
       "  4330,\n",
       "  4330,\n",
       "  4330,\n",
       "  4330,\n",
       "  4330,\n",
       "  4330,\n",
       "  4330,\n",
       "  4330,\n",
       "  4330,\n",
       "  4330,\n",
       "  4330,\n",
       "  4330,\n",
       "  4330,\n",
       "  4330,\n",
       "  4330,\n",
       "  4330],\n",
       " 'number_of_edges': [4618019,\n",
       "  4080304,\n",
       "  3605196,\n",
       "  3183859,\n",
       "  2809101,\n",
       "  2475967,\n",
       "  2176498,\n",
       "  1907849,\n",
       "  1667222,\n",
       "  1451580,\n",
       "  1259835,\n",
       "  1088491,\n",
       "  936590,\n",
       "  802096,\n",
       "  684059,\n",
       "  581003,\n",
       "  490080,\n",
       "  411939,\n",
       "  344253,\n",
       "  285673,\n",
       "  234871,\n",
       "  192271,\n",
       "  156354,\n",
       "  126263,\n",
       "  101280,\n",
       "  80786,\n",
       "  63636,\n",
       "  49194,\n",
       "  36652,\n",
       "  26120,\n",
       "  16543],\n",
       " 'density': [0.4927313883433976,\n",
       "  0.43535850649014624,\n",
       "  0.38466563916910335,\n",
       "  0.33971000668460255,\n",
       "  0.29972424013994453,\n",
       "  0.26417965309420277,\n",
       "  0.23222703961733984,\n",
       "  0.20356284513328393,\n",
       "  0.17788852985157835,\n",
       "  0.15488005326342508,\n",
       "  0.13442132841670948,\n",
       "  0.11613934061971014,\n",
       "  0.09993187360392904,\n",
       "  0.0855816911244163,\n",
       "  0.07298743049320416,\n",
       "  0.06199160610246061,\n",
       "  0.05229034328341488,\n",
       "  0.04395288875658391,\n",
       "  0.0367309572852298,\n",
       "  0.030480613852438332,\n",
       "  0.025060164090187183,\n",
       "  0.02051484776657987,\n",
       "  0.016682591278434234,\n",
       "  0.013471954811446729,\n",
       "  0.010806329513026973,\n",
       "  0.008619669589646495,\n",
       "  0.006789806327912563,\n",
       "  0.005248880075669914,\n",
       "  0.0039106791993628025,\n",
       "  0.0027869404312822325,\n",
       "  0.0017650978390008412],\n",
       " 'mean_degree': [2133.034180138568,\n",
       "  1884.666974595843,\n",
       "  1665.2175519630484,\n",
       "  1470.6046189376443,\n",
       "  1297.50623556582,\n",
       "  1143.6337182448037,\n",
       "  1005.3108545034642,\n",
       "  881.2235565819861,\n",
       "  770.0794457274827,\n",
       "  670.4757505773672,\n",
       "  581.9099307159354,\n",
       "  502.76720554272515,\n",
       "  432.60508083140877,\n",
       "  370.48314087759815,\n",
       "  315.96258660508084,\n",
       "  268.361662817552,\n",
       "  226.364896073903,\n",
       "  190.27205542725173,\n",
       "  159.00831408775983,\n",
       "  131.95057736720554,\n",
       "  108.48545034642032,\n",
       "  88.80877598152425,\n",
       "  72.2189376443418,\n",
       "  58.32009237875289,\n",
       "  46.78060046189376,\n",
       "  37.314549653579675,\n",
       "  29.393071593533488,\n",
       "  22.722401847575057,\n",
       "  16.92933025404157,\n",
       "  12.064665127020785,\n",
       "  7.641108545034642],\n",
       " 'median_degree': [2164.0,\n",
       "  1927.0,\n",
       "  1722.0,\n",
       "  1529.0,\n",
       "  1352.0,\n",
       "  1192.0,\n",
       "  1044.0,\n",
       "  910.0,\n",
       "  788.0,\n",
       "  680.0,\n",
       "  589.0,\n",
       "  505.0,\n",
       "  428.0,\n",
       "  363.0,\n",
       "  308.0,\n",
       "  266.5,\n",
       "  222.0,\n",
       "  183.0,\n",
       "  148.0,\n",
       "  118.0,\n",
       "  92.5,\n",
       "  73.0,\n",
       "  55.0,\n",
       "  41.0,\n",
       "  30.0,\n",
       "  21.0,\n",
       "  14.0,\n",
       "  9.0,\n",
       "  5.0,\n",
       "  3.0,\n",
       "  1.0],\n",
       " 'std_of_degree': [199.1514313183621,\n",
       "  220.2187322138326,\n",
       "  247.6693994502151,\n",
       "  262.41263061914066,\n",
       "  264.71520202441474,\n",
       "  258.13344700218994,\n",
       "  245.89414233675532,\n",
       "  230.19916449508008,\n",
       "  212.68498899282912,\n",
       "  194.2081345552728,\n",
       "  175.47139734743715,\n",
       "  157.5339806029669,\n",
       "  140.95590574532656,\n",
       "  125.94572062027288,\n",
       "  112.69336468130676,\n",
       "  101.48767275854912,\n",
       "  92.09603315011397,\n",
       "  84.76531590398149,\n",
       "  78.54534251990239,\n",
       "  73.5395125973892,\n",
       "  69.29380428694186,\n",
       "  65.70002103217928,\n",
       "  62.729962061290074,\n",
       "  59.90108928048935,\n",
       "  56.90477352141885,\n",
       "  53.67504996952838,\n",
       "  49.91886486870564,\n",
       "  45.03319875463084,\n",
       "  38.86262408563849,\n",
       "  31.656550000170018,\n",
       "  22.88151165627917],\n",
       " 'max_degree': [3271,\n",
       "  2370,\n",
       "  2108,\n",
       "  1919,\n",
       "  1749,\n",
       "  1609,\n",
       "  1474,\n",
       "  1371,\n",
       "  1275,\n",
       "  1177,\n",
       "  1081,\n",
       "  982,\n",
       "  899,\n",
       "  813,\n",
       "  746,\n",
       "  664,\n",
       "  588,\n",
       "  503,\n",
       "  411,\n",
       "  344,\n",
       "  315,\n",
       "  295,\n",
       "  294,\n",
       "  287,\n",
       "  282,\n",
       "  273,\n",
       "  260,\n",
       "  246,\n",
       "  231,\n",
       "  203,\n",
       "  169],\n",
       " 'min_degree': [1290,\n",
       "  624,\n",
       "  369,\n",
       "  253,\n",
       "  209,\n",
       "  183,\n",
       "  164,\n",
       "  130,\n",
       "  97,\n",
       "  79,\n",
       "  64,\n",
       "  56,\n",
       "  43,\n",
       "  36,\n",
       "  28,\n",
       "  21,\n",
       "  13,\n",
       "  10,\n",
       "  8,\n",
       "  6,\n",
       "  3,\n",
       "  0,\n",
       "  0,\n",
       "  0,\n",
       "  0,\n",
       "  0,\n",
       "  0,\n",
       "  0,\n",
       "  0,\n",
       "  0,\n",
       "  0],\n",
       " 'ratio_of_heterogeneous': [0.0008839288015055806,\n",
       "  0.0008866986381406875,\n",
       "  0.0009020314013440601,\n",
       "  0.0009133570299438512,\n",
       "  0.0009301908332950649,\n",
       "  0.0009467008243647835,\n",
       "  0.0009561230931523943,\n",
       "  0.0009602437090147071,\n",
       "  0.000950683232346982,\n",
       "  0.0009451769795670924,\n",
       "  0.0009278992883988776,\n",
       "  0.0009187030485323259,\n",
       "  0.0008947351562583415,\n",
       "  0.0008589994215156291,\n",
       "  0.0008434944938959944,\n",
       "  0.0008158305550917982,\n",
       "  0.0007529382957884427,\n",
       "  0.0007306907090612931,\n",
       "  0.000688447159501878,\n",
       "  0.0006230900365102758,\n",
       "  0.0005364646976425357,\n",
       "  0.00048369228848864365,\n",
       "  0.0003901403226012766,\n",
       "  0.00030887908571790627,\n",
       "  0.00026658767772511847,\n",
       "  0.00019805411828782214,\n",
       "  0.00014142937959645485,\n",
       "  4.065536447534252e-05,\n",
       "  5.456728145803776e-05,\n",
       "  3.8284839203675343e-05,\n",
       "  0.0]}"
      ]
     },
     "execution_count": 29,
     "metadata": {},
     "output_type": "execute_result"
    }
   ],
   "source": [
    "data_dic"
   ]
  },
  {
   "cell_type": "code",
   "execution_count": 30,
   "metadata": {},
   "outputs": [
    {
     "data": {
      "text/plain": [
       "{'threshold': [-0.02079061524073395,\n",
       "  0.010000278911511062,\n",
       "  0.04079117306375607,\n",
       "  0.07158206721600109,\n",
       "  0.1023729613682461,\n",
       "  0.13316385552049112,\n",
       "  0.16395474967273613,\n",
       "  0.19474564382498114,\n",
       "  0.22553653797722614,\n",
       "  0.2563274321294712,\n",
       "  0.2871183262817162,\n",
       "  0.3179092204339612,\n",
       "  0.3487001145862062,\n",
       "  0.3794910087384512,\n",
       "  0.4102819028906962,\n",
       "  0.4410727970429412,\n",
       "  0.47186369119518623,\n",
       "  0.5026545853474312,\n",
       "  0.5334454794996762,\n",
       "  0.5642363736519213,\n",
       "  0.5950272678041663,\n",
       "  0.6258181619564113,\n",
       "  0.6566090561086563,\n",
       "  0.6873999502609013,\n",
       "  0.7181908444131463,\n",
       "  0.7489817385653913,\n",
       "  0.7797726327176363,\n",
       "  0.8105635268698813,\n",
       "  0.8413544210221263,\n",
       "  0.8721453151743713,\n",
       "  0.9029362093266163],\n",
       " 'number_of_nodes': [1082,\n",
       "  1082,\n",
       "  1082,\n",
       "  1082,\n",
       "  1082,\n",
       "  1082,\n",
       "  1082,\n",
       "  1082,\n",
       "  1082,\n",
       "  1082,\n",
       "  1082,\n",
       "  1082,\n",
       "  1082,\n",
       "  1082,\n",
       "  1082,\n",
       "  1082,\n",
       "  1082,\n",
       "  1082,\n",
       "  1082,\n",
       "  1082,\n",
       "  1082,\n",
       "  1082,\n",
       "  1082,\n",
       "  1082,\n",
       "  1082,\n",
       "  1082,\n",
       "  1082,\n",
       "  1082,\n",
       "  1082,\n",
       "  1082,\n",
       "  1082],\n",
       " 'number_of_edges': [284430,\n",
       "  252751,\n",
       "  224669,\n",
       "  198801,\n",
       "  175633,\n",
       "  155009,\n",
       "  136599,\n",
       "  119850,\n",
       "  105040,\n",
       "  91560,\n",
       "  79504,\n",
       "  68767,\n",
       "  59425,\n",
       "  50958,\n",
       "  43528,\n",
       "  37028,\n",
       "  31406,\n",
       "  26478,\n",
       "  22038,\n",
       "  18297,\n",
       "  15200,\n",
       "  12452,\n",
       "  10108,\n",
       "  8157,\n",
       "  6519,\n",
       "  5248,\n",
       "  4176,\n",
       "  3175,\n",
       "  2430,\n",
       "  1815,\n",
       "  1237],\n",
       " 'density': [0.48635394419831024,\n",
       "  0.4321852327464301,\n",
       "  0.38416712122170715,\n",
       "  0.33993478346365813,\n",
       "  0.30031924298204066,\n",
       "  0.26505375148977206,\n",
       "  0.2335740337641774,\n",
       "  0.20493450132604676,\n",
       "  0.17961051330236089,\n",
       "  0.15656072541854688,\n",
       "  0.1359458706168212,\n",
       "  0.11758640678087826,\n",
       "  0.10161228820442494,\n",
       "  0.08713435393051891,\n",
       "  0.07442961179574605,\n",
       "  0.06331509983396628,\n",
       "  0.053701901949485396,\n",
       "  0.04527539195753914,\n",
       "  0.03768332532518497,\n",
       "  0.03128649620995142,\n",
       "  0.025990858741392665,\n",
       "  0.021291985068935624,\n",
       "  0.017283921063026123,\n",
       "  0.013947857549574998,\n",
       "  0.0111470005352065,\n",
       "  0.008973685965449257,\n",
       "  0.007140646454214195,\n",
       "  0.005429011612100113,\n",
       "  0.004155117548788433,\n",
       "  0.003103513724712348,\n",
       "  0.002115177122572548],\n",
       " 'mean_degree': [525.7486136783734,\n",
       "  467.19223659889093,\n",
       "  415.2846580406654,\n",
       "  367.4695009242144,\n",
       "  324.64510166358593,\n",
       "  286.52310536044365,\n",
       "  252.49353049907577,\n",
       "  221.53419593345657,\n",
       "  194.15896487985214,\n",
       "  169.24214417744918,\n",
       "  146.95748613678373,\n",
       "  127.11090573012939,\n",
       "  109.84288354898337,\n",
       "  94.19223659889094,\n",
       "  80.45841035120148,\n",
       "  68.44362292051756,\n",
       "  58.05175600739371,\n",
       "  48.94269870609982,\n",
       "  40.73567467652495,\n",
       "  33.82070240295749,\n",
       "  28.09611829944547,\n",
       "  23.016635859519408,\n",
       "  18.683918669131238,\n",
       "  15.077634011090574,\n",
       "  12.049907578558226,\n",
       "  9.700554528650647,\n",
       "  7.719038817005545,\n",
       "  5.868761552680222,\n",
       "  4.491682070240295,\n",
       "  3.354898336414048,\n",
       "  2.286506469500924],\n",
       " 'median_degree': [534.0,\n",
       "  478.0,\n",
       "  428.0,\n",
       "  381.0,\n",
       "  337.0,\n",
       "  294.0,\n",
       "  258.0,\n",
       "  225.0,\n",
       "  196.0,\n",
       "  169.5,\n",
       "  146.0,\n",
       "  126.0,\n",
       "  107.0,\n",
       "  90.0,\n",
       "  78.5,\n",
       "  65.0,\n",
       "  54.0,\n",
       "  45.0,\n",
       "  36.0,\n",
       "  29.0,\n",
       "  23.0,\n",
       "  18.0,\n",
       "  13.0,\n",
       "  10.0,\n",
       "  7.0,\n",
       "  5.0,\n",
       "  3.0,\n",
       "  2.0,\n",
       "  1.0,\n",
       "  1.0,\n",
       "  0.0],\n",
       " 'std_of_degree': [52.992916407671856,\n",
       "  56.396307075414,\n",
       "  60.889132342745526,\n",
       "  63.536077730045555,\n",
       "  64.38965341391547,\n",
       "  63.12458650779446,\n",
       "  60.233069001992526,\n",
       "  56.648617248644484,\n",
       "  52.6462460726869,\n",
       "  48.79864091454551,\n",
       "  44.638702035046364,\n",
       "  40.53768347167723,\n",
       "  36.933412758730704,\n",
       "  33.45612646646283,\n",
       "  30.364462465802966,\n",
       "  27.633310904277966,\n",
       "  25.478400508670255,\n",
       "  23.578132341108027,\n",
       "  22.08462138704526,\n",
       "  20.825594240670664,\n",
       "  19.719661967480537,\n",
       "  18.689200884940988,\n",
       "  17.58911558981385,\n",
       "  16.51906081992925,\n",
       "  15.41985735717658,\n",
       "  14.325725592114248,\n",
       "  13.102065837321886,\n",
       "  11.544311645493702,\n",
       "  9.94022918852289,\n",
       "  8.255940506102952,\n",
       "  6.312940601153473],\n",
       " 'max_degree': [689,\n",
       "  586,\n",
       "  532,\n",
       "  487,\n",
       "  447,\n",
       "  410,\n",
       "  378,\n",
       "  350,\n",
       "  325,\n",
       "  298,\n",
       "  268,\n",
       "  245,\n",
       "  220,\n",
       "  197,\n",
       "  173,\n",
       "  153,\n",
       "  143,\n",
       "  129,\n",
       "  106,\n",
       "  88,\n",
       "  85,\n",
       "  84,\n",
       "  84,\n",
       "  83,\n",
       "  81,\n",
       "  75,\n",
       "  72,\n",
       "  65,\n",
       "  55,\n",
       "  51,\n",
       "  43],\n",
       " 'min_degree': [331,\n",
       "  246,\n",
       "  127,\n",
       "  81,\n",
       "  68,\n",
       "  50,\n",
       "  40,\n",
       "  36,\n",
       "  31,\n",
       "  27,\n",
       "  17,\n",
       "  16,\n",
       "  12,\n",
       "  12,\n",
       "  11,\n",
       "  9,\n",
       "  6,\n",
       "  6,\n",
       "  2,\n",
       "  1,\n",
       "  1,\n",
       "  0,\n",
       "  0,\n",
       "  0,\n",
       "  0,\n",
       "  0,\n",
       "  0,\n",
       "  0,\n",
       "  0,\n",
       "  0,\n",
       "  0],\n",
       " 'ratio_of_heterogeneous': [0.0038673838905881937,\n",
       "  0.003849638577097618,\n",
       "  0.0038367554046174596,\n",
       "  0.0038883104209737375,\n",
       "  0.003945727739092312,\n",
       "  0.0039868652787902635,\n",
       "  0.0040117423992855,\n",
       "  0.004038381309970797,\n",
       "  0.004084158415841584,\n",
       "  0.003888160768894714,\n",
       "  0.0039117528677802375,\n",
       "  0.003809966989980659,\n",
       "  0.0036684896928901975,\n",
       "  0.0036893127673770557,\n",
       "  0.0035609263003124427,\n",
       "  0.0034838500594144973,\n",
       "  0.0035025154429089984,\n",
       "  0.0034745826724072817,\n",
       "  0.003221707958979944,\n",
       "  0.0028966497239984695,\n",
       "  0.0028947368421052633,\n",
       "  0.0024895599100546095,\n",
       "  0.0022754254056193113,\n",
       "  0.001471129091577786,\n",
       "  0.0009203865623561896,\n",
       "  0.0007621951219512195,\n",
       "  0.0007183908045977011,\n",
       "  0.0,\n",
       "  0.0,\n",
       "  0.0,\n",
       "  0.0]}"
      ]
     },
     "execution_count": 30,
     "metadata": {},
     "output_type": "execute_result"
    }
   ],
   "source": [
    "data_dic_test"
   ]
  },
  {
   "cell_type": "code",
   "execution_count": 31,
   "metadata": {},
   "outputs": [],
   "source": [
    "save_data_dic(\"train\", data_dic)\n",
    "save_data_dic(\"test\", data_dic_test)"
   ]
  },
  {
   "cell_type": "code",
   "execution_count": 32,
   "metadata": {},
   "outputs": [],
   "source": [
    "# # 圖\n",
    "# import matplotlib.pyplot as plt\n",
    "# import random\n",
    "# for idx,G in tqdm(enumerate(graph),desc=\"plot...\"):\n",
    "#     subset_nodes = random.sample(G.nodes(), k=30)\n",
    "#     subgraph = G.subgraph(subset_nodes)\n",
    "\n",
    "#     # 定義顏色映射\n",
    "#     color_map = {0: 'blue', 1: 'red'}\n",
    "\n",
    "#     # 根據類別為節點指定顏色\n",
    "#     node_colors = [color_map[G.nodes[node]['Class']] for node in subgraph.nodes()]\n",
    "\n",
    "#     # 繪製子圖\n",
    "#     plt.figure(figsize=(10, 8))\n",
    "#     nx.draw(subgraph, with_labels=True, node_color=node_colors)\n",
    "#     plt.title(f\"Subraph Visualization with Different Colors:\\nThreshold = median + {idx} std \")\n",
    "#     # 保存图为文件\n",
    "#     plt.savefig(f'./plot_G/median_add_{idx}_std.png')  # 将图保存为 PNG 格式\n",
    "#     # plt.show()"
   ]
  },
  {
   "cell_type": "code",
   "execution_count": 33,
   "metadata": {},
   "outputs": [],
   "source": [
    "# ## plot graph construction experiments result\n",
    "# x=data_dic['threshold']\n",
    "# for key in data_dic:\n",
    "#     if key=='graph' or key=='threshold' or key=='number_of_nodes':\n",
    "#         continue\n",
    "#     y=data_dic[key]\n",
    "#     plt.figure()\n",
    "#     plt.plot(x,y)\n",
    "#     plt.title(f\"Threshold v.s {key}\")\n",
    "#     plt.xlabel(\"Threshold\")\n",
    "#     plt.ylabel(f\"{key}\")\n",
    "#     plt.savefig(f\"./experiments_plt/threshold_vs_{key}\")\n",
    "#     plt.show()\n",
    "    \n",
    "    "
   ]
  },
  {
   "cell_type": "code",
   "execution_count": 34,
   "metadata": {},
   "outputs": [],
   "source": [
    "# node_features = {node: data for node, data in G.nodes(data=True)}\n",
    "# print(node_features[0])\n",
    "# print(list(node_features[0].values()))"
   ]
  },
  {
   "cell_type": "code",
   "execution_count": 35,
   "metadata": {},
   "outputs": [],
   "source": [
    "import os\n",
    "import pickle\n",
    "def read_graph(type):\n",
    "    # 讀所有graph\n",
    "    folder_path = './graph/'+type+\"/\"\n",
    "    graph_dic = {}\n",
    "    # 遍歷資料夾下的所有檔案\n",
    "    for filename in os.listdir(folder_path):\n",
    "        file_path = os.path.join(folder_path, filename)\n",
    "        # print(file_path)\n",
    "        # 檢查是否是.pkl檔案\n",
    "        if filename.endswith(\".pickle\"):\n",
    "            # 讀取.pkl檔案\n",
    "            try:\n",
    "                with open(file_path, \"rb\") as file:\n",
    "                    G = pickle.load(file)\n",
    "                    # 在這裡可以對讀取的資料進行處理\n",
    "                    print(f\"從 '{file_path}' 讀取到資料：{G}\")\n",
    "                    threshold = float(os.path.splitext(filename)[0])\n",
    "                    graph_dic[threshold] = G\n",
    "            except Exception as e:\n",
    "                print(f\"讀取 '{file_path}' 時發生錯誤：{e}\")\n",
    "    return graph_dic\n"
   ]
  },
  {
   "cell_type": "code",
   "execution_count": 36,
   "metadata": {},
   "outputs": [
    {
     "name": "stdout",
     "output_type": "stream",
     "text": [
      "從 './graph/train/0.47186369119518623.pickle' 讀取到資料：Graph with 4330 nodes and 490080 edges\n",
      "從 './graph/train/0.19474564382498114.pickle' 讀取到資料：Graph with 4330 nodes and 1907849 edges\n",
      "從 './graph/train/0.8721453151743713.pickle' 讀取到資料：Graph with 4330 nodes and 26120 edges\n",
      "從 './graph/train/0.6258181619564113.pickle' 讀取到資料：Graph with 4330 nodes and 192271 edges\n",
      "從 './graph/train/0.4102819028906962.pickle' 讀取到資料：Graph with 4330 nodes and 684059 edges\n",
      "從 './graph/train/0.7797726327176363.pickle' 讀取到資料：Graph with 4330 nodes and 63636 edges\n",
      "從 './graph/train/0.6873999502609013.pickle' 讀取到資料：Graph with 4330 nodes and 126263 edges\n",
      "從 './graph/train/0.1023729613682461.pickle' 讀取到資料：Graph with 4330 nodes and 2809101 edges\n",
      "從 './graph/train/0.5334454794996762.pickle' 讀取到資料：Graph with 4330 nodes and 344253 edges\n",
      "從 './graph/train/0.3487001145862062.pickle' 讀取到資料：Graph with 4330 nodes and 936590 edges\n",
      "從 './graph/train/0.3179092204339612.pickle' 讀取到資料：Graph with 4330 nodes and 1088491 edges\n",
      "從 './graph/train/0.13316385552049112.pickle' 讀取到資料：Graph with 4330 nodes and 2475967 edges\n",
      "從 './graph/train/0.2871183262817162.pickle' 讀取到資料：Graph with 4330 nodes and 1259835 edges\n",
      "從 './graph/train/0.8105635268698813.pickle' 讀取到資料：Graph with 4330 nodes and 49194 edges\n",
      "從 './graph/train/0.7489817385653913.pickle' 讀取到資料：Graph with 4330 nodes and 80786 edges\n",
      "從 './graph/train/-0.02079061524073395.pickle' 讀取到資料：Graph with 4330 nodes and 4618019 edges\n",
      "從 './graph/train/0.04079117306375607.pickle' 讀取到資料：Graph with 4330 nodes and 3605196 edges\n",
      "從 './graph/train/0.4410727970429412.pickle' 讀取到資料：Graph with 4330 nodes and 581003 edges\n",
      "從 './graph/train/0.22553653797722614.pickle' 讀取到資料：Graph with 4330 nodes and 1667222 edges\n",
      "從 './graph/train/0.6566090561086563.pickle' 讀取到資料：Graph with 4330 nodes and 156354 edges\n",
      "從 './graph/train/0.5950272678041663.pickle' 讀取到資料：Graph with 4330 nodes and 234871 edges\n",
      "從 './graph/train/0.3794910087384512.pickle' 讀取到資料：Graph with 4330 nodes and 802096 edges\n",
      "從 './graph/train/0.010000278911511062.pickle' 讀取到資料：Graph with 4330 nodes and 4080304 edges\n",
      "從 './graph/train/0.8413544210221263.pickle' 讀取到資料：Graph with 4330 nodes and 36652 edges\n",
      "從 './graph/train/0.5642363736519213.pickle' 讀取到資料：Graph with 4330 nodes and 285673 edges\n",
      "從 './graph/train/0.2563274321294712.pickle' 讀取到資料：Graph with 4330 nodes and 1451580 edges\n",
      "從 './graph/train/0.16395474967273613.pickle' 讀取到資料：Graph with 4330 nodes and 2176498 edges\n",
      "從 './graph/train/0.07158206721600109.pickle' 讀取到資料：Graph with 4330 nodes and 3183859 edges\n",
      "從 './graph/train/0.7181908444131463.pickle' 讀取到資料：Graph with 4330 nodes and 101280 edges\n",
      "從 './graph/train/0.5026545853474312.pickle' 讀取到資料：Graph with 4330 nodes and 411939 edges\n",
      "從 './graph/train/0.9029362093266163.pickle' 讀取到資料：Graph with 4330 nodes and 16543 edges\n",
      "從 './graph/test/0.47186369119518623.pickle' 讀取到資料：Graph with 1082 nodes and 31406 edges\n",
      "從 './graph/test/0.19474564382498114.pickle' 讀取到資料：Graph with 1082 nodes and 119850 edges\n",
      "從 './graph/test/0.8721453151743713.pickle' 讀取到資料：Graph with 1082 nodes and 1815 edges\n",
      "從 './graph/test/0.6258181619564113.pickle' 讀取到資料：Graph with 1082 nodes and 12452 edges\n",
      "從 './graph/test/0.4102819028906962.pickle' 讀取到資料：Graph with 1082 nodes and 43528 edges\n",
      "從 './graph/test/0.7797726327176363.pickle' 讀取到資料：Graph with 1082 nodes and 4176 edges\n",
      "從 './graph/test/0.6873999502609013.pickle' 讀取到資料：Graph with 1082 nodes and 8157 edges\n",
      "從 './graph/test/0.1023729613682461.pickle' 讀取到資料：Graph with 1082 nodes and 175633 edges\n",
      "從 './graph/test/0.5334454794996762.pickle' 讀取到資料：Graph with 1082 nodes and 22038 edges\n",
      "從 './graph/test/0.3487001145862062.pickle' 讀取到資料：Graph with 1082 nodes and 59425 edges\n",
      "從 './graph/test/0.3179092204339612.pickle' 讀取到資料：Graph with 1082 nodes and 68767 edges\n",
      "從 './graph/test/0.13316385552049112.pickle' 讀取到資料：Graph with 1082 nodes and 155009 edges\n",
      "從 './graph/test/0.2871183262817162.pickle' 讀取到資料：Graph with 1082 nodes and 79504 edges\n",
      "從 './graph/test/0.8105635268698813.pickle' 讀取到資料：Graph with 1082 nodes and 3175 edges\n",
      "從 './graph/test/0.7489817385653913.pickle' 讀取到資料：Graph with 1082 nodes and 5248 edges\n",
      "從 './graph/test/-0.02079061524073395.pickle' 讀取到資料：Graph with 1082 nodes and 284430 edges\n",
      "從 './graph/test/0.04079117306375607.pickle' 讀取到資料：Graph with 1082 nodes and 224669 edges\n",
      "從 './graph/test/0.4410727970429412.pickle' 讀取到資料：Graph with 1082 nodes and 37028 edges\n",
      "從 './graph/test/0.22553653797722614.pickle' 讀取到資料：Graph with 1082 nodes and 105040 edges\n",
      "從 './graph/test/0.6566090561086563.pickle' 讀取到資料：Graph with 1082 nodes and 10108 edges\n",
      "從 './graph/test/0.5950272678041663.pickle' 讀取到資料：Graph with 1082 nodes and 15200 edges\n",
      "從 './graph/test/0.3794910087384512.pickle' 讀取到資料：Graph with 1082 nodes and 50958 edges\n",
      "從 './graph/test/0.010000278911511062.pickle' 讀取到資料：Graph with 1082 nodes and 252751 edges\n",
      "從 './graph/test/0.8413544210221263.pickle' 讀取到資料：Graph with 1082 nodes and 2430 edges\n",
      "從 './graph/test/0.5642363736519213.pickle' 讀取到資料：Graph with 1082 nodes and 18297 edges\n",
      "從 './graph/test/0.2563274321294712.pickle' 讀取到資料：Graph with 1082 nodes and 91560 edges\n",
      "從 './graph/test/0.16395474967273613.pickle' 讀取到資料：Graph with 1082 nodes and 136599 edges\n",
      "從 './graph/test/0.07158206721600109.pickle' 讀取到資料：Graph with 1082 nodes and 198801 edges\n",
      "從 './graph/test/0.7181908444131463.pickle' 讀取到資料：Graph with 1082 nodes and 6519 edges\n",
      "從 './graph/test/0.5026545853474312.pickle' 讀取到資料：Graph with 1082 nodes and 26478 edges\n",
      "從 './graph/test/0.9029362093266163.pickle' 讀取到資料：Graph with 1082 nodes and 1237 edges\n"
     ]
    }
   ],
   "source": [
    "graph_dic = read_graph(\"train\")\n",
    "graph_dic_test = read_graph(\"test\")"
   ]
  },
  {
   "cell_type": "code",
   "execution_count": 37,
   "metadata": {},
   "outputs": [
    {
     "name": "stdout",
     "output_type": "stream",
     "text": [
      "{0.47186369119518623: <networkx.classes.graph.Graph object at 0x7f4cf069b100>, 0.19474564382498114: <networkx.classes.graph.Graph object at 0x7f4cf069bfd0>, 0.8721453151743713: <networkx.classes.graph.Graph object at 0x7f504085bf40>, 0.6258181619564113: <networkx.classes.graph.Graph object at 0x7f5042ca6ee0>, 0.4102819028906962: <networkx.classes.graph.Graph object at 0x7f4cf069b160>, 0.7797726327176363: <networkx.classes.graph.Graph object at 0x7f4cf0629910>, 0.6873999502609013: <networkx.classes.graph.Graph object at 0x7f4cf0629a30>, 0.1023729613682461: <networkx.classes.graph.Graph object at 0x7f4cf0629df0>, 0.5334454794996762: <networkx.classes.graph.Graph object at 0x7f4cf06299a0>, 0.3487001145862062: <networkx.classes.graph.Graph object at 0x7f4cf0629760>, 0.3179092204339612: <networkx.classes.graph.Graph object at 0x7f4cf0629670>, 0.13316385552049112: <networkx.classes.graph.Graph object at 0x7f4cf0629550>, 0.2871183262817162: <networkx.classes.graph.Graph object at 0x7f4cf06294f0>, 0.8105635268698813: <networkx.classes.graph.Graph object at 0x7f4cf0629430>, 0.7489817385653913: <networkx.classes.graph.Graph object at 0x7f4cf06292e0>, -0.02079061524073395: <networkx.classes.graph.Graph object at 0x7f4cf06290d0>, 0.04079117306375607: <networkx.classes.graph.Graph object at 0x7f4cfbfa1df0>, 0.4410727970429412: <networkx.classes.graph.Graph object at 0x7f4cfbfa12b0>, 0.22553653797722614: <networkx.classes.graph.Graph object at 0x7f4cfbfa1d90>, 0.6566090561086563: <networkx.classes.graph.Graph object at 0x7f4cfbfa19a0>, 0.5950272678041663: <networkx.classes.graph.Graph object at 0x7f5040860d90>, 0.3794910087384512: <networkx.classes.graph.Graph object at 0x7f5040860f70>, 0.010000278911511062: <networkx.classes.graph.Graph object at 0x7f5040860eb0>, 0.8413544210221263: <networkx.classes.graph.Graph object at 0x7f50408607c0>, 0.5642363736519213: <networkx.classes.graph.Graph object at 0x7f5040860760>, 0.2563274321294712: <networkx.classes.graph.Graph object at 0x7f5040860880>, 0.16395474967273613: <networkx.classes.graph.Graph object at 0x7f50408601c0>, 0.07158206721600109: <networkx.classes.graph.Graph object at 0x7f5040860cd0>, 0.7181908444131463: <networkx.classes.graph.Graph object at 0x7f4cf086df70>, 0.5026545853474312: <networkx.classes.graph.Graph object at 0x7f4cf086d4f0>, 0.9029362093266163: <networkx.classes.graph.Graph object at 0x7f4cf086d970>}\n",
      "{0.47186369119518623: <networkx.classes.graph.Graph object at 0x7f504085b2b0>, 0.19474564382498114: <networkx.classes.graph.Graph object at 0x7f4cf086d610>, 0.8721453151743713: <networkx.classes.graph.Graph object at 0x7f4cf086de80>, 0.6258181619564113: <networkx.classes.graph.Graph object at 0x7f4cf086d550>, 0.4102819028906962: <networkx.classes.graph.Graph object at 0x7f4cf086d940>, 0.7797726327176363: <networkx.classes.graph.Graph object at 0x7f4cf086dc40>, 0.6873999502609013: <networkx.classes.graph.Graph object at 0x7f4cf086deb0>, 0.1023729613682461: <networkx.classes.graph.Graph object at 0x7f4cf086dbe0>, 0.5334454794996762: <networkx.classes.graph.Graph object at 0x7f4cf086d0d0>, 0.3487001145862062: <networkx.classes.graph.Graph object at 0x7f4cf086db80>, 0.3179092204339612: <networkx.classes.graph.Graph object at 0x7f4cf086da90>, 0.13316385552049112: <networkx.classes.graph.Graph object at 0x7f4cf086d280>, 0.2871183262817162: <networkx.classes.graph.Graph object at 0x7f4bd29ac130>, 0.8105635268698813: <networkx.classes.graph.Graph object at 0x7f4bd29ac1c0>, 0.7489817385653913: <networkx.classes.graph.Graph object at 0x7f4bd29ac280>, -0.02079061524073395: <networkx.classes.graph.Graph object at 0x7f4bd29ac340>, 0.04079117306375607: <networkx.classes.graph.Graph object at 0x7f4bd29ac400>, 0.4410727970429412: <networkx.classes.graph.Graph object at 0x7f4bd29ac4c0>, 0.22553653797722614: <networkx.classes.graph.Graph object at 0x7f4bd29ac580>, 0.6566090561086563: <networkx.classes.graph.Graph object at 0x7f4bd29ac6a0>, 0.5950272678041663: <networkx.classes.graph.Graph object at 0x7f4bd29ac700>, 0.3794910087384512: <networkx.classes.graph.Graph object at 0x7f4bd29ac7c0>, 0.010000278911511062: <networkx.classes.graph.Graph object at 0x7f4bd29ac880>, 0.8413544210221263: <networkx.classes.graph.Graph object at 0x7f4bd29ac940>, 0.5642363736519213: <networkx.classes.graph.Graph object at 0x7f4bd29aca00>, 0.2563274321294712: <networkx.classes.graph.Graph object at 0x7f4bd29acac0>, 0.16395474967273613: <networkx.classes.graph.Graph object at 0x7f4bd29acb80>, 0.07158206721600109: <networkx.classes.graph.Graph object at 0x7f4bd29acc40>, 0.7181908444131463: <networkx.classes.graph.Graph object at 0x7f4bd29acd60>, 0.5026545853474312: <networkx.classes.graph.Graph object at 0x7f4bd29acdc0>, 0.9029362093266163: <networkx.classes.graph.Graph object at 0x7f4bd29ace80>}\n"
     ]
    }
   ],
   "source": [
    "print(graph_dic)\n",
    "print(graph_dic_test)"
   ]
  },
  {
   "cell_type": "code",
   "execution_count": 38,
   "metadata": {},
   "outputs": [
    {
     "name": "stderr",
     "output_type": "stream",
     "text": [
      "/home/p76121194/miniconda3/envs/dl_project/lib/python3.9/site-packages/tqdm/auto.py:21: TqdmWarning: IProgress not found. Please update jupyter and ipywidgets. See https://ipywidgets.readthedocs.io/en/stable/user_install.html\n",
      "  from .autonotebook import tqdm as notebook_tqdm\n"
     ]
    }
   ],
   "source": [
    "# networkx graph 轉pytorch Data\n",
    "import torch\n",
    "from torch_geometric.data import Data\n",
    "from torch_geometric.nn import GATConv\n",
    "\n",
    "def G_to_data(graph_dic):\n",
    "    all_data = []\n",
    "    for threshold in tqdm(sorted(graph_dic.keys())):\n",
    "        G = graph_dic[threshold]\n",
    "        x, y, edge_index = [], [], []\n",
    "        for node in G.nodes():\n",
    "            x.append(list(G.nodes[node].values())[:-1])\n",
    "            y.append(list(G.nodes[node].values())[-1])\n",
    "    \n",
    "        x = torch.tensor(x, dtype=torch.float32)\n",
    "        y = torch.tensor(y, dtype=torch.long)\n",
    "        edge_index = torch.tensor(list(G.edges)).t().contiguous()\n",
    "    \n",
    "        data = Data(x=x, edge_index=edge_index, y=y)\n",
    "        data['threshold'] = threshold\n",
    "        all_data.append(data)\n",
    "    return all_data"
   ]
  },
  {
   "cell_type": "code",
   "execution_count": 39,
   "metadata": {},
   "outputs": [
    {
     "name": "stderr",
     "output_type": "stream",
     "text": [
      "  0%|          | 0/31 [00:00<?, ?it/s]/tmp/ipykernel_74295/572078566.py:16: DeprecationWarning: an integer is required (got type float).  Implicit conversion to integers using __int__ is deprecated, and may be removed in a future version of Python.\n",
      "  y = torch.tensor(y, dtype=torch.long)\n",
      "100%|██████████| 31/31 [00:21<00:00,  1.42it/s]\n",
      "100%|██████████| 31/31 [00:01<00:00, 30.95it/s]\n"
     ]
    }
   ],
   "source": [
    "all_data = G_to_data(graph_dic)\n",
    "all_data_test = G_to_data(graph_dic_test)"
   ]
  },
  {
   "cell_type": "code",
   "execution_count": 40,
   "metadata": {},
   "outputs": [
    {
     "name": "stdout",
     "output_type": "stream",
     "text": [
      "[Data(x=[4330, 30], edge_index=[2, 4618019], y=[4330], threshold=-0.02079061524073395), Data(x=[4330, 30], edge_index=[2, 4080304], y=[4330], threshold=0.010000278911511062), Data(x=[4330, 30], edge_index=[2, 3605196], y=[4330], threshold=0.04079117306375607), Data(x=[4330, 30], edge_index=[2, 3183859], y=[4330], threshold=0.07158206721600109), Data(x=[4330, 30], edge_index=[2, 2809101], y=[4330], threshold=0.1023729613682461), Data(x=[4330, 30], edge_index=[2, 2475967], y=[4330], threshold=0.13316385552049112), Data(x=[4330, 30], edge_index=[2, 2176498], y=[4330], threshold=0.16395474967273613), Data(x=[4330, 30], edge_index=[2, 1907849], y=[4330], threshold=0.19474564382498114), Data(x=[4330, 30], edge_index=[2, 1667222], y=[4330], threshold=0.22553653797722614), Data(x=[4330, 30], edge_index=[2, 1451580], y=[4330], threshold=0.2563274321294712), Data(x=[4330, 30], edge_index=[2, 1259835], y=[4330], threshold=0.2871183262817162), Data(x=[4330, 30], edge_index=[2, 1088491], y=[4330], threshold=0.3179092204339612), Data(x=[4330, 30], edge_index=[2, 936590], y=[4330], threshold=0.3487001145862062), Data(x=[4330, 30], edge_index=[2, 802096], y=[4330], threshold=0.3794910087384512), Data(x=[4330, 30], edge_index=[2, 684059], y=[4330], threshold=0.4102819028906962), Data(x=[4330, 30], edge_index=[2, 581003], y=[4330], threshold=0.4410727970429412), Data(x=[4330, 30], edge_index=[2, 490080], y=[4330], threshold=0.47186369119518623), Data(x=[4330, 30], edge_index=[2, 411939], y=[4330], threshold=0.5026545853474312), Data(x=[4330, 30], edge_index=[2, 344253], y=[4330], threshold=0.5334454794996762), Data(x=[4330, 30], edge_index=[2, 285673], y=[4330], threshold=0.5642363736519213), Data(x=[4330, 30], edge_index=[2, 234871], y=[4330], threshold=0.5950272678041663), Data(x=[4330, 30], edge_index=[2, 192271], y=[4330], threshold=0.6258181619564113), Data(x=[4330, 30], edge_index=[2, 156354], y=[4330], threshold=0.6566090561086563), Data(x=[4330, 30], edge_index=[2, 126263], y=[4330], threshold=0.6873999502609013), Data(x=[4330, 30], edge_index=[2, 101280], y=[4330], threshold=0.7181908444131463), Data(x=[4330, 30], edge_index=[2, 80786], y=[4330], threshold=0.7489817385653913), Data(x=[4330, 30], edge_index=[2, 63636], y=[4330], threshold=0.7797726327176363), Data(x=[4330, 30], edge_index=[2, 49194], y=[4330], threshold=0.8105635268698813), Data(x=[4330, 30], edge_index=[2, 36652], y=[4330], threshold=0.8413544210221263), Data(x=[4330, 30], edge_index=[2, 26120], y=[4330], threshold=0.8721453151743713), Data(x=[4330, 30], edge_index=[2, 16543], y=[4330], threshold=0.9029362093266163)]\n"
     ]
    }
   ],
   "source": [
    "print(all_data)"
   ]
  },
  {
   "cell_type": "code",
   "execution_count": 41,
   "metadata": {},
   "outputs": [],
   "source": [
    "# gat\n",
    "from torch_geometric.nn import GATConv\n",
    "import torch.nn.functional as F\n",
    "class Encoder_GAT(torch.nn.Module):\n",
    "    def __init__(self, num_heads, input_dim, hidden_dim, output_dim, num_layers):\n",
    "        super(Encoder_GAT, self).__init__()\n",
    "        self.num_layers = num_layers\n",
    "        self.convs = torch.nn.ModuleList()\n",
    "        for i in range(self.num_layers-1):\n",
    "            if i:\n",
    "                conv = GATConv(hidden_dim * num_heads, hidden_dim, heads=num_heads)\n",
    "            else:\n",
    "                conv = GATConv(input_dim, hidden_dim, heads=num_heads)\n",
    "\n",
    "            self.convs.append(conv)\n",
    "            \n",
    "        if self.num_layers ==1:\n",
    "            conv = GATConv(input_dim, output_dim)\n",
    "            self.convs.append(conv)\n",
    "        elif self.num_layers >1:\n",
    "            conv = GATConv(hidden_dim * num_heads, output_dim)\n",
    "            self.convs.append(conv)\n",
    "\n",
    "    def forward(self, x, edge_index):\n",
    "        xs = []\n",
    "        for i in range(self.num_layers):\n",
    "            x = F.relu(self.convs[i](x, edge_index))\n",
    "        return x"
   ]
  },
  {
   "cell_type": "code",
   "execution_count": 42,
   "metadata": {},
   "outputs": [],
   "source": [
    "# model (gat + linear)\n",
    "import torch.nn as nn\n",
    "import torch.nn.functional as F\n",
    "class myGNN(nn.Module):\n",
    "    def __init__(self, enc_num_heads, enc_input_dim, enc_hidden_dim, enc_num_layers, linear_output_dim):\n",
    "        super(myGNN, self).__init__()\n",
    "        # GAT(input、output大小一樣)\n",
    "        self.encoder_neighbor = Encoder_GAT(enc_num_heads, enc_input_dim, enc_hidden_dim, enc_input_dim, enc_num_layers)\n",
    "        # linear層\n",
    "        self.proj_head_neighbor = nn.Linear(enc_input_dim, linear_output_dim)\n",
    "        self.proj_head_ego = nn.Linear(enc_input_dim, linear_output_dim)\n",
    "\n",
    "        self.init_emb()\n",
    "    # embedding初始化\n",
    "    def init_emb(self):\n",
    "        for m in self.modules():\n",
    "            if isinstance(m, nn.Linear):\n",
    "                torch.nn.init.xavier_uniform_(m.weight.data)\n",
    "                # BIASE初始化為0\n",
    "                if m.bias is not None:\n",
    "                    m.bias.data.fill_(0.0)\n",
    "    @staticmethod\n",
    "    def negative_sample(h_ego, h_neighbor):\n",
    "        # 返回一个0~n-1的數組，隨機打散\n",
    "        perm = torch.randperm(h_ego.shape[0])\n",
    "        # 打亂，作ego-ego negative\n",
    "        h_ego_neg = h_ego[perm]\n",
    "        # 打亂，作ego-neigbor negative\n",
    "        h_neighbor_neg = h_neighbor[perm]\n",
    "        return h_ego_neg, h_neighbor_neg\n",
    "\n",
    "    @staticmethod\n",
    "    def discriminator(x1, x2):\n",
    "        return -1 * F.cosine_similarity(x1, x2, dim=1).unsqueeze(0)\n",
    "\n",
    "    def forward(self, x, edge_index):\n",
    "        # GAT\n",
    "        h_neighbor = self.encoder_neighbor(x, edge_index)\n",
    "        h_neighbor = self.proj_head_neighbor(h_neighbor)\n",
    "        # linear\n",
    "        h_ego = self.proj_head_ego(x)\n",
    "\n",
    "        return h_ego, h_neighbor"
   ]
  },
  {
   "cell_type": "code",
   "execution_count": 44,
   "metadata": {},
   "outputs": [],
   "source": [
    "# train & eval model\n",
    "import time\n",
    "from sklearn.metrics import roc_auc_score\n",
    "import json\n",
    "import copy\n",
    "import os\n",
    "import numpy as np\n",
    "import torch\n",
    "import pyod\n",
    "\n",
    "def rescale(x):\n",
    "    return ((x + 1) / 2)*(1-(2e-06)) + 1e-06\n",
    "\n",
    "\n",
    "def train_model(args, data, model, optimizer, loss_function):\n",
    "    stats = {\n",
    "        \"best_loss\": 1e9,\n",
    "        \"best_epoch\": -1,\n",
    "    }\n",
    "    model.train()\n",
    "\n",
    "    label_ones =  torch.ones(1, data.x.shape[0]).to(args[\"device\"])\n",
    "    label_zeros = torch.zeros(1, data.x.shape[0]).to(args[\"device\"])\n",
    "\n",
    "    for epoch in tqdm(range(args['num_epoch'])):\n",
    "        optimizer.zero_grad()\n",
    "        data = data.to(args['device'])\n",
    "        # forward(gat+linear)\n",
    "        h_ego, h_neighbor = model(data.x, data.edge_index)\n",
    "        h_ego_neg, h_neighbor_neg  = model.negative_sample(h_ego, h_neighbor)\n",
    "        # 算 -c\n",
    "        c_neighbor_pos = model.discriminator(h_ego, h_neighbor)\n",
    "        c_neighbor_neg = model.discriminator(h_ego, h_neighbor_neg)\n",
    "        c_ego_neg = model.discriminator(h_ego, h_ego_neg)\n",
    "        # rescal(x) = (x-(-1)) / 2，使介於0~1(原介於-1~1)\n",
    "        score_pos = rescale(c_neighbor_pos)\n",
    "        score_aug = rescale(c_neighbor_neg)\n",
    "        score_nod = rescale(c_ego_neg)\n",
    "        \n",
    "        # BCE loss\n",
    "        # ego-neighbor postive, ego-neighbor negative, ego-ego negative\n",
    "        loss_pos = loss_function(score_pos, label_zeros)\n",
    "        loss_aug = loss_function(score_aug, label_ones)\n",
    "        loss_nod = loss_function(score_nod, label_ones)\n",
    "        \n",
    "        loss_sum = loss_pos + args['alpha'] * loss_aug  + args['gamma'] * loss_nod\n",
    "\n",
    "        loss_sum.backward()\n",
    "        # 只用postive判斷好壞\n",
    "        if loss_pos < stats[\"best_loss\"]:\n",
    "            stats[\"best_loss\"] = loss_pos.item()\n",
    "            stats[\"best_epoch\"] = epoch\n",
    "            torch.save(model.state_dict(), args['state_path'])\n",
    "        optimizer.step()\n",
    "\n",
    "        # if epoch % 100 ==0:\n",
    "        #     eval_model(args, data, model)\n",
    "\n",
    "\n",
    "    return stats\n",
    "\n",
    "def eval_model(args, data, model):\n",
    "    model.eval()\n",
    "    with torch.no_grad():\n",
    "        data = data.to(args[\"device\"])\n",
    "        h_ego, h_neighbor = model(data.x, data.edge_index)\n",
    "        c_neighbor_pos = model.discriminator(h_ego, h_neighbor)\n",
    "        \n",
    "        y_true = (data.y).detach().cpu().tolist()\n",
    "        y_score = c_neighbor_pos.squeeze().detach().cpu().tolist()\n",
    "        auc = roc_auc_score(y_true, y_score)\n",
    "        precision_n_score = pyod.utils.utility.precision_n_scores(y_true, y_score, n=None)\n",
    "        \n",
    "    return auc, precision_n_score\n"
   ]
  },
  {
   "cell_type": "code",
   "execution_count": 45,
   "metadata": {},
   "outputs": [],
   "source": [
    "# run\n",
    "import random\n",
    "\n",
    "def set_random_seeds(seed):\n",
    "    np.random.seed(seed)\n",
    "    torch.manual_seed(seed)\n",
    "    torch.cuda.manual_seed(seed)\n",
    "    torch.cuda.manual_seed_all(seed)\n",
    "    random.seed(seed)\n",
    "    os.environ['PYTHONHASHSEED'] = str(seed)\n",
    "    torch.backends.cudnn.deterministic = True\n",
    "    torch.backends.cudnn.benchmark = False\n",
    "\n",
    "def run_experiment(args, data_train, data_test):\n",
    "    set_random_seeds(args['seed'])\n",
    "    # Create model\n",
    "    model = myGNN(args['enc_num_heads'], args['enc_input_dim'], args['enc_hidden_dim'],  args['enc_num_layers'], args[\"linear_output_dim\"])\n",
    "    model.to(args['device'])\n",
    "    optimizer = torch.optim.Adam(model.parameters(),\n",
    "                                 lr=args['lr'],\n",
    "                                 weight_decay=args['weight_decay'])\n",
    "    loss_function = torch.nn.BCELoss()\n",
    "    # train\n",
    "    stats = train_model(\n",
    "        args, data, model, optimizer, loss_function\n",
    "    )\n",
    "    # eval\n",
    "    model.load_state_dict(torch.load(args[\"state_path\"]))\n",
    "    auc, precision_n_score = eval_model(args, data_test, model)\n",
    "    stats[\"AUC\"] = auc\n",
    "    stats[\"Precision@n\"] = precision_n_score\n",
    "\n",
    "    return model, stats"
   ]
  },
  {
   "cell_type": "code",
   "execution_count": 46,
   "metadata": {},
   "outputs": [],
   "source": [
    "# 參數\n",
    "args = {\"lr\": 5e-4, \n",
    "        \"alpha\": 0.3, \n",
    "        \"gamma\": 0.4, \n",
    "        \"state_path\": \"model.pkl\", \n",
    "        \"device\": \"cuda:0\", \n",
    "        \"seed\": 1, \n",
    "        \"num_epoch\": 500, \n",
    "        \"weight_decay\": 0.0, \n",
    "        \"enc_num_heads\": 3, \n",
    "        \"enc_input_dim\":all_data[0].x.shape[1], \n",
    "        \"enc_hidden_dim\": 32, \n",
    "        \"linear_output_dim\": 64,\n",
    "        \"enc_num_layers\":1,\n",
    "       }"
   ]
  },
  {
   "cell_type": "code",
   "execution_count": 47,
   "metadata": {},
   "outputs": [
    {
     "name": "stdout",
     "output_type": "stream",
     "text": [
      "----------threshod = -0.02079061524073395-----------------\n"
     ]
    },
    {
     "name": "stderr",
     "output_type": "stream",
     "text": [
      "100%|██████████| 500/500 [00:12<00:00, 41.17it/s]\n"
     ]
    },
    {
     "name": "stdout",
     "output_type": "stream",
     "text": [
      "----------threshod = 0.010000278911511062-----------------\n"
     ]
    },
    {
     "name": "stderr",
     "output_type": "stream",
     "text": [
      "100%|██████████| 500/500 [00:11<00:00, 44.71it/s]\n"
     ]
    },
    {
     "name": "stdout",
     "output_type": "stream",
     "text": [
      "----------threshod = 0.04079117306375607-----------------\n"
     ]
    },
    {
     "name": "stderr",
     "output_type": "stream",
     "text": [
      "100%|██████████| 500/500 [00:09<00:00, 50.27it/s]\n"
     ]
    },
    {
     "name": "stdout",
     "output_type": "stream",
     "text": [
      "----------threshod = 0.07158206721600109-----------------\n"
     ]
    },
    {
     "name": "stderr",
     "output_type": "stream",
     "text": [
      "100%|██████████| 500/500 [00:09<00:00, 52.62it/s]\n"
     ]
    },
    {
     "name": "stdout",
     "output_type": "stream",
     "text": [
      "----------threshod = 0.1023729613682461-----------------\n"
     ]
    },
    {
     "name": "stderr",
     "output_type": "stream",
     "text": [
      "100%|██████████| 500/500 [00:08<00:00, 56.53it/s]\n"
     ]
    },
    {
     "name": "stdout",
     "output_type": "stream",
     "text": [
      "----------threshod = 0.13316385552049112-----------------\n"
     ]
    },
    {
     "name": "stderr",
     "output_type": "stream",
     "text": [
      "100%|██████████| 500/500 [00:08<00:00, 60.69it/s]\n"
     ]
    },
    {
     "name": "stdout",
     "output_type": "stream",
     "text": [
      "----------threshod = 0.16395474967273613-----------------\n"
     ]
    },
    {
     "name": "stderr",
     "output_type": "stream",
     "text": [
      "100%|██████████| 500/500 [00:07<00:00, 63.86it/s]\n"
     ]
    },
    {
     "name": "stdout",
     "output_type": "stream",
     "text": [
      "----------threshod = 0.19474564382498114-----------------\n"
     ]
    },
    {
     "name": "stderr",
     "output_type": "stream",
     "text": [
      "100%|██████████| 500/500 [00:06<00:00, 71.70it/s]\n"
     ]
    },
    {
     "name": "stdout",
     "output_type": "stream",
     "text": [
      "----------threshod = 0.22553653797722614-----------------\n"
     ]
    },
    {
     "name": "stderr",
     "output_type": "stream",
     "text": [
      "100%|██████████| 500/500 [00:06<00:00, 76.59it/s]\n"
     ]
    },
    {
     "name": "stdout",
     "output_type": "stream",
     "text": [
      "----------threshod = 0.2563274321294712-----------------\n"
     ]
    },
    {
     "name": "stderr",
     "output_type": "stream",
     "text": [
      "100%|██████████| 500/500 [00:05<00:00, 83.71it/s]\n"
     ]
    },
    {
     "name": "stdout",
     "output_type": "stream",
     "text": [
      "----------threshod = 0.2871183262817162-----------------\n"
     ]
    },
    {
     "name": "stderr",
     "output_type": "stream",
     "text": [
      "100%|██████████| 500/500 [00:05<00:00, 89.60it/s]\n"
     ]
    },
    {
     "name": "stdout",
     "output_type": "stream",
     "text": [
      "----------threshod = 0.3179092204339612-----------------\n"
     ]
    },
    {
     "name": "stderr",
     "output_type": "stream",
     "text": [
      "100%|██████████| 500/500 [00:05<00:00, 94.54it/s] \n"
     ]
    },
    {
     "name": "stdout",
     "output_type": "stream",
     "text": [
      "----------threshod = 0.3487001145862062-----------------\n"
     ]
    },
    {
     "name": "stderr",
     "output_type": "stream",
     "text": [
      "100%|██████████| 500/500 [00:04<00:00, 101.27it/s]\n"
     ]
    },
    {
     "name": "stdout",
     "output_type": "stream",
     "text": [
      "----------threshod = 0.3794910087384512-----------------\n"
     ]
    },
    {
     "name": "stderr",
     "output_type": "stream",
     "text": [
      "100%|██████████| 500/500 [00:04<00:00, 105.61it/s]\n"
     ]
    },
    {
     "name": "stdout",
     "output_type": "stream",
     "text": [
      "----------threshod = 0.4102819028906962-----------------\n"
     ]
    },
    {
     "name": "stderr",
     "output_type": "stream",
     "text": [
      "100%|██████████| 500/500 [00:05<00:00, 98.26it/s] \n"
     ]
    },
    {
     "name": "stdout",
     "output_type": "stream",
     "text": [
      "----------threshod = 0.4410727970429412-----------------\n"
     ]
    },
    {
     "name": "stderr",
     "output_type": "stream",
     "text": [
      "100%|██████████| 500/500 [00:05<00:00, 97.81it/s] \n"
     ]
    },
    {
     "name": "stdout",
     "output_type": "stream",
     "text": [
      "----------threshod = 0.47186369119518623-----------------\n"
     ]
    },
    {
     "name": "stderr",
     "output_type": "stream",
     "text": [
      "100%|██████████| 500/500 [00:04<00:00, 100.58it/s]\n"
     ]
    },
    {
     "name": "stdout",
     "output_type": "stream",
     "text": [
      "----------threshod = 0.5026545853474312-----------------\n"
     ]
    },
    {
     "name": "stderr",
     "output_type": "stream",
     "text": [
      "100%|██████████| 500/500 [00:04<00:00, 114.56it/s]\n"
     ]
    },
    {
     "name": "stdout",
     "output_type": "stream",
     "text": [
      "----------threshod = 0.5334454794996762-----------------\n"
     ]
    },
    {
     "name": "stderr",
     "output_type": "stream",
     "text": [
      "100%|██████████| 500/500 [00:04<00:00, 106.46it/s]\n"
     ]
    },
    {
     "name": "stdout",
     "output_type": "stream",
     "text": [
      "----------threshod = 0.5642363736519213-----------------\n"
     ]
    },
    {
     "name": "stderr",
     "output_type": "stream",
     "text": [
      "100%|██████████| 500/500 [00:04<00:00, 115.61it/s]\n"
     ]
    },
    {
     "name": "stdout",
     "output_type": "stream",
     "text": [
      "----------threshod = 0.5950272678041663-----------------\n"
     ]
    },
    {
     "name": "stderr",
     "output_type": "stream",
     "text": [
      "100%|██████████| 500/500 [00:04<00:00, 115.14it/s]\n"
     ]
    },
    {
     "name": "stdout",
     "output_type": "stream",
     "text": [
      "----------threshod = 0.6258181619564113-----------------\n"
     ]
    },
    {
     "name": "stderr",
     "output_type": "stream",
     "text": [
      "100%|██████████| 500/500 [00:04<00:00, 115.93it/s]\n"
     ]
    },
    {
     "name": "stdout",
     "output_type": "stream",
     "text": [
      "----------threshod = 0.6566090561086563-----------------\n"
     ]
    },
    {
     "name": "stderr",
     "output_type": "stream",
     "text": [
      "100%|██████████| 500/500 [00:04<00:00, 111.05it/s]\n"
     ]
    },
    {
     "name": "stdout",
     "output_type": "stream",
     "text": [
      "----------threshod = 0.6873999502609013-----------------\n"
     ]
    },
    {
     "name": "stderr",
     "output_type": "stream",
     "text": [
      "100%|██████████| 500/500 [00:04<00:00, 115.77it/s]\n"
     ]
    },
    {
     "name": "stdout",
     "output_type": "stream",
     "text": [
      "----------threshod = 0.7181908444131463-----------------\n"
     ]
    },
    {
     "name": "stderr",
     "output_type": "stream",
     "text": [
      "100%|██████████| 500/500 [00:04<00:00, 108.99it/s]\n"
     ]
    },
    {
     "name": "stdout",
     "output_type": "stream",
     "text": [
      "----------threshod = 0.7489817385653913-----------------\n"
     ]
    },
    {
     "name": "stderr",
     "output_type": "stream",
     "text": [
      "100%|██████████| 500/500 [00:04<00:00, 106.30it/s]\n"
     ]
    },
    {
     "name": "stdout",
     "output_type": "stream",
     "text": [
      "----------threshod = 0.7797726327176363-----------------\n"
     ]
    },
    {
     "name": "stderr",
     "output_type": "stream",
     "text": [
      "100%|██████████| 500/500 [00:04<00:00, 117.54it/s]\n"
     ]
    },
    {
     "name": "stdout",
     "output_type": "stream",
     "text": [
      "----------threshod = 0.8105635268698813-----------------\n"
     ]
    },
    {
     "name": "stderr",
     "output_type": "stream",
     "text": [
      "100%|██████████| 500/500 [00:04<00:00, 116.63it/s]\n"
     ]
    },
    {
     "name": "stdout",
     "output_type": "stream",
     "text": [
      "----------threshod = 0.8413544210221263-----------------\n"
     ]
    },
    {
     "name": "stderr",
     "output_type": "stream",
     "text": [
      "100%|██████████| 500/500 [00:04<00:00, 110.55it/s]\n"
     ]
    },
    {
     "name": "stdout",
     "output_type": "stream",
     "text": [
      "----------threshod = 0.8721453151743713-----------------\n"
     ]
    },
    {
     "name": "stderr",
     "output_type": "stream",
     "text": [
      "100%|██████████| 500/500 [00:04<00:00, 113.72it/s]\n"
     ]
    },
    {
     "name": "stdout",
     "output_type": "stream",
     "text": [
      "----------threshod = 0.9029362093266163-----------------\n"
     ]
    },
    {
     "name": "stderr",
     "output_type": "stream",
     "text": [
      "100%|██████████| 500/500 [00:04<00:00, 113.70it/s]\n"
     ]
    }
   ],
   "source": [
    "auc_dict = {}\n",
    "precision_n_dict = {}\n",
    "for data, data_test in zip(all_data, all_data_test): \n",
    "    print(\"----------threshod = \"+str(data.threshold)+\"-----------------\")\n",
    "    model, stats = run_experiment(args, data, data_test)\n",
    "    auc_dict[data.threshold]= stats[\"AUC\"]\n",
    "    precision_n_dict[data.threshold]= stats[\"Precision@n\"]\n",
    "    "
   ]
  },
  {
   "cell_type": "code",
   "execution_count": 48,
   "metadata": {},
   "outputs": [
    {
     "name": "stdout",
     "output_type": "stream",
     "text": [
      "{0.5334454794996762: 0.8203703703703704, 0.5642363736519213: 0.8166666666666667, 0.5950272678041663: 0.8064814814814815, 0.6873999502609013: 0.7657407407407406, 0.3487001145862062: 0.750462962962963, 0.5026545853474312: 0.7199074074074073, 0.3794910087384512: 0.7069444444444445, 0.6258181619564113: 0.6958333333333333, 0.6566090561086563: 0.6902777777777778, 0.7181908444131463: 0.6893518518518519, 0.4102819028906962: 0.6837962962962962, 0.4410727970429412: 0.6430555555555555, -0.02079061524073395: 0.637962962962963, 0.47186369119518623: 0.6189814814814815, 0.7489817385653913: 0.6138888888888889, 0.010000278911511062: 0.6060185185185185, 0.8413544210221263: 0.5194444444444445, 0.7797726327176363: 0.5185185185185186, 0.9029362093266163: 0.5180555555555555, 0.8105635268698813: 0.5175925925925926, 0.8721453151743713: 0.5162037037037037, 0.13316385552049112: 0.5092592592592593, 0.04079117306375607: 0.5074074074074074, 0.19474564382498114: 0.5013888888888889, 0.16395474967273613: 0.4981481481481481, 0.1023729613682461: 0.48564814814814816, 0.07158206721600109: 0.461574074074074, 0.22553653797722614: 0.4310185185185185, 0.2871183262817162: 0.42685185185185187, 0.2563274321294712: 0.4222222222222222, 0.3179092204339612: 0.38796296296296295}\n",
      "{-0.02079061524073395: 0.0, 0.010000278911511062: 0.0, 0.04079117306375607: 0.0, 0.07158206721600109: 0.0, 0.1023729613682461: 0.0, 0.13316385552049112: 0.0, 0.16395474967273613: 0.0, 0.19474564382498114: 0.0, 0.22553653797722614: 0.0, 0.2563274321294712: 0.0, 0.2871183262817162: 0.0, 0.3179092204339612: 0.0, 0.3487001145862062: 0.0, 0.3794910087384512: 0.0, 0.4102819028906962: 0.0, 0.4410727970429412: 0.0, 0.47186369119518623: 0.0, 0.5026545853474312: 0.0, 0.5334454794996762: 0.0, 0.5642363736519213: 0.0, 0.5950272678041663: 0.0, 0.6258181619564113: 0.0, 0.6566090561086563: 0.0, 0.6873999502609013: 0.0, 0.7181908444131463: 0.0, 0.7489817385653913: 0.0, 0.7797726327176363: 0.0, 0.8105635268698813: 0.0, 0.8413544210221263: 0.0, 0.8721453151743713: 0.0, 0.9029362093266163: 0.0}\n"
     ]
    }
   ],
   "source": [
    "# 使用sorted函數對字典的值進行降序排列\n",
    "\n",
    "sorted_auc_dict = dict(sorted(auc_dict.items(), key=lambda item: item[1], reverse=True))\n",
    "sorted_precision_n_dict = dict(sorted(precision_n_dict.items(), key=lambda item: item[1], reverse=True))\n",
    "# 輸出排序後的字典\n",
    "print(sorted_auc_dict)\n",
    "print(sorted_precision_n_dict)"
   ]
  },
  {
   "cell_type": "code",
   "execution_count": 49,
   "metadata": {},
   "outputs": [
    {
     "data": {
      "image/png": "[encoded data removed]",
      "text/plain": [
       "<Figure size 640x480 with 1 Axes>"
      ]
     },
     "metadata": {},
     "output_type": "display_data"
    },
    {
     "data": {
      "image/png": "[encoded data removed]",
      "text/plain": [
       "<Figure size 640x480 with 1 Axes>"
      ]
     },
     "metadata": {},
     "output_type": "display_data"
    }
   ],
   "source": [
    "import matplotlib.pyplot as plt\n",
    "\n",
    "def plot_curve(data, metric_name):\n",
    "    keys = [i for i in range(31)]\n",
    "    values = list(data.values())\n",
    "    \n",
    "    plt.plot(keys, values)\n",
    "    plt.xlabel('Treshold (median + k*std.)')\n",
    "    plt.ylabel(metric_name)\n",
    "    plt.title('Threshold vs. '+metric_name)\n",
    "    # plt.grid(True)  # 加入網格線\n",
    "    plt.show()\n",
    "\n",
    "plot_curve(auc_dict, \"ROC-AUC\")\n",
    "plot_curve(precision_n_dict, \"Precision@Rank\")\n"
   ]
  },
  {
   "cell_type": "code",
   "execution_count": null,
   "metadata": {},
   "outputs": [],
   "source": []
  },
  {
   "cell_type": "code",
   "execution_count": null,
   "metadata": {},
   "outputs": [],
   "source": []
  },
  {
   "cell_type": "code",
   "execution_count": null,
   "metadata": {},
   "outputs": [],
   "source": []
  },
  {
   "cell_type": "code",
   "execution_count": null,
   "metadata": {},
   "outputs": [],
   "source": []
  },
  {
   "cell_type": "code",
   "execution_count": null,
   "metadata": {},
   "outputs": [],
   "source": []
  }
 ],
 "metadata": {
  "kernelspec": {
   "display_name": "dl_proect",
   "language": "python",
   "name": "dl_proect"
  },
  "language_info": {
   "codemirror_mode": {
    "name": "ipython",
    "version": 3
   },
   "file_extension": ".py",
   "mimetype": "text/x-python",
   "name": "python",
   "nbconvert_exporter": "python",
   "pygments_lexer": "ipython3",
   "version": "3.9.19"
  }
 },
 "nbformat": 4,
 "nbformat_minor": 4
}
